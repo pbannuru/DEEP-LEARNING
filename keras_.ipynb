{
  "nbformat": 4,
  "nbformat_minor": 0,
  "metadata": {
    "colab": {
      "provenance": [],
      "collapsed_sections": [],
      "toc_visible": true,
      "authorship_tag": "ABX9TyMJniDI/3gqkhqKJXeVepoO",
      "include_colab_link": true
    },
    "kernelspec": {
      "name": "python3",
      "display_name": "Python 3"
    },
    "language_info": {
      "name": "python"
    },
    "accelerator": "GPU"
  },
  "cells": [
    {
      "cell_type": "markdown",
      "metadata": {
        "id": "view-in-github",
        "colab_type": "text"
      },
      "source": [
        "<a href=\"https://colab.research.google.com/github/pbannuru/DEEP-LEARNING/blob/main/keras_.ipynb\" target=\"_parent\"><img src=\"https://colab.research.google.com/assets/colab-badge.svg\" alt=\"Open In Colab\"/></a>"
      ]
    },
    {
      "cell_type": "code",
      "execution_count": 1,
      "metadata": {
        "id": "70G52DS---kB"
      },
      "outputs": [],
      "source": [
        "import pandas as pd \n",
        "import numpy as np \n",
        "import matplotlib.pyplot as plt \n",
        "import seaborn as sns \n",
        "import tensorflow as tf "
      ]
    },
    {
      "cell_type": "code",
      "source": [
        "tf.__version__ "
      ],
      "metadata": {
        "colab": {
          "base_uri": "https://localhost:8080/",
          "height": 36
        },
        "id": "0KsqYfCK_Sf7",
        "outputId": "2830b3a8-e45a-40a9-b061-f130ff958675"
      },
      "execution_count": 2,
      "outputs": [
        {
          "output_type": "execute_result",
          "data": {
            "text/plain": [
              "'2.8.2'"
            ],
            "application/vnd.google.colaboratory.intrinsic+json": {
              "type": "string"
            }
          },
          "metadata": {},
          "execution_count": 2
        }
      ]
    },
    {
      "cell_type": "code",
      "source": [
        "tf.config.list_physical_devices(\"GPU\")"
      ],
      "metadata": {
        "colab": {
          "base_uri": "https://localhost:8080/"
        },
        "id": "THzB4ach_SiZ",
        "outputId": "a8ce37ea-e052-4828-9518-0ecd3130b6fb"
      },
      "execution_count": 3,
      "outputs": [
        {
          "output_type": "execute_result",
          "data": {
            "text/plain": [
              "[PhysicalDevice(name='/physical_device:GPU:0', device_type='GPU')]"
            ]
          },
          "metadata": {},
          "execution_count": 3
        }
      ]
    },
    {
      "cell_type": "code",
      "source": [
        "!nvidia-smi\n"
      ],
      "metadata": {
        "colab": {
          "base_uri": "https://localhost:8080/"
        },
        "id": "sJyV0hos_Sk3",
        "outputId": "75acb736-38a1-47c3-af16-dacfcd95a68a"
      },
      "execution_count": 4,
      "outputs": [
        {
          "output_type": "stream",
          "name": "stdout",
          "text": [
            "Thu Oct  6 11:11:11 2022       \n",
            "+-----------------------------------------------------------------------------+\n",
            "| NVIDIA-SMI 460.32.03    Driver Version: 460.32.03    CUDA Version: 11.2     |\n",
            "|-------------------------------+----------------------+----------------------+\n",
            "| GPU  Name        Persistence-M| Bus-Id        Disp.A | Volatile Uncorr. ECC |\n",
            "| Fan  Temp  Perf  Pwr:Usage/Cap|         Memory-Usage | GPU-Util  Compute M. |\n",
            "|                               |                      |               MIG M. |\n",
            "|===============================+======================+======================|\n",
            "|   0  Tesla T4            Off  | 00000000:00:04.0 Off |                    0 |\n",
            "| N/A   54C    P8     9W /  70W |      3MiB / 15109MiB |      0%      Default |\n",
            "|                               |                      |                  N/A |\n",
            "+-------------------------------+----------------------+----------------------+\n",
            "                                                                               \n",
            "+-----------------------------------------------------------------------------+\n",
            "| Processes:                                                                  |\n",
            "|  GPU   GI   CI        PID   Type   Process name                  GPU Memory |\n",
            "|        ID   ID                                                   Usage      |\n",
            "|=============================================================================|\n",
            "|  No running processes found                                                 |\n",
            "+-----------------------------------------------------------------------------+\n"
          ]
        }
      ]
    },
    {
      "cell_type": "code",
      "source": [
        "tf.keras.__version__"
      ],
      "metadata": {
        "colab": {
          "base_uri": "https://localhost:8080/",
          "height": 36
        },
        "id": "egvlu19z_SnT",
        "outputId": "1b1b6a3c-a799-4947-dfe4-cc83fda2a4ad"
      },
      "execution_count": 5,
      "outputs": [
        {
          "output_type": "execute_result",
          "data": {
            "text/plain": [
              "'2.8.0'"
            ],
            "application/vnd.google.colaboratory.intrinsic+json": {
              "type": "string"
            }
          },
          "metadata": {},
          "execution_count": 5
        }
      ]
    },
    {
      "cell_type": "code",
      "source": [
        "mnist = tf.keras.datasets.mnist"
      ],
      "metadata": {
        "id": "QlaiK6Ls_Srs"
      },
      "execution_count": 58,
      "outputs": []
    },
    {
      "cell_type": "code",
      "source": [
        "(x_train,y_train),(x_test,y_test)=mnist.load_data()"
      ],
      "metadata": {
        "id": "YXcLZUP-_St2"
      },
      "execution_count": 59,
      "outputs": []
    },
    {
      "cell_type": "code",
      "source": [
        "x_train.shape"
      ],
      "metadata": {
        "colab": {
          "base_uri": "https://localhost:8080/"
        },
        "id": "gTdrrmuzCtvX",
        "outputId": "060be7f5-5568-42bc-d7df-9d22389153ee"
      },
      "execution_count": 60,
      "outputs": [
        {
          "output_type": "execute_result",
          "data": {
            "text/plain": [
              "(60000, 28, 28)"
            ]
          },
          "metadata": {},
          "execution_count": 60
        }
      ]
    },
    {
      "cell_type": "code",
      "source": [
        "y_train.shape"
      ],
      "metadata": {
        "colab": {
          "base_uri": "https://localhost:8080/"
        },
        "id": "nmYgAfAzOhhl",
        "outputId": "3ecafc87-3e6b-4473-f7cc-1a5ebd745d96"
      },
      "execution_count": 61,
      "outputs": [
        {
          "output_type": "execute_result",
          "data": {
            "text/plain": [
              "(60000,)"
            ]
          },
          "metadata": {},
          "execution_count": 61
        }
      ]
    },
    {
      "cell_type": "code",
      "source": [
        "img = x_train[0]\n",
        "img.shape"
      ],
      "metadata": {
        "colab": {
          "base_uri": "https://localhost:8080/"
        },
        "id": "hLRWB0EZCtx1",
        "outputId": "8962a271-eaee-4a55-f278-8d2956be246e"
      },
      "execution_count": 62,
      "outputs": [
        {
          "output_type": "execute_result",
          "data": {
            "text/plain": [
              "(28, 28)"
            ]
          },
          "metadata": {},
          "execution_count": 62
        }
      ]
    },
    {
      "cell_type": "code",
      "source": [
        "plt.imshow(img,cmap='binary')"
      ],
      "metadata": {
        "colab": {
          "base_uri": "https://localhost:8080/",
          "height": 282
        },
        "id": "uUfNmTcnD0wl",
        "outputId": "629f576b-3838-4ad9-c82c-be906e10ae22"
      },
      "execution_count": 63,
      "outputs": [
        {
          "output_type": "execute_result",
          "data": {
            "text/plain": [
              "<matplotlib.image.AxesImage at 0x7f989aabf550>"
            ]
          },
          "metadata": {},
          "execution_count": 63
        },
        {
          "output_type": "display_data",
          "data": {
            "text/plain": [
              "<Figure size 432x288 with 1 Axes>"
            ],
            "image/png": "[encoded data removed]"
          },
          "metadata": {
            "needs_background": "light"
          }
        }
      ]
    },
    {
      "cell_type": "code",
      "source": [
        "plt.figure(figsize=(20,20))\n",
        "sns.heatmap(img/255,annot=True,cmap='binary')"
      ],
      "metadata": {
        "colab": {
          "base_uri": "https://localhost:8080/",
          "height": 702
        },
        "id": "muSiNQJcD0zU",
        "outputId": "d3ec411a-22b4-4957-ebd8-ff1526bb4dbe"
      },
      "execution_count": 18,
      "outputs": [
        {
          "output_type": "execute_result",
          "data": {
            "text/plain": [
              "<matplotlib.axes._subplots.AxesSubplot at 0x7f989531e890>"
            ]
          },
          "metadata": {},
          "execution_count": 18
        },
        {
          "output_type": "display_data",
          "data": {
            "text/plain": [
              "<Figure size 1440x1440 with 2 Axes>"
            ],
            "image/png": "[encoded data removed]"
          },
          "metadata": {
            "needs_background": "light"
          }
        }
      ]
    },
    {
      "cell_type": "code",
      "source": [
        "# creating valid and training set\n",
        "x_valid,x_train = x_train[:5000]/255,x_train[5000:]/255\n",
        "y_valid,y_train = y_train[:5000],y_train[5000:]\n",
        "\n",
        "x_test = x_test /255"
      ],
      "metadata": {
        "id": "cSfDmq-2D016"
      },
      "execution_count": 64,
      "outputs": []
    },
    {
      "cell_type": "code",
      "source": [
        "x_train.shape\n"
      ],
      "metadata": {
        "colab": {
          "base_uri": "https://localhost:8080/"
        },
        "id": "8mPXARLSOrR3",
        "outputId": "a09a83f3-24bb-4839-b8d3-13d60c61da09"
      },
      "execution_count": 65,
      "outputs": [
        {
          "output_type": "execute_result",
          "data": {
            "text/plain": [
              "(55000, 28, 28)"
            ]
          },
          "metadata": {},
          "execution_count": 65
        }
      ]
    },
    {
      "cell_type": "code",
      "source": [
        "y_train.shape"
      ],
      "metadata": {
        "colab": {
          "base_uri": "https://localhost:8080/"
        },
        "id": "MDdVoSshOuc_",
        "outputId": "7cb450cd-8b0f-4740-f065-3cf08f04061d"
      },
      "execution_count": 66,
      "outputs": [
        {
          "output_type": "execute_result",
          "data": {
            "text/plain": [
              "(55000,)"
            ]
          },
          "metadata": {},
          "execution_count": 66
        }
      ]
    },
    {
      "cell_type": "code",
      "source": [
        "layers = [\n",
        "    tf.keras.layers.Flatten(input_shape=(28,28),name='input_layer'),\n",
        "    tf.keras.layers.Dense(300,activation='relu',name='HL'),\n",
        "    tf.keras.layers.Dense(100,activation='relu',name='HL2'),\n",
        "    tf.keras.layers.Dense(10,activation='softmax',name='ouput')\n",
        "          ]"
      ],
      "metadata": {
        "id": "jDc9scYUCt2o"
      },
      "execution_count": 67,
      "outputs": []
    },
    {
      "cell_type": "code",
      "source": [
        "model =tf.keras.models.Sequential(layers) # for connecting all neurons in all layers"
      ],
      "metadata": {
        "id": "H_GztdFuCt4-"
      },
      "execution_count": 68,
      "outputs": []
    },
    {
      "cell_type": "code",
      "source": [
        "model.layers"
      ],
      "metadata": {
        "colab": {
          "base_uri": "https://localhost:8080/"
        },
        "id": "BY26IVStCt7b",
        "outputId": "f2ccf80a-427b-480f-b99c-f78bb2d7523d"
      },
      "execution_count": 69,
      "outputs": [
        {
          "output_type": "execute_result",
          "data": {
            "text/plain": [
              "[<keras.layers.core.flatten.Flatten at 0x7f9894988750>,\n",
              " <keras.layers.core.dense.Dense at 0x7f98924e3910>,\n",
              " <keras.layers.core.dense.Dense at 0x7f989254ce50>,\n",
              " <keras.layers.core.dense.Dense at 0x7f98924c2c50>]"
            ]
          },
          "metadata": {},
          "execution_count": 69
        }
      ]
    },
    {
      "cell_type": "code",
      "source": [
        "model.summary()"
      ],
      "metadata": {
        "colab": {
          "base_uri": "https://localhost:8080/"
        },
        "id": "OGc7oKH6Ct95",
        "outputId": "1ec72020-0beb-4335-9e29-4cf888789cfd"
      },
      "execution_count": 70,
      "outputs": [
        {
          "output_type": "stream",
          "name": "stdout",
          "text": [
            "Model: \"sequential_2\"\n",
            "_________________________________________________________________\n",
            " Layer (type)                Output Shape              Param #   \n",
            "=================================================================\n",
            " input_layer (Flatten)       (None, 784)               0         \n",
            "                                                                 \n",
            " HL (Dense)                  (None, 300)               235500    \n",
            "                                                                 \n",
            " HL2 (Dense)                 (None, 100)               30100     \n",
            "                                                                 \n",
            " ouput (Dense)               (None, 10)                1010      \n",
            "                                                                 \n",
            "=================================================================\n",
            "Total params: 266,610\n",
            "Trainable params: 266,610\n",
            "Non-trainable params: 0\n",
            "_________________________________________________________________\n"
          ]
        }
      ]
    },
    {
      "cell_type": "markdown",
      "source": [
        "# 28*28=784 = input from matrix to flatten layer\n",
        "# 784*300 weights+300 bias = 235500\n",
        "\n",
        "# 300*100+100 =30100"
      ],
      "metadata": {
        "id": "3IbeFyxEJIVn"
      }
    },
    {
      "cell_type": "code",
      "source": [
        "weights,bias=model.layers[1].get_weights()"
      ],
      "metadata": {
        "id": "w8WRLFAPCuCS"
      },
      "execution_count": 71,
      "outputs": []
    },
    {
      "cell_type": "code",
      "source": [
        "print(weights.shape)\n",
        "print(bias.shape)"
      ],
      "metadata": {
        "colab": {
          "base_uri": "https://localhost:8080/"
        },
        "id": "9njjMNSQJ2H5",
        "outputId": "91b58297-6aab-40f7-b2a7-408d1096c243"
      },
      "execution_count": 72,
      "outputs": [
        {
          "output_type": "stream",
          "name": "stdout",
          "text": [
            "(784, 300)\n",
            "(300,)\n"
          ]
        }
      ]
    },
    {
      "cell_type": "code",
      "source": [
        "print(weights)\n"
      ],
      "metadata": {
        "colab": {
          "base_uri": "https://localhost:8080/"
        },
        "id": "ZAKNx_D-J2Kh",
        "outputId": "29886b04-caf9-4a55-be99-bd4698f9b22d"
      },
      "execution_count": 73,
      "outputs": [
        {
          "output_type": "stream",
          "name": "stdout",
          "text": [
            "[[-0.07383358 -0.06817714 -0.02556529 ... -0.06386133 -0.0578846\n",
            "   0.00618352]\n",
            " [-0.0380605  -0.07112798  0.04707094 ... -0.03552834 -0.06970416\n",
            "   0.01268037]\n",
            " [ 0.0141694  -0.03374495  0.02267737 ...  0.05989501 -0.05312897\n",
            "   0.0249399 ]\n",
            " ...\n",
            " [-0.03876621 -0.02801002  0.04222682 ... -0.00499682 -0.01294498\n",
            "   0.04073145]\n",
            " [ 0.03228656  0.06737456 -0.030506   ... -0.04414773  0.00521193\n",
            "  -0.03345572]\n",
            " [ 0.07085338 -0.06774159 -0.06542093 ... -0.00550283  0.07286425\n",
            "  -0.03429694]]\n"
          ]
        }
      ]
    },
    {
      "cell_type": "code",
      "source": [
        "print(bias)"
      ],
      "metadata": {
        "colab": {
          "base_uri": "https://localhost:8080/"
        },
        "id": "ZE5ypM_zJ2M8",
        "outputId": "1003e9af-9366-4d84-adc8-76cd1068e903"
      },
      "execution_count": 36,
      "outputs": [
        {
          "output_type": "stream",
          "name": "stdout",
          "text": [
            "[0. 0. 0. 0. 0. 0. 0. 0. 0. 0. 0. 0. 0. 0. 0. 0. 0. 0. 0. 0. 0. 0. 0. 0.\n",
            " 0. 0. 0. 0. 0. 0. 0. 0. 0. 0. 0. 0. 0. 0. 0. 0. 0. 0. 0. 0. 0. 0. 0. 0.\n",
            " 0. 0. 0. 0. 0. 0. 0. 0. 0. 0. 0. 0. 0. 0. 0. 0. 0. 0. 0. 0. 0. 0. 0. 0.\n",
            " 0. 0. 0. 0. 0. 0. 0. 0. 0. 0. 0. 0. 0. 0. 0. 0. 0. 0. 0. 0. 0. 0. 0. 0.\n",
            " 0. 0. 0. 0. 0. 0. 0. 0. 0. 0. 0. 0. 0. 0. 0. 0. 0. 0. 0. 0. 0. 0. 0. 0.\n",
            " 0. 0. 0. 0. 0. 0. 0. 0. 0. 0. 0. 0. 0. 0. 0. 0. 0. 0. 0. 0. 0. 0. 0. 0.\n",
            " 0. 0. 0. 0. 0. 0. 0. 0. 0. 0. 0. 0. 0. 0. 0. 0. 0. 0. 0. 0. 0. 0. 0. 0.\n",
            " 0. 0. 0. 0. 0. 0. 0. 0. 0. 0. 0. 0. 0. 0. 0. 0. 0. 0. 0. 0. 0. 0. 0. 0.\n",
            " 0. 0. 0. 0. 0. 0. 0. 0. 0. 0. 0. 0. 0. 0. 0. 0. 0. 0. 0. 0. 0. 0. 0. 0.\n",
            " 0. 0. 0. 0. 0. 0. 0. 0. 0. 0. 0. 0. 0. 0. 0. 0. 0. 0. 0. 0. 0. 0. 0. 0.\n",
            " 0. 0. 0. 0. 0. 0. 0. 0. 0. 0. 0. 0. 0. 0. 0. 0. 0. 0. 0. 0. 0. 0. 0. 0.\n",
            " 0. 0. 0. 0. 0. 0. 0. 0. 0. 0. 0. 0. 0. 0. 0. 0. 0. 0. 0. 0. 0. 0. 0. 0.\n",
            " 0. 0. 0. 0. 0. 0. 0. 0. 0. 0. 0. 0.]\n"
          ]
        }
      ]
    },
    {
      "cell_type": "code",
      "source": [
        "loss_function_ = \"sparse_categorical_crossentropy\"   # loss = y-y_hat\n",
        "optimiser_ = \"SGD\"\n",
        "metrics_=['accuracy']\n",
        "\n",
        "model.compile(loss=loss_function_,\n",
        "              optimizer=optimiser_,\n",
        "              metrics=metrics_)"
      ],
      "metadata": {
        "id": "UixebuSvJ2PV"
      },
      "execution_count": 74,
      "outputs": []
    },
    {
      "cell_type": "code",
      "source": [
        "EPOCHS=30\n",
        "validation = (x_valid,y_valid)\n",
        "history=model.fit(x_train,y_train,epochs=EPOCHS,validation_data=validation)  # after every epoch it will check result with validation data"
      ],
      "metadata": {
        "colab": {
          "base_uri": "https://localhost:8080/"
        },
        "id": "MpwYjrOQJ2RT",
        "outputId": "b86c461b-a96e-4a03-d70f-062e2521df3c"
      },
      "execution_count": 77,
      "outputs": [
        {
          "output_type": "stream",
          "name": "stdout",
          "text": [
            "Epoch 1/30\n",
            "1719/1719 [==============================] - 5s 3ms/step - loss: 0.1863 - accuracy: 0.9470 - val_loss: 0.1655 - val_accuracy: 0.9528\n",
            "Epoch 2/30\n",
            "1719/1719 [==============================] - 5s 3ms/step - loss: 0.1643 - accuracy: 0.9534 - val_loss: 0.1494 - val_accuracy: 0.9590\n",
            "Epoch 3/30\n",
            "1719/1719 [==============================] - 5s 3ms/step - loss: 0.1461 - accuracy: 0.9584 - val_loss: 0.1391 - val_accuracy: 0.9604\n",
            "Epoch 4/30\n",
            "1719/1719 [==============================] - 4s 3ms/step - loss: 0.1316 - accuracy: 0.9625 - val_loss: 0.1246 - val_accuracy: 0.9642\n",
            "Epoch 5/30\n",
            "1719/1719 [==============================] - 5s 3ms/step - loss: 0.1198 - accuracy: 0.9662 - val_loss: 0.1187 - val_accuracy: 0.9668\n",
            "Epoch 6/30\n",
            "1719/1719 [==============================] - 5s 3ms/step - loss: 0.1100 - accuracy: 0.9694 - val_loss: 0.1128 - val_accuracy: 0.9688\n",
            "Epoch 7/30\n",
            "1719/1719 [==============================] - 5s 3ms/step - loss: 0.1011 - accuracy: 0.9721 - val_loss: 0.1056 - val_accuracy: 0.9698\n",
            "Epoch 8/30\n",
            "1719/1719 [==============================] - 5s 3ms/step - loss: 0.0934 - accuracy: 0.9739 - val_loss: 0.1017 - val_accuracy: 0.9718\n",
            "Epoch 9/30\n",
            "1719/1719 [==============================] - 5s 3ms/step - loss: 0.0863 - accuracy: 0.9761 - val_loss: 0.0987 - val_accuracy: 0.9712\n",
            "Epoch 10/30\n",
            "1719/1719 [==============================] - 5s 3ms/step - loss: 0.0802 - accuracy: 0.9778 - val_loss: 0.0931 - val_accuracy: 0.9750\n",
            "Epoch 11/30\n",
            "1719/1719 [==============================] - 4s 3ms/step - loss: 0.0748 - accuracy: 0.9793 - val_loss: 0.0916 - val_accuracy: 0.9742\n",
            "Epoch 12/30\n",
            "1719/1719 [==============================] - 5s 3ms/step - loss: 0.0698 - accuracy: 0.9806 - val_loss: 0.0906 - val_accuracy: 0.9748\n",
            "Epoch 13/30\n",
            "1719/1719 [==============================] - 4s 3ms/step - loss: 0.0651 - accuracy: 0.9820 - val_loss: 0.0842 - val_accuracy: 0.9768\n",
            "Epoch 14/30\n",
            "1719/1719 [==============================] - 4s 3ms/step - loss: 0.0613 - accuracy: 0.9832 - val_loss: 0.0887 - val_accuracy: 0.9760\n",
            "Epoch 15/30\n",
            "1719/1719 [==============================] - 4s 3ms/step - loss: 0.0572 - accuracy: 0.9847 - val_loss: 0.0823 - val_accuracy: 0.9766\n",
            "Epoch 16/30\n",
            "1719/1719 [==============================] - 4s 3ms/step - loss: 0.0539 - accuracy: 0.9855 - val_loss: 0.0807 - val_accuracy: 0.9770\n",
            "Epoch 17/30\n",
            "1719/1719 [==============================] - 4s 3ms/step - loss: 0.0508 - accuracy: 0.9865 - val_loss: 0.0797 - val_accuracy: 0.9758\n",
            "Epoch 18/30\n",
            "1719/1719 [==============================] - 4s 3ms/step - loss: 0.0479 - accuracy: 0.9873 - val_loss: 0.0759 - val_accuracy: 0.9786\n",
            "Epoch 19/30\n",
            "1719/1719 [==============================] - 5s 3ms/step - loss: 0.0448 - accuracy: 0.9887 - val_loss: 0.0757 - val_accuracy: 0.9776\n",
            "Epoch 20/30\n",
            "1719/1719 [==============================] - 4s 3ms/step - loss: 0.0424 - accuracy: 0.9890 - val_loss: 0.0722 - val_accuracy: 0.9798\n",
            "Epoch 21/30\n",
            "1719/1719 [==============================] - 4s 3ms/step - loss: 0.0403 - accuracy: 0.9894 - val_loss: 0.0738 - val_accuracy: 0.9784\n",
            "Epoch 22/30\n",
            "1719/1719 [==============================] - 4s 3ms/step - loss: 0.0380 - accuracy: 0.9906 - val_loss: 0.0718 - val_accuracy: 0.9798\n",
            "Epoch 23/30\n",
            "1719/1719 [==============================] - 5s 3ms/step - loss: 0.0358 - accuracy: 0.9909 - val_loss: 0.0726 - val_accuracy: 0.9794\n",
            "Epoch 24/30\n",
            "1719/1719 [==============================] - 5s 3ms/step - loss: 0.0339 - accuracy: 0.9915 - val_loss: 0.0717 - val_accuracy: 0.9780\n",
            "Epoch 25/30\n",
            "1719/1719 [==============================] - 5s 3ms/step - loss: 0.0322 - accuracy: 0.9923 - val_loss: 0.0725 - val_accuracy: 0.9804\n",
            "Epoch 26/30\n",
            "1719/1719 [==============================] - 4s 3ms/step - loss: 0.0304 - accuracy: 0.9927 - val_loss: 0.0711 - val_accuracy: 0.9786\n",
            "Epoch 27/30\n",
            "1719/1719 [==============================] - 4s 3ms/step - loss: 0.0287 - accuracy: 0.9933 - val_loss: 0.0694 - val_accuracy: 0.9806\n",
            "Epoch 28/30\n",
            "1719/1719 [==============================] - 5s 3ms/step - loss: 0.0273 - accuracy: 0.9938 - val_loss: 0.0692 - val_accuracy: 0.9800\n",
            "Epoch 29/30\n",
            "1719/1719 [==============================] - 5s 3ms/step - loss: 0.0258 - accuracy: 0.9941 - val_loss: 0.0685 - val_accuracy: 0.9794\n",
            "Epoch 30/30\n",
            "1719/1719 [==============================] - 5s 3ms/step - loss: 0.0244 - accuracy: 0.9948 - val_loss: 0.0694 - val_accuracy: 0.9810\n"
          ]
        }
      ]
    },
    {
      "cell_type": "markdown",
      "source": [
        "# ->55000/32=1719 batches (steps per epoch) , each has 32 images \n",
        "# ->32 is default"
      ],
      "metadata": {
        "id": "TGfv7gl4P1UH"
      }
    },
    {
      "cell_type": "code",
      "source": [
        "result_df=pd.DataFrame(history.history)"
      ],
      "metadata": {
        "id": "V9v_JLulPNqy"
      },
      "execution_count": 80,
      "outputs": []
    },
    {
      "cell_type": "code",
      "source": [
        "result_df.plot(figsize=(10,7))\n",
        "plt.grid(True)\n",
        "plt.show()"
      ],
      "metadata": {
        "colab": {
          "base_uri": "https://localhost:8080/",
          "height": 428
        },
        "id": "VTFkUQAPVH5S",
        "outputId": "5aa29537-d7a7-442b-bd2d-4dc982ee9a58"
      },
      "execution_count": 83,
      "outputs": [
        {
          "output_type": "display_data",
          "data": {
            "text/plain": [
              "<Figure size 720x504 with 1 Axes>"
            ],
            "image/png": "[encoded data removed]"
          },
          "metadata": {
            "needs_background": "light"
          }
        }
      ]
    },
    {
      "cell_type": "code",
      "source": [
        "model.evaluate(x_test,y_test)"
      ],
      "metadata": {
        "colab": {
          "base_uri": "https://localhost:8080/"
        },
        "id": "n8J6AZ_rVH7z",
        "outputId": "c6baa79d-e46c-4ecc-abae-ecbb3efc8e89"
      },
      "execution_count": 84,
      "outputs": [
        {
          "output_type": "stream",
          "name": "stdout",
          "text": [
            "313/313 [==============================] - 1s 2ms/step - loss: 0.0683 - accuracy: 0.9794\n"
          ]
        },
        {
          "output_type": "execute_result",
          "data": {
            "text/plain": [
              "[0.06829407066106796, 0.9793999791145325]"
            ]
          },
          "metadata": {},
          "execution_count": 84
        }
      ]
    },
    {
      "cell_type": "code",
      "source": [
        "x_test.shape[0]/32"
      ],
      "metadata": {
        "colab": {
          "base_uri": "https://localhost:8080/"
        },
        "id": "5wRMq01kVH-N",
        "outputId": "c79570fd-dc91-4ebb-f117-105f031d5588"
      },
      "execution_count": 86,
      "outputs": [
        {
          "output_type": "execute_result",
          "data": {
            "text/plain": [
              "312.5"
            ]
          },
          "metadata": {},
          "execution_count": 86
        }
      ]
    },
    {
      "cell_type": "code",
      "source": [
        "model.save(\"test.h5\")"
      ],
      "metadata": {
        "id": "zfzu_SntVIAR"
      },
      "execution_count": 87,
      "outputs": []
    },
    {
      "cell_type": "code",
      "source": [],
      "metadata": {
        "id": "bzuYMqdaPNtf"
      },
      "execution_count": null,
      "outputs": []
    },
    {
      "cell_type": "code",
      "source": [],
      "metadata": {
        "id": "qT_urt_jPNvq"
      },
      "execution_count": null,
      "outputs": []
    },
    {
      "cell_type": "code",
      "source": [],
      "metadata": {
        "id": "od6-urn9PN2j"
      },
      "execution_count": null,
      "outputs": []
    },
    {
      "cell_type": "code",
      "source": [],
      "metadata": {
        "id": "v77AmLWcVp2d"
      },
      "execution_count": null,
      "outputs": []
    },
    {
      "cell_type": "code",
      "source": [],
      "metadata": {
        "id": "b2NSNwXfVp48"
      },
      "execution_count": null,
      "outputs": []
    },
    {
      "cell_type": "code",
      "source": [],
      "metadata": {
        "id": "mQim8NlhVp7G"
      },
      "execution_count": null,
      "outputs": []
    },
    {
      "cell_type": "code",
      "source": [],
      "metadata": {
        "id": "abmQC2eFVp9Y"
      },
      "execution_count": null,
      "outputs": []
    },
    {
      "cell_type": "code",
      "source": [],
      "metadata": {
        "id": "FGtrixJ3Vp_V"
      },
      "execution_count": null,
      "outputs": []
    }
  ]
}