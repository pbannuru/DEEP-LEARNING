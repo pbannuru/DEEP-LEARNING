{
  "nbformat": 4,
  "nbformat_minor": 0,
  "metadata": {
    "colab": {
      "provenance": [],
      "collapsed_sections": [],
      "authorship_tag": "ABX9TyP+WvcH55e+dzGcQT1CMHH6",
      "include_colab_link": true
    },
    "kernelspec": {
      "name": "python3",
      "display_name": "Python 3"
    },
    "language_info": {
      "name": "python"
    },
    "accelerator": "GPU"
  },
  "cells": [
    {
      "cell_type": "markdown",
      "metadata": {
        "id": "view-in-github",
        "colab_type": "text"
      },
      "source": [
        "<a href=\"https://colab.research.google.com/github/pbannuru/DEEP-LEARNING/blob/main/keras_.ipynb\" target=\"_parent\"><img src=\"https://colab.research.google.com/assets/colab-badge.svg\" alt=\"Open In Colab\"/></a>"
      ]
    },
    {
      "cell_type": "code",
      "execution_count": 1,
      "metadata": {
        "id": "70G52DS---kB"
      },
      "outputs": [],
      "source": [
        "import pandas as pd \n",
        "import numpy as np \n",
        "import matplotlib.pyplot as plt \n",
        "import seaborn as sns \n",
        "import tensorflow as tf "
      ]
    },
    {
      "cell_type": "code",
      "source": [
        "tf.__version__ "
      ],
      "metadata": {
        "colab": {
          "base_uri": "https://localhost:8080/",
          "height": 36
        },
        "id": "0KsqYfCK_Sf7",
        "outputId": "6f861314-3de9-4e3b-8967-9e9a4ed7eb56"
      },
      "execution_count": 2,
      "outputs": [
        {
          "output_type": "execute_result",
          "data": {
            "text/plain": [
              "'2.8.2'"
            ],
            "application/vnd.google.colaboratory.intrinsic+json": {
              "type": "string"
            }
          },
          "metadata": {},
          "execution_count": 2
        }
      ]
    },
    {
      "cell_type": "code",
      "source": [
        "tf.config.list_physical_devices(\"GPU\")"
      ],
      "metadata": {
        "colab": {
          "base_uri": "https://localhost:8080/"
        },
        "id": "THzB4ach_SiZ",
        "outputId": "2d586e94-6b4c-4b8d-cf15-a221ba68a46d"
      },
      "execution_count": 3,
      "outputs": [
        {
          "output_type": "execute_result",
          "data": {
            "text/plain": [
              "[PhysicalDevice(name='/physical_device:GPU:0', device_type='GPU')]"
            ]
          },
          "metadata": {},
          "execution_count": 3
        }
      ]
    },
    {
      "cell_type": "code",
      "source": [
        "!nvidia-smi\n"
      ],
      "metadata": {
        "colab": {
          "base_uri": "https://localhost:8080/"
        },
        "id": "sJyV0hos_Sk3",
        "outputId": "9d1fc372-0f45-457c-9180-e2e49430a4f8"
      },
      "execution_count": 4,
      "outputs": [
        {
          "output_type": "stream",
          "name": "stdout",
          "text": [
            "Thu Oct  6 13:23:40 2022       \n",
            "+-----------------------------------------------------------------------------+\n",
            "| NVIDIA-SMI 460.32.03    Driver Version: 460.32.03    CUDA Version: 11.2     |\n",
            "|-------------------------------+----------------------+----------------------+\n",
            "| GPU  Name        Persistence-M| Bus-Id        Disp.A | Volatile Uncorr. ECC |\n",
            "| Fan  Temp  Perf  Pwr:Usage/Cap|         Memory-Usage | GPU-Util  Compute M. |\n",
            "|                               |                      |               MIG M. |\n",
            "|===============================+======================+======================|\n",
            "|   0  Tesla T4            Off  | 00000000:00:04.0 Off |                    0 |\n",
            "| N/A   52C    P8    10W /  70W |      3MiB / 15109MiB |      0%      Default |\n",
            "|                               |                      |                  N/A |\n",
            "+-------------------------------+----------------------+----------------------+\n",
            "                                                                               \n",
            "+-----------------------------------------------------------------------------+\n",
            "| Processes:                                                                  |\n",
            "|  GPU   GI   CI        PID   Type   Process name                  GPU Memory |\n",
            "|        ID   ID                                                   Usage      |\n",
            "|=============================================================================|\n",
            "|  No running processes found                                                 |\n",
            "+-----------------------------------------------------------------------------+\n"
          ]
        }
      ]
    },
    {
      "cell_type": "code",
      "source": [
        "tf.keras.__version__"
      ],
      "metadata": {
        "colab": {
          "base_uri": "https://localhost:8080/",
          "height": 36
        },
        "id": "egvlu19z_SnT",
        "outputId": "c30c9479-2e8b-41cb-8e2a-585af5cb1512"
      },
      "execution_count": 5,
      "outputs": [
        {
          "output_type": "execute_result",
          "data": {
            "text/plain": [
              "'2.8.0'"
            ],
            "application/vnd.google.colaboratory.intrinsic+json": {
              "type": "string"
            }
          },
          "metadata": {},
          "execution_count": 5
        }
      ]
    },
    {
      "cell_type": "code",
      "source": [
        "mnist = tf.keras.datasets.mnist"
      ],
      "metadata": {
        "id": "QlaiK6Ls_Srs"
      },
      "execution_count": 6,
      "outputs": []
    },
    {
      "cell_type": "code",
      "source": [
        "(x_train,y_train),(x_test,y_test)=mnist.load_data()"
      ],
      "metadata": {
        "id": "YXcLZUP-_St2"
      },
      "execution_count": 7,
      "outputs": []
    },
    {
      "cell_type": "code",
      "source": [
        "x_train.shape"
      ],
      "metadata": {
        "colab": {
          "base_uri": "https://localhost:8080/"
        },
        "id": "gTdrrmuzCtvX",
        "outputId": "61ae7d47-2194-412e-b412-3b2518d21bb0"
      },
      "execution_count": 8,
      "outputs": [
        {
          "output_type": "execute_result",
          "data": {
            "text/plain": [
              "(60000, 28, 28)"
            ]
          },
          "metadata": {},
          "execution_count": 8
        }
      ]
    },
    {
      "cell_type": "code",
      "source": [
        "y_train.shape"
      ],
      "metadata": {
        "colab": {
          "base_uri": "https://localhost:8080/"
        },
        "id": "nmYgAfAzOhhl",
        "outputId": "1c6d9b6d-d499-4b7d-b281-e2dd4f69802a"
      },
      "execution_count": 9,
      "outputs": [
        {
          "output_type": "execute_result",
          "data": {
            "text/plain": [
              "(60000,)"
            ]
          },
          "metadata": {},
          "execution_count": 9
        }
      ]
    },
    {
      "cell_type": "code",
      "source": [
        "img = x_train[0]\n",
        "img.shape"
      ],
      "metadata": {
        "colab": {
          "base_uri": "https://localhost:8080/"
        },
        "id": "hLRWB0EZCtx1",
        "outputId": "8855c625-dbd0-4dcf-fc74-d398efd93593"
      },
      "execution_count": 10,
      "outputs": [
        {
          "output_type": "execute_result",
          "data": {
            "text/plain": [
              "(28, 28)"
            ]
          },
          "metadata": {},
          "execution_count": 10
        }
      ]
    },
    {
      "cell_type": "code",
      "source": [
        "plt.imshow(img,cmap='binary')"
      ],
      "metadata": {
        "colab": {
          "base_uri": "https://localhost:8080/",
          "height": 282
        },
        "id": "uUfNmTcnD0wl",
        "outputId": "3b9d51ff-9232-47eb-c76f-def43063eee4"
      },
      "execution_count": 11,
      "outputs": [
        {
          "output_type": "execute_result",
          "data": {
            "text/plain": [
              "<matplotlib.image.AxesImage at 0x7f1661241350>"
            ]
          },
          "metadata": {},
          "execution_count": 11
        },
        {
          "output_type": "display_data",
          "data": {
            "text/plain": [
              "<Figure size 432x288 with 1 Axes>"
            ],
            "image/png": "[encoded data removed]"
          },
          "metadata": {
            "needs_background": "light"
          }
        }
      ]
    },
    {
      "cell_type": "code",
      "source": [
        "plt.figure(figsize=(20,20))\n",
        "sns.heatmap(img/255,annot=True,cmap='binary')"
      ],
      "metadata": {
        "colab": {
          "base_uri": "https://localhost:8080/",
          "height": 770
        },
        "id": "muSiNQJcD0zU",
        "outputId": "f1f8d03f-b1b2-4d58-fe27-81c8ccd60625"
      },
      "execution_count": 12,
      "outputs": [
        {
          "output_type": "execute_result",
          "data": {
            "text/plain": [
              "<matplotlib.axes._subplots.AxesSubplot at 0x7f16612416d0>"
            ]
          },
          "metadata": {},
          "execution_count": 12
        },
        {
          "output_type": "display_data",
          "data": {
            "text/plain": [
              "<Figure size 1440x1440 with 2 Axes>"
            ],
            "image/png": "[encoded data removed]"
          },
          "metadata": {
            "needs_background": "light"
          }
        }
      ]
    },
    {
      "cell_type": "code",
      "source": [
        "# creating valid and training set\n",
        "x_valid,x_train = x_train[:5000]/255,x_train[5000:]/255\n",
        "y_valid,y_train = y_train[:5000],y_train[5000:]\n",
        "\n",
        "x_test = x_test /255"
      ],
      "metadata": {
        "id": "cSfDmq-2D016"
      },
      "execution_count": 13,
      "outputs": []
    },
    {
      "cell_type": "code",
      "source": [
        "x_train.shape\n"
      ],
      "metadata": {
        "colab": {
          "base_uri": "https://localhost:8080/"
        },
        "id": "8mPXARLSOrR3",
        "outputId": "f466c704-2579-4146-dd87-afeb3a7241bb"
      },
      "execution_count": 14,
      "outputs": [
        {
          "output_type": "execute_result",
          "data": {
            "text/plain": [
              "(55000, 28, 28)"
            ]
          },
          "metadata": {},
          "execution_count": 14
        }
      ]
    },
    {
      "cell_type": "code",
      "source": [
        "y_train.shape"
      ],
      "metadata": {
        "colab": {
          "base_uri": "https://localhost:8080/"
        },
        "id": "MDdVoSshOuc_",
        "outputId": "5586fde6-f675-4737-e24a-46d465c9280c"
      },
      "execution_count": 15,
      "outputs": [
        {
          "output_type": "execute_result",
          "data": {
            "text/plain": [
              "(55000,)"
            ]
          },
          "metadata": {},
          "execution_count": 15
        }
      ]
    },
    {
      "cell_type": "code",
      "source": [
        "layers = [\n",
        "    tf.keras.layers.Flatten(input_shape=(28,28),name='input_layer'),\n",
        "    tf.keras.layers.Dense(300,activation='relu',name='HL'),\n",
        "    tf.keras.layers.Dense(100,activation='relu',name='HL2'),\n",
        "    tf.keras.layers.Dense(10,activation='softmax',name='ouput')\n",
        "          ]"
      ],
      "metadata": {
        "id": "jDc9scYUCt2o"
      },
      "execution_count": 16,
      "outputs": []
    },
    {
      "cell_type": "code",
      "source": [
        "model =tf.keras.models.Sequential(layers) # for connecting all neurons in all layers"
      ],
      "metadata": {
        "id": "H_GztdFuCt4-"
      },
      "execution_count": 17,
      "outputs": []
    },
    {
      "cell_type": "code",
      "source": [
        "model.layers"
      ],
      "metadata": {
        "colab": {
          "base_uri": "https://localhost:8080/"
        },
        "id": "BY26IVStCt7b",
        "outputId": "3e28158f-d77e-493b-dfed-2c653e0193d8"
      },
      "execution_count": 18,
      "outputs": [
        {
          "output_type": "execute_result",
          "data": {
            "text/plain": [
              "[<keras.layers.core.flatten.Flatten at 0x7f1661241790>,\n",
              " <keras.layers.core.dense.Dense at 0x7f1672927ed0>,\n",
              " <keras.layers.core.dense.Dense at 0x7f15f4444590>,\n",
              " <keras.layers.core.dense.Dense at 0x7f15f44448d0>]"
            ]
          },
          "metadata": {},
          "execution_count": 18
        }
      ]
    },
    {
      "cell_type": "code",
      "source": [
        "model.summary()"
      ],
      "metadata": {
        "colab": {
          "base_uri": "https://localhost:8080/"
        },
        "id": "OGc7oKH6Ct95",
        "outputId": "d03f2184-5c15-4962-b10f-0ddac4efa56b"
      },
      "execution_count": 19,
      "outputs": [
        {
          "output_type": "stream",
          "name": "stdout",
          "text": [
            "Model: \"sequential\"\n",
            "_________________________________________________________________\n",
            " Layer (type)                Output Shape              Param #   \n",
            "=================================================================\n",
            " input_layer (Flatten)       (None, 784)               0         \n",
            "                                                                 \n",
            " HL (Dense)                  (None, 300)               235500    \n",
            "                                                                 \n",
            " HL2 (Dense)                 (None, 100)               30100     \n",
            "                                                                 \n",
            " ouput (Dense)               (None, 10)                1010      \n",
            "                                                                 \n",
            "=================================================================\n",
            "Total params: 266,610\n",
            "Trainable params: 266,610\n",
            "Non-trainable params: 0\n",
            "_________________________________________________________________\n"
          ]
        }
      ]
    },
    {
      "cell_type": "markdown",
      "source": [
        "# 28*28=784 = input from matrix to flatten layer\n",
        "# 784*300 weights+300 bias = 235500\n",
        "\n",
        "# 300*100+100 =30100"
      ],
      "metadata": {
        "id": "3IbeFyxEJIVn"
      }
    },
    {
      "cell_type": "code",
      "source": [
        "weights,bias=model.layers[1].get_weights()"
      ],
      "metadata": {
        "id": "w8WRLFAPCuCS"
      },
      "execution_count": 20,
      "outputs": []
    },
    {
      "cell_type": "code",
      "source": [
        "print(weights.shape)\n",
        "print(bias.shape)"
      ],
      "metadata": {
        "colab": {
          "base_uri": "https://localhost:8080/"
        },
        "id": "9njjMNSQJ2H5",
        "outputId": "de1a3c77-4380-42d7-8b4c-74b21f5f5c60"
      },
      "execution_count": 21,
      "outputs": [
        {
          "output_type": "stream",
          "name": "stdout",
          "text": [
            "(784, 300)\n",
            "(300,)\n"
          ]
        }
      ]
    },
    {
      "cell_type": "code",
      "source": [
        "print(weights)\n"
      ],
      "metadata": {
        "colab": {
          "base_uri": "https://localhost:8080/"
        },
        "id": "ZAKNx_D-J2Kh",
        "outputId": "64aae27b-8600-4847-9e9d-b43fb4eb0a47"
      },
      "execution_count": 22,
      "outputs": [
        {
          "output_type": "stream",
          "name": "stdout",
          "text": [
            "[[ 0.02893365  0.02523151  0.00260407 ...  0.036157   -0.05378662\n",
            "  -0.01946151]\n",
            " [-0.05044981 -0.07300315 -0.01756466 ... -0.01217509 -0.01826013\n",
            "   0.05826394]\n",
            " [-0.0007504   0.02442437  0.01305581 ... -0.02549815  0.00515675\n",
            "  -0.02514068]\n",
            " ...\n",
            " [-0.05788855 -0.00977599  0.00707157 ... -0.04893202 -0.04628262\n",
            "  -0.00846379]\n",
            " [-0.01353755 -0.02976055  0.00643945 ... -0.04819517 -0.03085959\n",
            "   0.05753528]\n",
            " [ 0.07219513  0.00736915 -0.0564895  ... -0.05690374  0.06866455\n",
            "   0.05811723]]\n"
          ]
        }
      ]
    },
    {
      "cell_type": "code",
      "source": [
        "print(bias)"
      ],
      "metadata": {
        "colab": {
          "base_uri": "https://localhost:8080/"
        },
        "id": "ZE5ypM_zJ2M8",
        "outputId": "a767b409-60a8-4a4a-bf9e-8692d0864905"
      },
      "execution_count": 23,
      "outputs": [
        {
          "output_type": "stream",
          "name": "stdout",
          "text": [
            "[0. 0. 0. 0. 0. 0. 0. 0. 0. 0. 0. 0. 0. 0. 0. 0. 0. 0. 0. 0. 0. 0. 0. 0.\n",
            " 0. 0. 0. 0. 0. 0. 0. 0. 0. 0. 0. 0. 0. 0. 0. 0. 0. 0. 0. 0. 0. 0. 0. 0.\n",
            " 0. 0. 0. 0. 0. 0. 0. 0. 0. 0. 0. 0. 0. 0. 0. 0. 0. 0. 0. 0. 0. 0. 0. 0.\n",
            " 0. 0. 0. 0. 0. 0. 0. 0. 0. 0. 0. 0. 0. 0. 0. 0. 0. 0. 0. 0. 0. 0. 0. 0.\n",
            " 0. 0. 0. 0. 0. 0. 0. 0. 0. 0. 0. 0. 0. 0. 0. 0. 0. 0. 0. 0. 0. 0. 0. 0.\n",
            " 0. 0. 0. 0. 0. 0. 0. 0. 0. 0. 0. 0. 0. 0. 0. 0. 0. 0. 0. 0. 0. 0. 0. 0.\n",
            " 0. 0. 0. 0. 0. 0. 0. 0. 0. 0. 0. 0. 0. 0. 0. 0. 0. 0. 0. 0. 0. 0. 0. 0.\n",
            " 0. 0. 0. 0. 0. 0. 0. 0. 0. 0. 0. 0. 0. 0. 0. 0. 0. 0. 0. 0. 0. 0. 0. 0.\n",
            " 0. 0. 0. 0. 0. 0. 0. 0. 0. 0. 0. 0. 0. 0. 0. 0. 0. 0. 0. 0. 0. 0. 0. 0.\n",
            " 0. 0. 0. 0. 0. 0. 0. 0. 0. 0. 0. 0. 0. 0. 0. 0. 0. 0. 0. 0. 0. 0. 0. 0.\n",
            " 0. 0. 0. 0. 0. 0. 0. 0. 0. 0. 0. 0. 0. 0. 0. 0. 0. 0. 0. 0. 0. 0. 0. 0.\n",
            " 0. 0. 0. 0. 0. 0. 0. 0. 0. 0. 0. 0. 0. 0. 0. 0. 0. 0. 0. 0. 0. 0. 0. 0.\n",
            " 0. 0. 0. 0. 0. 0. 0. 0. 0. 0. 0. 0.]\n"
          ]
        }
      ]
    },
    {
      "cell_type": "code",
      "source": [
        "loss_function_ = \"sparse_categorical_crossentropy\"   # loss = y-y_hat\n",
        "optimiser_ = \"SGD\"\n",
        "metrics_=['accuracy']\n",
        "\n",
        "model.compile(loss=loss_function_,\n",
        "              optimizer=optimiser_,\n",
        "              metrics=metrics_)"
      ],
      "metadata": {
        "id": "UixebuSvJ2PV"
      },
      "execution_count": 24,
      "outputs": []
    },
    {
      "cell_type": "code",
      "source": [
        "EPOCHS=30\n",
        "validation = (x_valid,y_valid)\n",
        "history=model.fit(x_train,y_train,epochs=EPOCHS,validation_data=validation)  # after every epoch it will check result with validation data"
      ],
      "metadata": {
        "colab": {
          "base_uri": "https://localhost:8080/"
        },
        "id": "MpwYjrOQJ2RT",
        "outputId": "e779882e-3f57-4008-bbad-018c71a381fa"
      },
      "execution_count": 25,
      "outputs": [
        {
          "output_type": "stream",
          "name": "stdout",
          "text": [
            "Epoch 1/30\n",
            "1719/1719 [==============================] - 7s 4ms/step - loss: 0.6102 - accuracy: 0.8424 - val_loss: 0.3047 - val_accuracy: 0.9194\n",
            "Epoch 2/30\n",
            "1719/1719 [==============================] - 8s 5ms/step - loss: 0.2807 - accuracy: 0.9200 - val_loss: 0.2392 - val_accuracy: 0.9334\n",
            "Epoch 3/30\n",
            "1719/1719 [==============================] - 7s 4ms/step - loss: 0.2278 - accuracy: 0.9346 - val_loss: 0.1967 - val_accuracy: 0.9442\n",
            "Epoch 4/30\n",
            "1719/1719 [==============================] - 5s 3ms/step - loss: 0.1941 - accuracy: 0.9450 - val_loss: 0.1731 - val_accuracy: 0.9534\n",
            "Epoch 5/30\n",
            "1719/1719 [==============================] - 5s 3ms/step - loss: 0.1697 - accuracy: 0.9517 - val_loss: 0.1545 - val_accuracy: 0.9576\n",
            "Epoch 6/30\n",
            "1719/1719 [==============================] - 5s 3ms/step - loss: 0.1506 - accuracy: 0.9567 - val_loss: 0.1402 - val_accuracy: 0.9620\n",
            "Epoch 7/30\n",
            "1719/1719 [==============================] - 5s 3ms/step - loss: 0.1354 - accuracy: 0.9615 - val_loss: 0.1294 - val_accuracy: 0.9666\n",
            "Epoch 8/30\n",
            "1719/1719 [==============================] - 4s 3ms/step - loss: 0.1228 - accuracy: 0.9651 - val_loss: 0.1224 - val_accuracy: 0.9662\n",
            "Epoch 9/30\n",
            "1719/1719 [==============================] - 5s 3ms/step - loss: 0.1120 - accuracy: 0.9680 - val_loss: 0.1157 - val_accuracy: 0.9676\n",
            "Epoch 10/30\n",
            "1719/1719 [==============================] - 5s 3ms/step - loss: 0.1032 - accuracy: 0.9703 - val_loss: 0.1080 - val_accuracy: 0.9696\n",
            "Epoch 11/30\n",
            "1719/1719 [==============================] - 5s 3ms/step - loss: 0.0948 - accuracy: 0.9730 - val_loss: 0.1069 - val_accuracy: 0.9682\n",
            "Epoch 12/30\n",
            "1719/1719 [==============================] - 5s 3ms/step - loss: 0.0880 - accuracy: 0.9750 - val_loss: 0.0991 - val_accuracy: 0.9726\n",
            "Epoch 13/30\n",
            "1719/1719 [==============================] - 5s 3ms/step - loss: 0.0818 - accuracy: 0.9771 - val_loss: 0.0949 - val_accuracy: 0.9736\n",
            "Epoch 14/30\n",
            "1719/1719 [==============================] - 5s 3ms/step - loss: 0.0761 - accuracy: 0.9789 - val_loss: 0.0906 - val_accuracy: 0.9742\n",
            "Epoch 15/30\n",
            "1719/1719 [==============================] - 5s 3ms/step - loss: 0.0710 - accuracy: 0.9806 - val_loss: 0.0889 - val_accuracy: 0.9736\n",
            "Epoch 16/30\n",
            "1719/1719 [==============================] - 5s 3ms/step - loss: 0.0663 - accuracy: 0.9816 - val_loss: 0.0853 - val_accuracy: 0.9744\n",
            "Epoch 17/30\n",
            "1719/1719 [==============================] - 5s 3ms/step - loss: 0.0620 - accuracy: 0.9834 - val_loss: 0.0857 - val_accuracy: 0.9756\n",
            "Epoch 18/30\n",
            "1719/1719 [==============================] - 5s 3ms/step - loss: 0.0580 - accuracy: 0.9842 - val_loss: 0.0817 - val_accuracy: 0.9744\n",
            "Epoch 19/30\n",
            "1719/1719 [==============================] - 5s 3ms/step - loss: 0.0546 - accuracy: 0.9847 - val_loss: 0.0794 - val_accuracy: 0.9756\n",
            "Epoch 20/30\n",
            "1719/1719 [==============================] - 4s 3ms/step - loss: 0.0514 - accuracy: 0.9863 - val_loss: 0.0795 - val_accuracy: 0.9754\n",
            "Epoch 21/30\n",
            "1719/1719 [==============================] - 5s 3ms/step - loss: 0.0483 - accuracy: 0.9873 - val_loss: 0.0755 - val_accuracy: 0.9780\n",
            "Epoch 22/30\n",
            "1719/1719 [==============================] - 5s 3ms/step - loss: 0.0456 - accuracy: 0.9881 - val_loss: 0.0760 - val_accuracy: 0.9768\n",
            "Epoch 23/30\n",
            "1719/1719 [==============================] - 5s 3ms/step - loss: 0.0431 - accuracy: 0.9889 - val_loss: 0.0752 - val_accuracy: 0.9772\n",
            "Epoch 24/30\n",
            "1719/1719 [==============================] - 5s 3ms/step - loss: 0.0405 - accuracy: 0.9895 - val_loss: 0.0746 - val_accuracy: 0.9772\n",
            "Epoch 25/30\n",
            "1719/1719 [==============================] - 5s 3ms/step - loss: 0.0383 - accuracy: 0.9903 - val_loss: 0.0741 - val_accuracy: 0.9778\n",
            "Epoch 26/30\n",
            "1719/1719 [==============================] - 5s 3ms/step - loss: 0.0362 - accuracy: 0.9910 - val_loss: 0.0701 - val_accuracy: 0.9796\n",
            "Epoch 27/30\n",
            "1719/1719 [==============================] - 5s 3ms/step - loss: 0.0339 - accuracy: 0.9917 - val_loss: 0.0733 - val_accuracy: 0.9786\n",
            "Epoch 28/30\n",
            "1719/1719 [==============================] - 5s 3ms/step - loss: 0.0322 - accuracy: 0.9920 - val_loss: 0.0695 - val_accuracy: 0.9800\n",
            "Epoch 29/30\n",
            "1719/1719 [==============================] - 5s 3ms/step - loss: 0.0305 - accuracy: 0.9930 - val_loss: 0.0703 - val_accuracy: 0.9784\n",
            "Epoch 30/30\n",
            "1719/1719 [==============================] - 5s 3ms/step - loss: 0.0288 - accuracy: 0.9935 - val_loss: 0.0716 - val_accuracy: 0.9774\n"
          ]
        }
      ]
    },
    {
      "cell_type": "markdown",
      "source": [
        "# ->55000/32=1719 batches (steps per epoch) , each has 32 images \n",
        "# ->32 is default"
      ],
      "metadata": {
        "id": "TGfv7gl4P1UH"
      }
    },
    {
      "cell_type": "code",
      "source": [
        "result_df=pd.DataFrame(history.history)"
      ],
      "metadata": {
        "id": "V9v_JLulPNqy"
      },
      "execution_count": 26,
      "outputs": []
    },
    {
      "cell_type": "code",
      "source": [
        "result_df.plot(figsize=(10,7))\n",
        "plt.grid(True)\n",
        "plt.show()"
      ],
      "metadata": {
        "colab": {
          "base_uri": "https://localhost:8080/",
          "height": 428
        },
        "id": "VTFkUQAPVH5S",
        "outputId": "1d8c7473-1808-427e-f20f-3051371996be"
      },
      "execution_count": 27,
      "outputs": [
        {
          "output_type": "display_data",
          "data": {
            "text/plain": [
              "<Figure size 720x504 with 1 Axes>"
            ],
            "image/png": "[encoded data removed]"
          },
          "metadata": {
            "needs_background": "light"
          }
        }
      ]
    },
    {
      "cell_type": "code",
      "source": [
        "model.evaluate(x_test,y_test)"
      ],
      "metadata": {
        "colab": {
          "base_uri": "https://localhost:8080/"
        },
        "id": "n8J6AZ_rVH7z",
        "outputId": "0f05f026-41b6-469d-e32a-dbf3e0a1c1c0"
      },
      "execution_count": 28,
      "outputs": [
        {
          "output_type": "stream",
          "name": "stdout",
          "text": [
            "313/313 [==============================] - 1s 2ms/step - loss: 0.0690 - accuracy: 0.9783\n"
          ]
        },
        {
          "output_type": "execute_result",
          "data": {
            "text/plain": [
              "[0.06904999911785126, 0.9782999753952026]"
            ]
          },
          "metadata": {},
          "execution_count": 28
        }
      ]
    },
    {
      "cell_type": "code",
      "source": [
        "x_test.shape[0]/32"
      ],
      "metadata": {
        "colab": {
          "base_uri": "https://localhost:8080/"
        },
        "id": "5wRMq01kVH-N",
        "outputId": "1180c229-20b0-4ade-85d2-9dfda573ad73"
      },
      "execution_count": 29,
      "outputs": [
        {
          "output_type": "execute_result",
          "data": {
            "text/plain": [
              "312.5"
            ]
          },
          "metadata": {},
          "execution_count": 29
        }
      ]
    },
    {
      "cell_type": "code",
      "source": [
        "model.save(\"test.h5\")"
      ],
      "metadata": {
        "id": "zfzu_SntVIAR"
      },
      "execution_count": 30,
      "outputs": []
    },
    {
      "cell_type": "code",
      "source": [
        "x_new=x_test[:3]\n",
        "y_prob = model.predict(x_new)\n",
        "y_prob.round(3)"
      ],
      "metadata": {
        "colab": {
          "base_uri": "https://localhost:8080/"
        },
        "id": "bzuYMqdaPNtf",
        "outputId": "ef03072b-64f9-4e27-e7bc-aea15f002845"
      },
      "execution_count": 31,
      "outputs": [
        {
          "output_type": "execute_result",
          "data": {
            "text/plain": [
              "array([[0.   , 0.   , 0.   , 0.   , 0.   , 0.   , 0.   , 1.   , 0.   ,\n",
              "        0.   ],\n",
              "       [0.   , 0.   , 1.   , 0.   , 0.   , 0.   , 0.   , 0.   , 0.   ,\n",
              "        0.   ],\n",
              "       [0.   , 0.997, 0.   , 0.   , 0.   , 0.   , 0.   , 0.001, 0.001,\n",
              "        0.   ]], dtype=float32)"
            ]
          },
          "metadata": {},
          "execution_count": 31
        }
      ]
    },
    {
      "cell_type": "code",
      "source": [
        "plt.imshow(x_new[0])     "
      ],
      "metadata": {
        "colab": {
          "base_uri": "https://localhost:8080/",
          "height": 282
        },
        "id": "qT_urt_jPNvq",
        "outputId": "10a11a40-1353-4c31-de83-3cc465bc8697"
      },
      "execution_count": 32,
      "outputs": [
        {
          "output_type": "execute_result",
          "data": {
            "text/plain": [
              "<matplotlib.image.AxesImage at 0x7f15dbe50310>"
            ]
          },
          "metadata": {},
          "execution_count": 32
        },
        {
          "output_type": "display_data",
          "data": {
            "text/plain": [
              "<Figure size 432x288 with 1 Axes>"
            ],
            "image/png": "[encoded data removed]"
          },
          "metadata": {
            "needs_background": "light"
          }
        }
      ]
    },
    {
      "cell_type": "code",
      "source": [
        "y_pred=np.argmax(y_prob,axis=-1)\n",
        "y_pred"
      ],
      "metadata": {
        "colab": {
          "base_uri": "https://localhost:8080/"
        },
        "id": "od6-urn9PN2j",
        "outputId": "f2a35828-93c0-4b29-ba28-16cb9deb7840"
      },
      "execution_count": 33,
      "outputs": [
        {
          "output_type": "execute_result",
          "data": {
            "text/plain": [
              "array([7, 2, 1])"
            ]
          },
          "metadata": {},
          "execution_count": 33
        }
      ]
    },
    {
      "cell_type": "code",
      "source": [
        "for image_array , pred, actual in zip(x_new,y_pred,y_test[:3]):\n",
        "  plt.imshow(image_array,cmap='binary')\n",
        "  plt.title(f\"predicted:{pred},Actual:{actual}\")\n",
        "  plt.axis('off')\n",
        "  plt.show()\n",
        "  print(\"---\"*30)"
      ],
      "metadata": {
        "colab": {
          "base_uri": "https://localhost:8080/",
          "height": 810
        },
        "id": "v77AmLWcVp2d",
        "outputId": "88debd15-c9ef-4056-a0c4-e9432748c820"
      },
      "execution_count": 34,
      "outputs": [
        {
          "output_type": "display_data",
          "data": {
            "text/plain": [
              "<Figure size 432x288 with 1 Axes>"
            ],
            "image/png": "[encoded data removed]"
          },
          "metadata": {
            "needs_background": "light"
          }
        },
        {
          "output_type": "stream",
          "name": "stdout",
          "text": [
            "------------------------------------------------------------------------------------------\n"
          ]
        },
        {
          "output_type": "display_data",
          "data": {
            "text/plain": [
              "<Figure size 432x288 with 1 Axes>"
            ],
            "image/png": "[encoded data removed]"
          },
          "metadata": {
            "needs_background": "light"
          }
        },
        {
          "output_type": "stream",
          "name": "stdout",
          "text": [
            "------------------------------------------------------------------------------------------\n"
          ]
        },
        {
          "output_type": "display_data",
          "data": {
            "text/plain": [
              "<Figure size 432x288 with 1 Axes>"
            ],
            "image/png": "[encoded data removed]"
          },
          "metadata": {
            "needs_background": "light"
          }
        },
        {
          "output_type": "stream",
          "name": "stdout",
          "text": [
            "------------------------------------------------------------------------------------------\n"
          ]
        }
      ]
    },
    {
      "cell_type": "code",
      "source": [],
      "metadata": {
        "id": "b2NSNwXfVp48"
      },
      "execution_count": 34,
      "outputs": []
    },
    {
      "cell_type": "code",
      "source": [],
      "metadata": {
        "id": "mQim8NlhVp7G"
      },
      "execution_count": 34,
      "outputs": []
    },
    {
      "cell_type": "code",
      "source": [],
      "metadata": {
        "id": "abmQC2eFVp9Y"
      },
      "execution_count": 34,
      "outputs": []
    },
    {
      "cell_type": "code",
      "source": [],
      "metadata": {
        "id": "FGtrixJ3Vp_V"
      },
      "execution_count": 34,
      "outputs": []
    }
  ]
}