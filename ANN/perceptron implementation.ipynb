{
 "cells": [
  {
   "cell_type": "code",
   "execution_count": 2,
   "id": "6dcacb87",
   "metadata": {
    "ExecuteTime": {
     "end_time": "2022-10-04T05:58:53.670959Z",
     "start_time": "2022-10-04T05:58:53.570630Z"
    }
   },
   "outputs": [],
   "source": [
    "import pandas as pd \n",
    "import numpy as np \n",
    "import matplotlib.pyplot as plt\n",
    "import os \n",
    "import joblib # to save our model that created\n",
    "plt.style.use(\"fivethirtyeight\")"
   ]
  },
  {
   "cell_type": "code",
   "execution_count": 15,
   "id": "7bc068b5",
   "metadata": {
    "ExecuteTime": {
     "end_time": "2022-10-04T06:19:40.588999Z",
     "start_time": "2022-10-04T06:19:40.571346Z"
    }
   },
   "outputs": [],
   "source": [
    "class perceptron:\n",
    "    def __init__(self,eta:float =None, epochs:int=None):\n",
    "        self.weights=np.random.randn(3)*1e-4     #le4 =10^-4\n",
    "        self.eta = eta  #learning rate\n",
    "        self.epochs=epochs\n",
    "        \n",
    "    def fit(self,x,y):\n",
    "        self.x=x\n",
    "        self.y=y\n",
    "        \n",
    "        x_with_bias = np.c_[self.x,-np.ones((len(self.x),1))]  # concatinating x with bias \n",
    "        print(f\"x with bias: \\n {x_with_bias}\")\n",
    "    "
   ]
  },
  {
   "cell_type": "code",
   "execution_count": 16,
   "id": "0f1edacb",
   "metadata": {
    "ExecuteTime": {
     "end_time": "2022-10-04T06:19:41.010417Z",
     "start_time": "2022-10-04T06:19:40.997894Z"
    }
   },
   "outputs": [],
   "source": [
    "obj = perceptron(eta=0.01,epochs=20)"
   ]
  },
  {
   "cell_type": "code",
   "execution_count": 17,
   "id": "2284732a",
   "metadata": {
    "ExecuteTime": {
     "end_time": "2022-10-04T06:19:41.213835Z",
     "start_time": "2022-10-04T06:19:41.205837Z"
    }
   },
   "outputs": [
    {
     "data": {
      "text/plain": [
       "array([-8.79318785e-05, -5.19218304e-05,  1.75335612e-05])"
      ]
     },
     "execution_count": 17,
     "metadata": {},
     "output_type": "execute_result"
    }
   ],
   "source": [
    "obj.weights"
   ]
  },
  {
   "cell_type": "code",
   "execution_count": 18,
   "id": "99066031",
   "metadata": {
    "ExecuteTime": {
     "end_time": "2022-10-04T06:19:41.402215Z",
     "start_time": "2022-10-04T06:19:41.386220Z"
    }
   },
   "outputs": [],
   "source": [
    "y = np.ones((4,1))"
   ]
  },
  {
   "cell_type": "code",
   "execution_count": 19,
   "id": "0ed78c23",
   "metadata": {
    "ExecuteTime": {
     "end_time": "2022-10-04T06:19:41.683323Z",
     "start_time": "2022-10-04T06:19:41.663248Z"
    }
   },
   "outputs": [
    {
     "data": {
      "text/plain": [
       "array([[1., 1.],\n",
       "       [1., 1.],\n",
       "       [1., 1.],\n",
       "       [1., 1.]])"
      ]
     },
     "execution_count": 19,
     "metadata": {},
     "output_type": "execute_result"
    }
   ],
   "source": [
    "x=np.ones((4,2))\n",
    "x"
   ]
  },
  {
   "cell_type": "code",
   "execution_count": 20,
   "id": "840a060f",
   "metadata": {
    "ExecuteTime": {
     "end_time": "2022-10-04T06:19:42.149777Z",
     "start_time": "2022-10-04T06:19:42.119667Z"
    }
   },
   "outputs": [
    {
     "name": "stdout",
     "output_type": "stream",
     "text": [
      "x with bias: \n",
      " [[ 1.  1. -1.]\n",
      " [ 1.  1. -1.]\n",
      " [ 1.  1. -1.]\n",
      " [ 1.  1. -1.]]\n"
     ]
    }
   ],
   "source": [
    "obj.fit(x,y)"
   ]
  },
  {
   "cell_type": "code",
   "execution_count": 36,
   "id": "8b1f7ab2",
   "metadata": {
    "ExecuteTime": {
     "end_time": "2022-10-04T06:48:06.509682Z",
     "start_time": "2022-10-04T06:48:06.490606Z"
    }
   },
   "outputs": [],
   "source": [
    "class perceptron:\n",
    "    def __init__(self,eta:float =None, epochs:int=None):\n",
    "        self.weights=np.random.randn(3)*1e-4     #le4 =10^-4\n",
    "        self.eta = eta  #learning rate\n",
    "        self.epochs=epochs\n",
    "        \n",
    "    def _z_outcome(self,inputs,weights):    # hidden method\n",
    "        return np.dot(inputs,weights)  # gives dot product\n",
    "        \n",
    "    def activation_function(self,z):\n",
    "        return np.where(z>0,1, 0)\n",
    "        \n",
    "    def fit(self,x,y):\n",
    "        self.x=x\n",
    "        self.y=y\n",
    "        \n",
    "        x_with_bias = np.c_[self.x,-np.ones((len(self.x),1))]  # concatinating x with bias \n",
    "        print(f\"x with bias: \\n {x_with_bias}\")\n",
    "        \n",
    "        for epoch in range(self.epochs):\n",
    "            print(\"--\"*10)\n",
    "            print(f\"for epoch >> {epoch + 1}\")\n",
    "            print(\"--\"*10)\n",
    "            \n",
    "            z = self._z_outcome(x_with_bias,self.weights)\n",
    "            y_hat = self.activation_function(z)\n",
    "            print(f\"predicted value after forward pass: \\n{y_hat}\")\n",
    "            \n",
    "            self.error = self.y - y_hat\n",
    "            print(f\"error: {self.error}\")\n",
    "            \n",
    "            self.weights = self.weights + self.eta*np.dot(x_with_bias.T,self.error)\n",
    "            print(f\"updated weights after epoch: {epoch + 1}/{self.epochs}: \\n{self.weights}\")\n",
    "            print(f\"##\"*10)\n",
    "            \n",
    "    def prediction(self,x):  # x=new data\n",
    "        x_with_bias = np.c_[x, -np.ones((len(x),1))]\n",
    "        z=self._z_outcome(x_with_bias, self.weights)\n",
    "        return self.activation_function(z)\n",
    "            \n",
    "    "
   ]
  },
  {
   "cell_type": "code",
   "execution_count": 37,
   "id": "b8a980a7",
   "metadata": {
    "ExecuteTime": {
     "end_time": "2022-10-04T06:48:06.888326Z",
     "start_time": "2022-10-04T06:48:06.875808Z"
    }
   },
   "outputs": [
    {
     "data": {
      "text/html": [
       "<div>\n",
       "<style scoped>\n",
       "    .dataframe tbody tr th:only-of-type {\n",
       "        vertical-align: middle;\n",
       "    }\n",
       "\n",
       "    .dataframe tbody tr th {\n",
       "        vertical-align: top;\n",
       "    }\n",
       "\n",
       "    .dataframe thead th {\n",
       "        text-align: right;\n",
       "    }\n",
       "</style>\n",
       "<table border=\"1\" class=\"dataframe\">\n",
       "  <thead>\n",
       "    <tr style=\"text-align: right;\">\n",
       "      <th></th>\n",
       "      <th>x1</th>\n",
       "      <th>x2</th>\n",
       "      <th>y</th>\n",
       "    </tr>\n",
       "  </thead>\n",
       "  <tbody>\n",
       "    <tr>\n",
       "      <th>0</th>\n",
       "      <td>0</td>\n",
       "      <td>0</td>\n",
       "      <td>0</td>\n",
       "    </tr>\n",
       "    <tr>\n",
       "      <th>1</th>\n",
       "      <td>0</td>\n",
       "      <td>1</td>\n",
       "      <td>1</td>\n",
       "    </tr>\n",
       "    <tr>\n",
       "      <th>2</th>\n",
       "      <td>1</td>\n",
       "      <td>0</td>\n",
       "      <td>1</td>\n",
       "    </tr>\n",
       "    <tr>\n",
       "      <th>3</th>\n",
       "      <td>1</td>\n",
       "      <td>1</td>\n",
       "      <td>1</td>\n",
       "    </tr>\n",
       "  </tbody>\n",
       "</table>\n",
       "</div>"
      ],
      "text/plain": [
       "   x1  x2  y\n",
       "0   0   0  0\n",
       "1   0   1  1\n",
       "2   1   0  1\n",
       "3   1   1  1"
      ]
     },
     "execution_count": 37,
     "metadata": {},
     "output_type": "execute_result"
    }
   ],
   "source": [
    "OR = {\n",
    "    \"x1\": [0,0,1,1],\n",
    "    \"x2\": [0,1,0,1],\n",
    "    \"y\" : [0,1,1,1]\n",
    "}\n",
    "\n",
    "df_OR = pd.DataFrame(OR)\n",
    "\n",
    "df_OR"
   ]
  },
  {
   "cell_type": "code",
   "execution_count": 38,
   "id": "5cef27b9",
   "metadata": {
    "ExecuteTime": {
     "end_time": "2022-10-04T06:48:07.297783Z",
     "start_time": "2022-10-04T06:48:07.282753Z"
    }
   },
   "outputs": [],
   "source": [
    "x = df_OR.drop(columns='y')\n",
    "y = df_OR['y']\n",
    "eta = 0.1\n",
    "epochs=10\n",
    "\n",
    "model = perceptron(eta=eta,epochs=epochs)"
   ]
  },
  {
   "cell_type": "code",
   "execution_count": 39,
   "id": "36f0e424",
   "metadata": {
    "ExecuteTime": {
     "end_time": "2022-10-04T06:48:07.969854Z",
     "start_time": "2022-10-04T06:48:07.954802Z"
    },
    "scrolled": true
   },
   "outputs": [
    {
     "name": "stdout",
     "output_type": "stream",
     "text": [
      "x with bias: \n",
      " [[ 0.  0. -1.]\n",
      " [ 0.  1. -1.]\n",
      " [ 1.  0. -1.]\n",
      " [ 1.  1. -1.]]\n",
      "--------------------\n",
      "for epoch >> 1\n",
      "--------------------\n",
      "predicted value after forward pass: \n",
      "[0 0 0 0]\n",
      "error: 0    0\n",
      "1    1\n",
      "2    1\n",
      "3    1\n",
      "Name: y, dtype: int64\n",
      "updated weights after epoch: 1/10: \n",
      "[ 0.199947    0.19981837 -0.29996253]\n",
      "####################\n",
      "--------------------\n",
      "for epoch >> 2\n",
      "--------------------\n",
      "predicted value after forward pass: \n",
      "[1 1 1 1]\n",
      "error: 0   -1\n",
      "1    0\n",
      "2    0\n",
      "3    0\n",
      "Name: y, dtype: int64\n",
      "updated weights after epoch: 2/10: \n",
      "[ 0.199947    0.19981837 -0.19996253]\n",
      "####################\n",
      "--------------------\n",
      "for epoch >> 3\n",
      "--------------------\n",
      "predicted value after forward pass: \n",
      "[1 1 1 1]\n",
      "error: 0   -1\n",
      "1    0\n",
      "2    0\n",
      "3    0\n",
      "Name: y, dtype: int64\n",
      "updated weights after epoch: 3/10: \n",
      "[ 0.199947    0.19981837 -0.09996253]\n",
      "####################\n",
      "--------------------\n",
      "for epoch >> 4\n",
      "--------------------\n",
      "predicted value after forward pass: \n",
      "[1 1 1 1]\n",
      "error: 0   -1\n",
      "1    0\n",
      "2    0\n",
      "3    0\n",
      "Name: y, dtype: int64\n",
      "updated weights after epoch: 4/10: \n",
      "[1.99946997e-01 1.99818373e-01 3.74696006e-05]\n",
      "####################\n",
      "--------------------\n",
      "for epoch >> 5\n",
      "--------------------\n",
      "predicted value after forward pass: \n",
      "[0 1 1 1]\n",
      "error: 0    0\n",
      "1    0\n",
      "2    0\n",
      "3    0\n",
      "Name: y, dtype: int64\n",
      "updated weights after epoch: 5/10: \n",
      "[1.99946997e-01 1.99818373e-01 3.74696006e-05]\n",
      "####################\n",
      "--------------------\n",
      "for epoch >> 6\n",
      "--------------------\n",
      "predicted value after forward pass: \n",
      "[0 1 1 1]\n",
      "error: 0    0\n",
      "1    0\n",
      "2    0\n",
      "3    0\n",
      "Name: y, dtype: int64\n",
      "updated weights after epoch: 6/10: \n",
      "[1.99946997e-01 1.99818373e-01 3.74696006e-05]\n",
      "####################\n",
      "--------------------\n",
      "for epoch >> 7\n",
      "--------------------\n",
      "predicted value after forward pass: \n",
      "[0 1 1 1]\n",
      "error: 0    0\n",
      "1    0\n",
      "2    0\n",
      "3    0\n",
      "Name: y, dtype: int64\n",
      "updated weights after epoch: 7/10: \n",
      "[1.99946997e-01 1.99818373e-01 3.74696006e-05]\n",
      "####################\n",
      "--------------------\n",
      "for epoch >> 8\n",
      "--------------------\n",
      "predicted value after forward pass: \n",
      "[0 1 1 1]\n",
      "error: 0    0\n",
      "1    0\n",
      "2    0\n",
      "3    0\n",
      "Name: y, dtype: int64\n",
      "updated weights after epoch: 8/10: \n",
      "[1.99946997e-01 1.99818373e-01 3.74696006e-05]\n",
      "####################\n",
      "--------------------\n",
      "for epoch >> 9\n",
      "--------------------\n",
      "predicted value after forward pass: \n",
      "[0 1 1 1]\n",
      "error: 0    0\n",
      "1    0\n",
      "2    0\n",
      "3    0\n",
      "Name: y, dtype: int64\n",
      "updated weights after epoch: 9/10: \n",
      "[1.99946997e-01 1.99818373e-01 3.74696006e-05]\n",
      "####################\n",
      "--------------------\n",
      "for epoch >> 10\n",
      "--------------------\n",
      "predicted value after forward pass: \n",
      "[0 1 1 1]\n",
      "error: 0    0\n",
      "1    0\n",
      "2    0\n",
      "3    0\n",
      "Name: y, dtype: int64\n",
      "updated weights after epoch: 10/10: \n",
      "[1.99946997e-01 1.99818373e-01 3.74696006e-05]\n",
      "####################\n"
     ]
    }
   ],
   "source": [
    "model.fit(x,y)"
   ]
  },
  {
   "cell_type": "code",
   "execution_count": 34,
   "id": "1e0ecf31",
   "metadata": {
    "ExecuteTime": {
     "end_time": "2022-10-04T06:45:47.838247Z",
     "start_time": "2022-10-04T06:45:47.831215Z"
    }
   },
   "outputs": [],
   "source": [
    "X = [[1,1]]"
   ]
  },
  {
   "cell_type": "code",
   "execution_count": 35,
   "id": "5e0a0afb",
   "metadata": {
    "ExecuteTime": {
     "end_time": "2022-10-04T06:45:48.260606Z",
     "start_time": "2022-10-04T06:45:48.244948Z"
    }
   },
   "outputs": [
    {
     "data": {
      "text/plain": [
       "array([1])"
      ]
     },
     "execution_count": 35,
     "metadata": {},
     "output_type": "execute_result"
    }
   ],
   "source": [
    "model.prediction(X)"
   ]
  },
  {
   "cell_type": "code",
   "execution_count": null,
   "id": "6721d07e",
   "metadata": {},
   "outputs": [],
   "source": []
  }
 ],
 "metadata": {
  "kernelspec": {
   "display_name": "Python 3 (ipykernel)",
   "language": "python",
   "name": "python3"
  },
  "language_info": {
   "codemirror_mode": {
    "name": "ipython",
    "version": 3
   },
   "file_extension": ".py",
   "mimetype": "text/x-python",
   "name": "python",
   "nbconvert_exporter": "python",
   "pygments_lexer": "ipython3",
   "version": "3.9.7"
  }
 },
 "nbformat": 4,
 "nbformat_minor": 5
}
