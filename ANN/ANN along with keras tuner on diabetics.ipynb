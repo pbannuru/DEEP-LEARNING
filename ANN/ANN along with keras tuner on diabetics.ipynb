{
 "cells": [
  {
   "cell_type": "code",
   "execution_count": 1,
   "id": "3b170251",
   "metadata": {
    "ExecuteTime": {
     "end_time": "2022-08-29T11:24:38.839012Z",
     "start_time": "2022-08-29T11:24:34.747092Z"
    }
   },
   "outputs": [
    {
     "name": "stderr",
     "output_type": "stream",
     "text": [
      "C:\\Users\\pbann\\Anaconda3\\lib\\site-packages\\scipy\\__init__.py:146: UserWarning: A NumPy version >=1.16.5 and <1.23.0 is required for this version of SciPy (detected version 1.23.2\n",
      "  warnings.warn(f\"A NumPy version >={np_minversion} and <{np_maxversion}\"\n"
     ]
    }
   ],
   "source": [
    "import math\n",
    "import pandas as pd\n",
    "import numpy as np\n",
    "import tensorflow as tf\n",
    "import matplotlib.pyplot as plt\n",
    "from tensorflow.keras import Model\n",
    "from tensorflow.keras import Sequential\n",
    "from tensorflow.keras.optimizers import Adam\n",
    "from sklearn.preprocessing import StandardScaler\n",
    "from tensorflow.keras.layers import Dense, Dropout\n",
    "from sklearn.model_selection import train_test_split\n",
    "from tensorflow.keras.losses import MeanSquaredLogarithmicError\n",
    "import keras_tuner as kt"
   ]
  },
  {
   "cell_type": "code",
   "execution_count": 2,
   "id": "63ae7741",
   "metadata": {
    "ExecuteTime": {
     "end_time": "2022-08-29T11:24:38.853951Z",
     "start_time": "2022-08-29T11:24:38.842960Z"
    }
   },
   "outputs": [
    {
     "name": "stdout",
     "output_type": "stream",
     "text": [
      "2.9.0\n"
     ]
    }
   ],
   "source": [
    "print(tf. __version__)"
   ]
  },
  {
   "cell_type": "code",
   "execution_count": 3,
   "id": "19f920a2",
   "metadata": {
    "ExecuteTime": {
     "end_time": "2022-08-29T11:24:38.884949Z",
     "start_time": "2022-08-29T11:24:38.854950Z"
    }
   },
   "outputs": [
    {
     "data": {
      "text/html": [
       "<div>\n",
       "<style scoped>\n",
       "    .dataframe tbody tr th:only-of-type {\n",
       "        vertical-align: middle;\n",
       "    }\n",
       "\n",
       "    .dataframe tbody tr th {\n",
       "        vertical-align: top;\n",
       "    }\n",
       "\n",
       "    .dataframe thead th {\n",
       "        text-align: right;\n",
       "    }\n",
       "</style>\n",
       "<table border=\"1\" class=\"dataframe\">\n",
       "  <thead>\n",
       "    <tr style=\"text-align: right;\">\n",
       "      <th></th>\n",
       "      <th>Pregnancies</th>\n",
       "      <th>Glucose</th>\n",
       "      <th>BloodPressure</th>\n",
       "      <th>SkinThickness</th>\n",
       "      <th>Insulin</th>\n",
       "      <th>BMI</th>\n",
       "      <th>DiabetesPedigreeFunction</th>\n",
       "      <th>Age</th>\n",
       "      <th>Outcome</th>\n",
       "    </tr>\n",
       "  </thead>\n",
       "  <tbody>\n",
       "    <tr>\n",
       "      <th>0</th>\n",
       "      <td>6</td>\n",
       "      <td>148</td>\n",
       "      <td>72</td>\n",
       "      <td>35</td>\n",
       "      <td>0</td>\n",
       "      <td>33.6</td>\n",
       "      <td>0.627</td>\n",
       "      <td>50</td>\n",
       "      <td>1</td>\n",
       "    </tr>\n",
       "    <tr>\n",
       "      <th>1</th>\n",
       "      <td>1</td>\n",
       "      <td>85</td>\n",
       "      <td>66</td>\n",
       "      <td>29</td>\n",
       "      <td>0</td>\n",
       "      <td>26.6</td>\n",
       "      <td>0.351</td>\n",
       "      <td>31</td>\n",
       "      <td>0</td>\n",
       "    </tr>\n",
       "    <tr>\n",
       "      <th>2</th>\n",
       "      <td>8</td>\n",
       "      <td>183</td>\n",
       "      <td>64</td>\n",
       "      <td>0</td>\n",
       "      <td>0</td>\n",
       "      <td>23.3</td>\n",
       "      <td>0.672</td>\n",
       "      <td>32</td>\n",
       "      <td>1</td>\n",
       "    </tr>\n",
       "    <tr>\n",
       "      <th>3</th>\n",
       "      <td>1</td>\n",
       "      <td>89</td>\n",
       "      <td>66</td>\n",
       "      <td>23</td>\n",
       "      <td>94</td>\n",
       "      <td>28.1</td>\n",
       "      <td>0.167</td>\n",
       "      <td>21</td>\n",
       "      <td>0</td>\n",
       "    </tr>\n",
       "    <tr>\n",
       "      <th>4</th>\n",
       "      <td>0</td>\n",
       "      <td>137</td>\n",
       "      <td>40</td>\n",
       "      <td>35</td>\n",
       "      <td>168</td>\n",
       "      <td>43.1</td>\n",
       "      <td>2.288</td>\n",
       "      <td>33</td>\n",
       "      <td>1</td>\n",
       "    </tr>\n",
       "    <tr>\n",
       "      <th>...</th>\n",
       "      <td>...</td>\n",
       "      <td>...</td>\n",
       "      <td>...</td>\n",
       "      <td>...</td>\n",
       "      <td>...</td>\n",
       "      <td>...</td>\n",
       "      <td>...</td>\n",
       "      <td>...</td>\n",
       "      <td>...</td>\n",
       "    </tr>\n",
       "    <tr>\n",
       "      <th>763</th>\n",
       "      <td>10</td>\n",
       "      <td>101</td>\n",
       "      <td>76</td>\n",
       "      <td>48</td>\n",
       "      <td>180</td>\n",
       "      <td>32.9</td>\n",
       "      <td>0.171</td>\n",
       "      <td>63</td>\n",
       "      <td>0</td>\n",
       "    </tr>\n",
       "    <tr>\n",
       "      <th>764</th>\n",
       "      <td>2</td>\n",
       "      <td>122</td>\n",
       "      <td>70</td>\n",
       "      <td>27</td>\n",
       "      <td>0</td>\n",
       "      <td>36.8</td>\n",
       "      <td>0.340</td>\n",
       "      <td>27</td>\n",
       "      <td>0</td>\n",
       "    </tr>\n",
       "    <tr>\n",
       "      <th>765</th>\n",
       "      <td>5</td>\n",
       "      <td>121</td>\n",
       "      <td>72</td>\n",
       "      <td>23</td>\n",
       "      <td>112</td>\n",
       "      <td>26.2</td>\n",
       "      <td>0.245</td>\n",
       "      <td>30</td>\n",
       "      <td>0</td>\n",
       "    </tr>\n",
       "    <tr>\n",
       "      <th>766</th>\n",
       "      <td>1</td>\n",
       "      <td>126</td>\n",
       "      <td>60</td>\n",
       "      <td>0</td>\n",
       "      <td>0</td>\n",
       "      <td>30.1</td>\n",
       "      <td>0.349</td>\n",
       "      <td>47</td>\n",
       "      <td>1</td>\n",
       "    </tr>\n",
       "    <tr>\n",
       "      <th>767</th>\n",
       "      <td>1</td>\n",
       "      <td>93</td>\n",
       "      <td>70</td>\n",
       "      <td>31</td>\n",
       "      <td>0</td>\n",
       "      <td>30.4</td>\n",
       "      <td>0.315</td>\n",
       "      <td>23</td>\n",
       "      <td>0</td>\n",
       "    </tr>\n",
       "  </tbody>\n",
       "</table>\n",
       "<p>768 rows × 9 columns</p>\n",
       "</div>"
      ],
      "text/plain": [
       "     Pregnancies  Glucose  BloodPressure  SkinThickness  Insulin   BMI  \\\n",
       "0              6      148             72             35        0  33.6   \n",
       "1              1       85             66             29        0  26.6   \n",
       "2              8      183             64              0        0  23.3   \n",
       "3              1       89             66             23       94  28.1   \n",
       "4              0      137             40             35      168  43.1   \n",
       "..           ...      ...            ...            ...      ...   ...   \n",
       "763           10      101             76             48      180  32.9   \n",
       "764            2      122             70             27        0  36.8   \n",
       "765            5      121             72             23      112  26.2   \n",
       "766            1      126             60              0        0  30.1   \n",
       "767            1       93             70             31        0  30.4   \n",
       "\n",
       "     DiabetesPedigreeFunction  Age  Outcome  \n",
       "0                       0.627   50        1  \n",
       "1                       0.351   31        0  \n",
       "2                       0.672   32        1  \n",
       "3                       0.167   21        0  \n",
       "4                       2.288   33        1  \n",
       "..                        ...  ...      ...  \n",
       "763                     0.171   63        0  \n",
       "764                     0.340   27        0  \n",
       "765                     0.245   30        0  \n",
       "766                     0.349   47        1  \n",
       "767                     0.315   23        0  \n",
       "\n",
       "[768 rows x 9 columns]"
      ]
     },
     "execution_count": 3,
     "metadata": {},
     "output_type": "execute_result"
    }
   ],
   "source": [
    "df = pd.read_csv(r'C:\\Users\\pbann\\OneDrive\\Desktop\\science\\data set\\sugar.csv')\n",
    "df"
   ]
  },
  {
   "cell_type": "code",
   "execution_count": 4,
   "id": "b6a4664a",
   "metadata": {
    "ExecuteTime": {
     "end_time": "2022-08-29T11:24:39.556206Z",
     "start_time": "2022-08-29T11:24:39.536627Z"
    }
   },
   "outputs": [
    {
     "data": {
      "text/plain": [
       "Pregnancies                 0\n",
       "Glucose                     0\n",
       "BloodPressure               0\n",
       "SkinThickness               0\n",
       "Insulin                     0\n",
       "BMI                         0\n",
       "DiabetesPedigreeFunction    0\n",
       "Age                         0\n",
       "Outcome                     0\n",
       "dtype: int64"
      ]
     },
     "execution_count": 4,
     "metadata": {},
     "output_type": "execute_result"
    }
   ],
   "source": [
    "df.isnull().sum()"
   ]
  },
  {
   "cell_type": "code",
   "execution_count": 5,
   "id": "f6136d48",
   "metadata": {
    "ExecuteTime": {
     "end_time": "2022-08-29T11:24:39.961970Z",
     "start_time": "2022-08-29T11:24:39.957969Z"
    }
   },
   "outputs": [
    {
     "data": {
      "text/plain": [
       "Pregnancies                 0.221898\n",
       "Glucose                     0.466581\n",
       "BloodPressure               0.065068\n",
       "SkinThickness               0.074752\n",
       "Insulin                     0.130548\n",
       "BMI                         0.292695\n",
       "DiabetesPedigreeFunction    0.173844\n",
       "Age                         0.238356\n",
       "Outcome                     1.000000\n",
       "Name: Outcome, dtype: float64"
      ]
     },
     "execution_count": 5,
     "metadata": {},
     "output_type": "execute_result"
    }
   ],
   "source": [
    "df.corr()['Outcome']"
   ]
  },
  {
   "cell_type": "code",
   "execution_count": 6,
   "id": "a4fe1489",
   "metadata": {
    "ExecuteTime": {
     "end_time": "2022-08-29T11:24:40.165170Z",
     "start_time": "2022-08-29T11:24:40.158169Z"
    }
   },
   "outputs": [],
   "source": [
    "X = df.iloc[:,:-1].values\n",
    "y = df.iloc[:,-1].values"
   ]
  },
  {
   "cell_type": "code",
   "execution_count": 7,
   "id": "c8c5f284",
   "metadata": {
    "ExecuteTime": {
     "end_time": "2022-08-29T11:24:40.351266Z",
     "start_time": "2022-08-29T11:24:40.340266Z"
    }
   },
   "outputs": [],
   "source": [
    "sclaer = StandardScaler()"
   ]
  },
  {
   "cell_type": "code",
   "execution_count": 8,
   "id": "378bb846",
   "metadata": {
    "ExecuteTime": {
     "end_time": "2022-08-29T11:24:40.523550Z",
     "start_time": "2022-08-29T11:24:40.517551Z"
    }
   },
   "outputs": [],
   "source": [
    "X = sclaer.fit_transform(X)"
   ]
  },
  {
   "cell_type": "code",
   "execution_count": 9,
   "id": "f544cd85",
   "metadata": {
    "ExecuteTime": {
     "end_time": "2022-08-29T11:24:40.711113Z",
     "start_time": "2022-08-29T11:24:40.703113Z"
    }
   },
   "outputs": [
    {
     "data": {
      "text/plain": [
       "(768, 8)"
      ]
     },
     "execution_count": 9,
     "metadata": {},
     "output_type": "execute_result"
    }
   ],
   "source": [
    "X.shape"
   ]
  },
  {
   "cell_type": "code",
   "execution_count": 10,
   "id": "ad1b6fa5",
   "metadata": {
    "ExecuteTime": {
     "end_time": "2022-08-29T11:24:40.882513Z",
     "start_time": "2022-08-29T11:24:40.872513Z"
    }
   },
   "outputs": [],
   "source": [
    "from sklearn.model_selection import train_test_split\n",
    "X_train,X_test,y_train,y_test = train_test_split(X,y,test_size=0.2,random_state=0)"
   ]
  },
  {
   "cell_type": "code",
   "execution_count": 57,
   "id": "0faed930",
   "metadata": {
    "ExecuteTime": {
     "end_time": "2022-08-29T11:55:05.777749Z",
     "start_time": "2022-08-29T11:55:05.767545Z"
    }
   },
   "outputs": [],
   "source": [
    "import tensorflow\n",
    "from tensorflow import keras\n",
    "from keras import Sequential\n",
    "from keras.layers import Dense,Dropout"
   ]
  },
  {
   "cell_type": "code",
   "execution_count": 12,
   "id": "8047cbbc",
   "metadata": {
    "ExecuteTime": {
     "end_time": "2022-08-29T11:24:42.253528Z",
     "start_time": "2022-08-29T11:24:41.212527Z"
    }
   },
   "outputs": [],
   "source": [
    "model = Sequential()\n",
    "model.add(Dense(32,activation = 'relu',input_dim = 8))\n",
    "model.add(Dense(1,activation='sigmoid'))\n",
    "\n",
    "model.compile(optimizer='Adam',loss='binary_crossentropy',metrics=['accuracy'])"
   ]
  },
  {
   "cell_type": "code",
   "execution_count": 13,
   "id": "650cd942",
   "metadata": {
    "ExecuteTime": {
     "end_time": "2022-08-29T11:24:45.227027Z",
     "start_time": "2022-08-29T11:24:42.255522Z"
    },
    "scrolled": true
   },
   "outputs": [
    {
     "name": "stdout",
     "output_type": "stream",
     "text": [
      "Epoch 1/10\n",
      "20/20 [==============================] - 3s 10ms/step - loss: 0.8341 - accuracy: 0.3388 - val_loss: 0.7757 - val_accuracy: 0.3831\n",
      "Epoch 2/10\n",
      "20/20 [==============================] - 0s 2ms/step - loss: 0.7472 - accuracy: 0.4414 - val_loss: 0.6898 - val_accuracy: 0.5779\n",
      "Epoch 3/10\n",
      "20/20 [==============================] - 0s 2ms/step - loss: 0.6824 - accuracy: 0.5798 - val_loss: 0.6273 - val_accuracy: 0.6818\n",
      "Epoch 4/10\n",
      "20/20 [==============================] - 0s 2ms/step - loss: 0.6333 - accuracy: 0.6661 - val_loss: 0.5830 - val_accuracy: 0.7468\n",
      "Epoch 5/10\n",
      "20/20 [==============================] - 0s 2ms/step - loss: 0.5970 - accuracy: 0.7020 - val_loss: 0.5471 - val_accuracy: 0.7727\n",
      "Epoch 6/10\n",
      "20/20 [==============================] - 0s 2ms/step - loss: 0.5690 - accuracy: 0.7231 - val_loss: 0.5196 - val_accuracy: 0.7922\n",
      "Epoch 7/10\n",
      "20/20 [==============================] - 0s 2ms/step - loss: 0.5465 - accuracy: 0.7329 - val_loss: 0.4981 - val_accuracy: 0.8117\n",
      "Epoch 8/10\n",
      "20/20 [==============================] - 0s 2ms/step - loss: 0.5304 - accuracy: 0.7427 - val_loss: 0.4825 - val_accuracy: 0.8117\n",
      "Epoch 9/10\n",
      "20/20 [==============================] - 0s 2ms/step - loss: 0.5162 - accuracy: 0.7557 - val_loss: 0.4686 - val_accuracy: 0.8247\n",
      "Epoch 10/10\n",
      "20/20 [==============================] - 0s 2ms/step - loss: 0.5053 - accuracy: 0.7541 - val_loss: 0.4592 - val_accuracy: 0.8117\n"
     ]
    },
    {
     "data": {
      "text/plain": [
       "<keras.callbacks.History at 0x28b32056640>"
      ]
     },
     "execution_count": 13,
     "metadata": {},
     "output_type": "execute_result"
    }
   ],
   "source": [
    "model.fit(X_train,y_train, batch_size=32,epochs=10,validation_data=(X_test,y_test))"
   ]
  },
  {
   "cell_type": "markdown",
   "id": "28005bd3",
   "metadata": {},
   "source": [
    "# HYPERPARAMETER TUNING OBJECTIVE:\n",
    "### 1. APPROPRIATE OPTIMIZER\n",
    "### 2. NO OF NODES IN A LAYER\n",
    "### 3. NO OF LAYERS\n",
    "### 4. All in ALL atonce\n"
   ]
  },
  {
   "cell_type": "code",
   "execution_count": 14,
   "id": "47b92a6e",
   "metadata": {
    "ExecuteTime": {
     "end_time": "2022-08-29T11:24:53.845778Z",
     "start_time": "2022-08-29T11:24:53.836275Z"
    }
   },
   "outputs": [],
   "source": [
    "def build_model(hp):   # hp = hyperparameter \n",
    "    model = Sequential()\n",
    "    model.add(Dense(32,activation = 'relu',input_dim = 8))\n",
    "    model.add(Dense(1,activation='sigmoid'))\n",
    "    \n",
    "    optimizer=hp.Choice('optimizer',values=['adam','sgd','rmsprop','adadelta'])\n",
    "\n",
    "    \n",
    "    model.compile(optimizer=optimizer,loss='binary_crossentropy', metrics=['accuracy'])\n",
    "    return model"
   ]
  },
  {
   "cell_type": "code",
   "execution_count": 15,
   "id": "9c766247",
   "metadata": {
    "ExecuteTime": {
     "end_time": "2022-08-29T11:24:55.974373Z",
     "start_time": "2022-08-29T11:24:55.938944Z"
    }
   },
   "outputs": [],
   "source": [
    "tuner = kt.RandomSearch(build_model,\n",
    "                        objective='val_accuracy',\n",
    "                        max_trials=5,overwrite = False,\n",
    "                        directory='keras_tuner_dir1',\n",
    "                        project_name='keras_tuner_demo1')"
   ]
  },
  {
   "cell_type": "code",
   "execution_count": 16,
   "id": "b1a6a2a8",
   "metadata": {
    "ExecuteTime": {
     "end_time": "2022-08-29T11:24:59.549086Z",
     "start_time": "2022-08-29T11:24:56.591629Z"
    }
   },
   "outputs": [
    {
     "name": "stdout",
     "output_type": "stream",
     "text": [
      "Trial 4 Complete [00h 00m 01s]\n",
      "val_accuracy: 0.8051947951316833\n",
      "\n",
      "Best val_accuracy So Far: 0.8051947951316833\n",
      "Total elapsed time: 00h 00m 03s\n",
      "INFO:tensorflow:Oracle triggered exit\n"
     ]
    }
   ],
   "source": [
    "tuner.search(X_train,y_train,epochs=5,validation_data=(X_test,y_test))"
   ]
  },
  {
   "cell_type": "code",
   "execution_count": 17,
   "id": "bb447924",
   "metadata": {
    "ExecuteTime": {
     "end_time": "2022-08-29T11:25:01.372000Z",
     "start_time": "2022-08-29T11:25:01.362039Z"
    }
   },
   "outputs": [
    {
     "data": {
      "text/plain": [
       "{'optimizer': 'rmsprop'}"
      ]
     },
     "execution_count": 17,
     "metadata": {},
     "output_type": "execute_result"
    }
   ],
   "source": [
    "tuner.get_best_hyperparameters()[0].values"
   ]
  },
  {
   "cell_type": "markdown",
   "id": "d1fb71ce",
   "metadata": {},
   "source": [
    "# Best optimizer = 'rmsprop'"
   ]
  },
  {
   "cell_type": "code",
   "execution_count": 18,
   "id": "a9a76397",
   "metadata": {
    "ExecuteTime": {
     "end_time": "2022-08-29T11:25:03.016711Z",
     "start_time": "2022-08-29T11:25:02.896710Z"
    }
   },
   "outputs": [],
   "source": [
    "model=tuner.get_best_models(num_models=1)[0]"
   ]
  },
  {
   "cell_type": "code",
   "execution_count": 19,
   "id": "94efa4f5",
   "metadata": {
    "ExecuteTime": {
     "end_time": "2022-08-29T11:25:04.805208Z",
     "start_time": "2022-08-29T11:25:04.787208Z"
    }
   },
   "outputs": [
    {
     "name": "stdout",
     "output_type": "stream",
     "text": [
      "Model: \"sequential\"\n",
      "_________________________________________________________________\n",
      "Layer (type)                 Output Shape              Param #   \n",
      "=================================================================\n",
      "dense (Dense)                (None, 32)                288       \n",
      "_________________________________________________________________\n",
      "dense_1 (Dense)              (None, 1)                 33        \n",
      "=================================================================\n",
      "Total params: 321\n",
      "Trainable params: 321\n",
      "Non-trainable params: 0\n",
      "_________________________________________________________________\n"
     ]
    }
   ],
   "source": [
    "model.summary()"
   ]
  },
  {
   "cell_type": "code",
   "execution_count": 20,
   "id": "824a1a33",
   "metadata": {
    "ExecuteTime": {
     "end_time": "2022-08-29T11:25:11.428905Z",
     "start_time": "2022-08-29T11:25:07.822094Z"
    }
   },
   "outputs": [
    {
     "name": "stdout",
     "output_type": "stream",
     "text": [
      "Epoch 7/100\n",
      "20/20 [==============================] - 0s 6ms/step - loss: 0.5167 - accuracy: 0.7557 - val_loss: 0.4741 - val_accuracy: 0.7987\n",
      "Epoch 8/100\n",
      "20/20 [==============================] - 0s 2ms/step - loss: 0.5063 - accuracy: 0.7557 - val_loss: 0.4624 - val_accuracy: 0.7987\n",
      "Epoch 9/100\n",
      "20/20 [==============================] - 0s 2ms/step - loss: 0.4984 - accuracy: 0.7606 - val_loss: 0.4524 - val_accuracy: 0.8052\n",
      "Epoch 10/100\n",
      "20/20 [==============================] - 0s 2ms/step - loss: 0.4923 - accuracy: 0.7606 - val_loss: 0.4449 - val_accuracy: 0.8052\n",
      "Epoch 11/100\n",
      "20/20 [==============================] - 0s 2ms/step - loss: 0.4872 - accuracy: 0.7606 - val_loss: 0.4394 - val_accuracy: 0.8052\n",
      "Epoch 12/100\n",
      "20/20 [==============================] - 0s 2ms/step - loss: 0.4834 - accuracy: 0.7622 - val_loss: 0.4349 - val_accuracy: 0.8117\n",
      "Epoch 13/100\n",
      "20/20 [==============================] - 0s 2ms/step - loss: 0.4800 - accuracy: 0.7638 - val_loss: 0.4307 - val_accuracy: 0.8117\n",
      "Epoch 14/100\n",
      "20/20 [==============================] - 0s 2ms/step - loss: 0.4769 - accuracy: 0.7671 - val_loss: 0.4278 - val_accuracy: 0.8117\n",
      "Epoch 15/100\n",
      "20/20 [==============================] - 0s 2ms/step - loss: 0.4745 - accuracy: 0.7655 - val_loss: 0.4266 - val_accuracy: 0.8117\n",
      "Epoch 16/100\n",
      "20/20 [==============================] - 0s 2ms/step - loss: 0.4722 - accuracy: 0.7655 - val_loss: 0.4238 - val_accuracy: 0.8052\n",
      "Epoch 17/100\n",
      "20/20 [==============================] - 0s 2ms/step - loss: 0.4709 - accuracy: 0.7687 - val_loss: 0.4222 - val_accuracy: 0.8117\n",
      "Epoch 18/100\n",
      "20/20 [==============================] - 0s 2ms/step - loss: 0.4691 - accuracy: 0.7671 - val_loss: 0.4224 - val_accuracy: 0.8117\n",
      "Epoch 19/100\n",
      "20/20 [==============================] - 0s 2ms/step - loss: 0.4674 - accuracy: 0.7687 - val_loss: 0.4218 - val_accuracy: 0.7987\n",
      "Epoch 20/100\n",
      "20/20 [==============================] - 0s 2ms/step - loss: 0.4658 - accuracy: 0.7720 - val_loss: 0.4200 - val_accuracy: 0.8052\n",
      "Epoch 21/100\n",
      "20/20 [==============================] - 0s 2ms/step - loss: 0.4645 - accuracy: 0.7687 - val_loss: 0.4208 - val_accuracy: 0.7987\n",
      "Epoch 22/100\n",
      "20/20 [==============================] - 0s 1ms/step - loss: 0.4632 - accuracy: 0.7687 - val_loss: 0.4206 - val_accuracy: 0.7987\n",
      "Epoch 23/100\n",
      "20/20 [==============================] - 0s 2ms/step - loss: 0.4621 - accuracy: 0.7720 - val_loss: 0.4205 - val_accuracy: 0.7987\n",
      "Epoch 24/100\n",
      "20/20 [==============================] - 0s 2ms/step - loss: 0.4607 - accuracy: 0.7671 - val_loss: 0.4205 - val_accuracy: 0.7987\n",
      "Epoch 25/100\n",
      "20/20 [==============================] - 0s 2ms/step - loss: 0.4596 - accuracy: 0.7704 - val_loss: 0.4202 - val_accuracy: 0.7987\n",
      "Epoch 26/100\n",
      "20/20 [==============================] - 0s 2ms/step - loss: 0.4588 - accuracy: 0.7736 - val_loss: 0.4212 - val_accuracy: 0.7987\n",
      "Epoch 27/100\n",
      "20/20 [==============================] - 0s 2ms/step - loss: 0.4577 - accuracy: 0.7720 - val_loss: 0.4215 - val_accuracy: 0.7987\n",
      "Epoch 28/100\n",
      "20/20 [==============================] - 0s 2ms/step - loss: 0.4569 - accuracy: 0.7736 - val_loss: 0.4212 - val_accuracy: 0.7987\n",
      "Epoch 29/100\n",
      "20/20 [==============================] - 0s 2ms/step - loss: 0.4558 - accuracy: 0.7704 - val_loss: 0.4222 - val_accuracy: 0.7987\n",
      "Epoch 30/100\n",
      "20/20 [==============================] - 0s 2ms/step - loss: 0.4546 - accuracy: 0.7736 - val_loss: 0.4227 - val_accuracy: 0.7987\n",
      "Epoch 31/100\n",
      "20/20 [==============================] - 0s 2ms/step - loss: 0.4540 - accuracy: 0.7720 - val_loss: 0.4217 - val_accuracy: 0.7987\n",
      "Epoch 32/100\n",
      "20/20 [==============================] - 0s 2ms/step - loss: 0.4536 - accuracy: 0.7769 - val_loss: 0.4216 - val_accuracy: 0.7987\n",
      "Epoch 33/100\n",
      "20/20 [==============================] - 0s 2ms/step - loss: 0.4526 - accuracy: 0.7769 - val_loss: 0.4227 - val_accuracy: 0.7987\n",
      "Epoch 34/100\n",
      "20/20 [==============================] - 0s 2ms/step - loss: 0.4518 - accuracy: 0.7769 - val_loss: 0.4228 - val_accuracy: 0.7987\n",
      "Epoch 35/100\n",
      "20/20 [==============================] - 0s 2ms/step - loss: 0.4508 - accuracy: 0.7769 - val_loss: 0.4218 - val_accuracy: 0.8052\n",
      "Epoch 36/100\n",
      "20/20 [==============================] - 0s 2ms/step - loss: 0.4502 - accuracy: 0.7752 - val_loss: 0.4219 - val_accuracy: 0.8052\n",
      "Epoch 37/100\n",
      "20/20 [==============================] - 0s 2ms/step - loss: 0.4498 - accuracy: 0.7801 - val_loss: 0.4222 - val_accuracy: 0.8052\n",
      "Epoch 38/100\n",
      "20/20 [==============================] - 0s 2ms/step - loss: 0.4487 - accuracy: 0.7752 - val_loss: 0.4228 - val_accuracy: 0.8052\n",
      "Epoch 39/100\n",
      "20/20 [==============================] - 0s 2ms/step - loss: 0.4482 - accuracy: 0.7785 - val_loss: 0.4233 - val_accuracy: 0.8052\n",
      "Epoch 40/100\n",
      "20/20 [==============================] - 0s 2ms/step - loss: 0.4477 - accuracy: 0.7769 - val_loss: 0.4239 - val_accuracy: 0.8117\n",
      "Epoch 41/100\n",
      "20/20 [==============================] - 0s 2ms/step - loss: 0.4468 - accuracy: 0.7818 - val_loss: 0.4248 - val_accuracy: 0.8117\n",
      "Epoch 42/100\n",
      "20/20 [==============================] - 0s 2ms/step - loss: 0.4460 - accuracy: 0.7818 - val_loss: 0.4249 - val_accuracy: 0.8117\n",
      "Epoch 43/100\n",
      "20/20 [==============================] - 0s 2ms/step - loss: 0.4452 - accuracy: 0.7801 - val_loss: 0.4251 - val_accuracy: 0.8182\n",
      "Epoch 44/100\n",
      "20/20 [==============================] - 0s 2ms/step - loss: 0.4449 - accuracy: 0.7818 - val_loss: 0.4256 - val_accuracy: 0.8182\n",
      "Epoch 45/100\n",
      "20/20 [==============================] - 0s 2ms/step - loss: 0.4441 - accuracy: 0.7866 - val_loss: 0.4264 - val_accuracy: 0.8182\n",
      "Epoch 46/100\n",
      "20/20 [==============================] - 0s 2ms/step - loss: 0.4434 - accuracy: 0.7834 - val_loss: 0.4272 - val_accuracy: 0.8182\n",
      "Epoch 47/100\n",
      "20/20 [==============================] - 0s 2ms/step - loss: 0.4426 - accuracy: 0.7834 - val_loss: 0.4281 - val_accuracy: 0.8182\n",
      "Epoch 48/100\n",
      "20/20 [==============================] - 0s 2ms/step - loss: 0.4422 - accuracy: 0.7866 - val_loss: 0.4285 - val_accuracy: 0.8117\n",
      "Epoch 49/100\n",
      "20/20 [==============================] - 0s 2ms/step - loss: 0.4414 - accuracy: 0.7834 - val_loss: 0.4281 - val_accuracy: 0.8182\n",
      "Epoch 50/100\n",
      "20/20 [==============================] - 0s 2ms/step - loss: 0.4407 - accuracy: 0.7932 - val_loss: 0.4289 - val_accuracy: 0.8117\n",
      "Epoch 51/100\n",
      "20/20 [==============================] - 0s 2ms/step - loss: 0.4400 - accuracy: 0.7932 - val_loss: 0.4303 - val_accuracy: 0.8052\n",
      "Epoch 52/100\n",
      "20/20 [==============================] - 0s 2ms/step - loss: 0.4395 - accuracy: 0.7932 - val_loss: 0.4304 - val_accuracy: 0.8182\n",
      "Epoch 53/100\n",
      "20/20 [==============================] - 0s 1ms/step - loss: 0.4388 - accuracy: 0.7883 - val_loss: 0.4311 - val_accuracy: 0.7987\n",
      "Epoch 54/100\n",
      "20/20 [==============================] - 0s 2ms/step - loss: 0.4385 - accuracy: 0.7883 - val_loss: 0.4299 - val_accuracy: 0.8182\n",
      "Epoch 55/100\n",
      "20/20 [==============================] - 0s 2ms/step - loss: 0.4374 - accuracy: 0.7899 - val_loss: 0.4311 - val_accuracy: 0.8052\n",
      "Epoch 56/100\n",
      "20/20 [==============================] - 0s 2ms/step - loss: 0.4373 - accuracy: 0.7948 - val_loss: 0.4322 - val_accuracy: 0.8052\n",
      "Epoch 57/100\n",
      "20/20 [==============================] - 0s 2ms/step - loss: 0.4367 - accuracy: 0.7932 - val_loss: 0.4319 - val_accuracy: 0.8117\n",
      "Epoch 58/100\n",
      "20/20 [==============================] - 0s 2ms/step - loss: 0.4368 - accuracy: 0.7915 - val_loss: 0.4330 - val_accuracy: 0.8052\n",
      "Epoch 59/100\n",
      "20/20 [==============================] - 0s 2ms/step - loss: 0.4358 - accuracy: 0.7899 - val_loss: 0.4322 - val_accuracy: 0.8052\n",
      "Epoch 60/100\n",
      "20/20 [==============================] - 0s 2ms/step - loss: 0.4357 - accuracy: 0.7899 - val_loss: 0.4311 - val_accuracy: 0.8117\n",
      "Epoch 61/100\n",
      "20/20 [==============================] - 0s 2ms/step - loss: 0.4350 - accuracy: 0.7932 - val_loss: 0.4305 - val_accuracy: 0.8117\n",
      "Epoch 62/100\n",
      "20/20 [==============================] - 0s 2ms/step - loss: 0.4345 - accuracy: 0.7915 - val_loss: 0.4311 - val_accuracy: 0.8117\n",
      "Epoch 63/100\n",
      "20/20 [==============================] - 0s 2ms/step - loss: 0.4343 - accuracy: 0.7948 - val_loss: 0.4319 - val_accuracy: 0.8117\n",
      "Epoch 64/100\n",
      "20/20 [==============================] - 0s 2ms/step - loss: 0.4334 - accuracy: 0.7964 - val_loss: 0.4322 - val_accuracy: 0.8117\n"
     ]
    },
    {
     "name": "stdout",
     "output_type": "stream",
     "text": [
      "Epoch 65/100\n",
      "20/20 [==============================] - 0s 2ms/step - loss: 0.4333 - accuracy: 0.7899 - val_loss: 0.4325 - val_accuracy: 0.8182\n",
      "Epoch 66/100\n",
      "20/20 [==============================] - 0s 2ms/step - loss: 0.4326 - accuracy: 0.7964 - val_loss: 0.4340 - val_accuracy: 0.8182\n",
      "Epoch 67/100\n",
      "20/20 [==============================] - 0s 2ms/step - loss: 0.4324 - accuracy: 0.7964 - val_loss: 0.4342 - val_accuracy: 0.8117\n",
      "Epoch 68/100\n",
      "20/20 [==============================] - 0s 2ms/step - loss: 0.4320 - accuracy: 0.7948 - val_loss: 0.4341 - val_accuracy: 0.8182\n",
      "Epoch 69/100\n",
      "20/20 [==============================] - 0s 2ms/step - loss: 0.4311 - accuracy: 0.8013 - val_loss: 0.4343 - val_accuracy: 0.8182\n",
      "Epoch 70/100\n",
      "20/20 [==============================] - 0s 2ms/step - loss: 0.4305 - accuracy: 0.7964 - val_loss: 0.4348 - val_accuracy: 0.8182\n",
      "Epoch 71/100\n",
      "20/20 [==============================] - 0s 2ms/step - loss: 0.4306 - accuracy: 0.7980 - val_loss: 0.4356 - val_accuracy: 0.8182\n",
      "Epoch 72/100\n",
      "20/20 [==============================] - 0s 2ms/step - loss: 0.4300 - accuracy: 0.7980 - val_loss: 0.4357 - val_accuracy: 0.8247\n",
      "Epoch 73/100\n",
      "20/20 [==============================] - 0s 2ms/step - loss: 0.4292 - accuracy: 0.7997 - val_loss: 0.4375 - val_accuracy: 0.8182\n",
      "Epoch 74/100\n",
      "20/20 [==============================] - 0s 2ms/step - loss: 0.4293 - accuracy: 0.7964 - val_loss: 0.4366 - val_accuracy: 0.8247\n",
      "Epoch 75/100\n",
      "20/20 [==============================] - 0s 2ms/step - loss: 0.4284 - accuracy: 0.8013 - val_loss: 0.4378 - val_accuracy: 0.8182\n",
      "Epoch 76/100\n",
      "20/20 [==============================] - 0s 2ms/step - loss: 0.4287 - accuracy: 0.7997 - val_loss: 0.4383 - val_accuracy: 0.8247\n",
      "Epoch 77/100\n",
      "20/20 [==============================] - 0s 2ms/step - loss: 0.4282 - accuracy: 0.8013 - val_loss: 0.4373 - val_accuracy: 0.8312\n",
      "Epoch 78/100\n",
      "20/20 [==============================] - 0s 2ms/step - loss: 0.4276 - accuracy: 0.8046 - val_loss: 0.4388 - val_accuracy: 0.8247\n",
      "Epoch 79/100\n",
      "20/20 [==============================] - 0s 2ms/step - loss: 0.4269 - accuracy: 0.7980 - val_loss: 0.4400 - val_accuracy: 0.8247\n",
      "Epoch 80/100\n",
      "20/20 [==============================] - 0s 2ms/step - loss: 0.4270 - accuracy: 0.7980 - val_loss: 0.4399 - val_accuracy: 0.8247\n",
      "Epoch 81/100\n",
      "20/20 [==============================] - 0s 2ms/step - loss: 0.4264 - accuracy: 0.7997 - val_loss: 0.4413 - val_accuracy: 0.8182\n",
      "Epoch 82/100\n",
      "20/20 [==============================] - 0s 2ms/step - loss: 0.4256 - accuracy: 0.7997 - val_loss: 0.4411 - val_accuracy: 0.8182\n",
      "Epoch 83/100\n",
      "20/20 [==============================] - 0s 2ms/step - loss: 0.4255 - accuracy: 0.7997 - val_loss: 0.4394 - val_accuracy: 0.8247\n",
      "Epoch 84/100\n",
      "20/20 [==============================] - 0s 2ms/step - loss: 0.4251 - accuracy: 0.8046 - val_loss: 0.4385 - val_accuracy: 0.8312\n",
      "Epoch 85/100\n",
      "20/20 [==============================] - 0s 2ms/step - loss: 0.4255 - accuracy: 0.8062 - val_loss: 0.4390 - val_accuracy: 0.8247\n",
      "Epoch 86/100\n",
      "20/20 [==============================] - 0s 2ms/step - loss: 0.4248 - accuracy: 0.7997 - val_loss: 0.4390 - val_accuracy: 0.8247\n",
      "Epoch 87/100\n",
      "20/20 [==============================] - 0s 2ms/step - loss: 0.4251 - accuracy: 0.8062 - val_loss: 0.4398 - val_accuracy: 0.8247\n",
      "Epoch 88/100\n",
      "20/20 [==============================] - 0s 2ms/step - loss: 0.4238 - accuracy: 0.8094 - val_loss: 0.4418 - val_accuracy: 0.8182\n",
      "Epoch 89/100\n",
      "20/20 [==============================] - 0s 2ms/step - loss: 0.4235 - accuracy: 0.8029 - val_loss: 0.4415 - val_accuracy: 0.8182\n",
      "Epoch 90/100\n",
      "20/20 [==============================] - 0s 2ms/step - loss: 0.4230 - accuracy: 0.8046 - val_loss: 0.4416 - val_accuracy: 0.8182\n",
      "Epoch 91/100\n",
      "20/20 [==============================] - 0s 2ms/step - loss: 0.4228 - accuracy: 0.8029 - val_loss: 0.4427 - val_accuracy: 0.8182\n",
      "Epoch 92/100\n",
      "20/20 [==============================] - 0s 1ms/step - loss: 0.4226 - accuracy: 0.8013 - val_loss: 0.4433 - val_accuracy: 0.8247\n",
      "Epoch 93/100\n",
      "20/20 [==============================] - 0s 1ms/step - loss: 0.4221 - accuracy: 0.8078 - val_loss: 0.4432 - val_accuracy: 0.8182\n",
      "Epoch 94/100\n",
      "20/20 [==============================] - 0s 2ms/step - loss: 0.4214 - accuracy: 0.8078 - val_loss: 0.4436 - val_accuracy: 0.8182\n",
      "Epoch 95/100\n",
      "20/20 [==============================] - 0s 2ms/step - loss: 0.4217 - accuracy: 0.8160 - val_loss: 0.4447 - val_accuracy: 0.8182\n",
      "Epoch 96/100\n",
      "20/20 [==============================] - 0s 2ms/step - loss: 0.4208 - accuracy: 0.8094 - val_loss: 0.4442 - val_accuracy: 0.8247\n",
      "Epoch 97/100\n",
      "20/20 [==============================] - 0s 1ms/step - loss: 0.4206 - accuracy: 0.8143 - val_loss: 0.4451 - val_accuracy: 0.8247\n",
      "Epoch 98/100\n",
      "20/20 [==============================] - 0s 1ms/step - loss: 0.4204 - accuracy: 0.8111 - val_loss: 0.4449 - val_accuracy: 0.8182\n",
      "Epoch 99/100\n",
      "20/20 [==============================] - 0s 2ms/step - loss: 0.4200 - accuracy: 0.8094 - val_loss: 0.4458 - val_accuracy: 0.8182\n",
      "Epoch 100/100\n",
      "20/20 [==============================] - 0s 2ms/step - loss: 0.4200 - accuracy: 0.8094 - val_loss: 0.4456 - val_accuracy: 0.8247\n"
     ]
    },
    {
     "data": {
      "text/plain": [
       "<keras.callbacks.History at 0x28b3350c190>"
      ]
     },
     "execution_count": 20,
     "metadata": {},
     "output_type": "execute_result"
    }
   ],
   "source": [
    "model.fit(X_train,y_train,batch_size=32,epochs=100,initial_epoch=6,validation_data=(X_test,y_test))"
   ]
  },
  {
   "cell_type": "code",
   "execution_count": 21,
   "id": "f8ce5347",
   "metadata": {
    "ExecuteTime": {
     "end_time": "2022-08-29T11:25:16.468358Z",
     "start_time": "2022-08-29T11:25:16.449391Z"
    }
   },
   "outputs": [],
   "source": [
    "def build_model(hp):\n",
    "    model=Sequential()\n",
    "    units=hp.Int('units',min_value=8,max_value=128,step=8)\n",
    "    model.add(Dense(units=units,activation='relu',input_dim=8))\n",
    "    model.add(Dense(1,activation='sigmoid'))\n",
    "    \n",
    "    model.compile(optimizer='rmsprop',loss='binary_crossentropy',metrics=['accuracy'])\n",
    "    \n",
    "    return model\n",
    "    \n",
    "    "
   ]
  },
  {
   "cell_type": "code",
   "execution_count": 22,
   "id": "f6e52d6b",
   "metadata": {
    "ExecuteTime": {
     "end_time": "2022-08-29T11:25:17.411456Z",
     "start_time": "2022-08-29T11:25:17.382000Z"
    }
   },
   "outputs": [],
   "source": [
    "tuner = kt.RandomSearch(build_model,\n",
    "                       objective='val_accuracy',\n",
    "                       max_trials=5,\n",
    "                       directory='keras_tuner_dir1',\n",
    "                       project_name='keras_tuner_demo2')"
   ]
  },
  {
   "cell_type": "code",
   "execution_count": 23,
   "id": "1d9eff03",
   "metadata": {
    "ExecuteTime": {
     "end_time": "2022-08-29T11:25:22.619428Z",
     "start_time": "2022-08-29T11:25:18.692077Z"
    }
   },
   "outputs": [
    {
     "name": "stdout",
     "output_type": "stream",
     "text": [
      "Trial 5 Complete [00h 00m 01s]\n",
      "val_accuracy: 0.798701286315918\n",
      "\n",
      "Best val_accuracy So Far: 0.8311688303947449\n",
      "Total elapsed time: 00h 00m 04s\n",
      "INFO:tensorflow:Oracle triggered exit\n"
     ]
    }
   ],
   "source": [
    "tuner.search(X_train,y_train,epochs=5,validation_data=(X_test,y_test))"
   ]
  },
  {
   "cell_type": "code",
   "execution_count": 24,
   "id": "cdedf3d5",
   "metadata": {
    "ExecuteTime": {
     "end_time": "2022-08-29T11:25:33.596806Z",
     "start_time": "2022-08-29T11:25:33.582700Z"
    }
   },
   "outputs": [
    {
     "data": {
      "text/plain": [
       "{'units': 56}"
      ]
     },
     "execution_count": 24,
     "metadata": {},
     "output_type": "execute_result"
    }
   ],
   "source": [
    "tuner.get_best_hyperparameters()[0].values"
   ]
  },
  {
   "cell_type": "markdown",
   "id": "ef700252",
   "metadata": {},
   "source": [
    "# No of Nodes = 56"
   ]
  },
  {
   "cell_type": "code",
   "execution_count": 25,
   "id": "40893823",
   "metadata": {
    "ExecuteTime": {
     "end_time": "2022-08-29T11:25:34.748618Z",
     "start_time": "2022-08-29T11:25:34.629821Z"
    }
   },
   "outputs": [],
   "source": [
    "model=tuner.get_best_models(num_models=1)[0]"
   ]
  },
  {
   "cell_type": "code",
   "execution_count": 26,
   "id": "dc8d3bb1",
   "metadata": {
    "ExecuteTime": {
     "end_time": "2022-08-29T11:25:35.595880Z",
     "start_time": "2022-08-29T11:25:35.589861Z"
    }
   },
   "outputs": [
    {
     "name": "stdout",
     "output_type": "stream",
     "text": [
      "Model: \"sequential\"\n",
      "_________________________________________________________________\n",
      "Layer (type)                 Output Shape              Param #   \n",
      "=================================================================\n",
      "dense (Dense)                (None, 56)                504       \n",
      "_________________________________________________________________\n",
      "dense_1 (Dense)              (None, 1)                 57        \n",
      "=================================================================\n",
      "Total params: 561\n",
      "Trainable params: 561\n",
      "Non-trainable params: 0\n",
      "_________________________________________________________________\n"
     ]
    }
   ],
   "source": [
    "model.summary()"
   ]
  },
  {
   "cell_type": "code",
   "execution_count": 27,
   "id": "4bfc9186",
   "metadata": {
    "ExecuteTime": {
     "end_time": "2022-08-29T11:25:40.152397Z",
     "start_time": "2022-08-29T11:25:36.386260Z"
    }
   },
   "outputs": [
    {
     "name": "stdout",
     "output_type": "stream",
     "text": [
      "Epoch 7/100\n",
      "20/20 [==============================] - 0s 6ms/step - loss: 0.5079 - accuracy: 0.7687 - val_loss: 0.4705 - val_accuracy: 0.8182\n",
      "Epoch 8/100\n",
      "20/20 [==============================] - 0s 2ms/step - loss: 0.4944 - accuracy: 0.7736 - val_loss: 0.4609 - val_accuracy: 0.8247\n",
      "Epoch 9/100\n",
      "20/20 [==============================] - 0s 2ms/step - loss: 0.4856 - accuracy: 0.7704 - val_loss: 0.4491 - val_accuracy: 0.8247\n",
      "Epoch 10/100\n",
      "20/20 [==============================] - 0s 2ms/step - loss: 0.4780 - accuracy: 0.7687 - val_loss: 0.4404 - val_accuracy: 0.8312\n",
      "Epoch 11/100\n",
      "20/20 [==============================] - 0s 2ms/step - loss: 0.4728 - accuracy: 0.7704 - val_loss: 0.4362 - val_accuracy: 0.8377\n",
      "Epoch 12/100\n",
      "20/20 [==============================] - 0s 2ms/step - loss: 0.4682 - accuracy: 0.7687 - val_loss: 0.4349 - val_accuracy: 0.8312\n",
      "Epoch 13/100\n",
      "20/20 [==============================] - 0s 2ms/step - loss: 0.4655 - accuracy: 0.7655 - val_loss: 0.4320 - val_accuracy: 0.8377\n",
      "Epoch 14/100\n",
      "20/20 [==============================] - 0s 2ms/step - loss: 0.4626 - accuracy: 0.7687 - val_loss: 0.4295 - val_accuracy: 0.8442\n",
      "Epoch 15/100\n",
      "20/20 [==============================] - 0s 2ms/step - loss: 0.4607 - accuracy: 0.7671 - val_loss: 0.4296 - val_accuracy: 0.8442\n",
      "Epoch 16/100\n",
      "20/20 [==============================] - 0s 2ms/step - loss: 0.4583 - accuracy: 0.7720 - val_loss: 0.4294 - val_accuracy: 0.8377\n",
      "Epoch 17/100\n",
      "20/20 [==============================] - 0s 2ms/step - loss: 0.4568 - accuracy: 0.7720 - val_loss: 0.4285 - val_accuracy: 0.8442\n",
      "Epoch 18/100\n",
      "20/20 [==============================] - 0s 2ms/step - loss: 0.4554 - accuracy: 0.7720 - val_loss: 0.4282 - val_accuracy: 0.8377\n",
      "Epoch 19/100\n",
      "20/20 [==============================] - 0s 2ms/step - loss: 0.4537 - accuracy: 0.7736 - val_loss: 0.4285 - val_accuracy: 0.8312\n",
      "Epoch 20/100\n",
      "20/20 [==============================] - 0s 2ms/step - loss: 0.4531 - accuracy: 0.7769 - val_loss: 0.4296 - val_accuracy: 0.8117\n",
      "Epoch 21/100\n",
      "20/20 [==============================] - 0s 2ms/step - loss: 0.4507 - accuracy: 0.7752 - val_loss: 0.4289 - val_accuracy: 0.8312\n",
      "Epoch 22/100\n",
      "20/20 [==============================] - 0s 2ms/step - loss: 0.4499 - accuracy: 0.7801 - val_loss: 0.4306 - val_accuracy: 0.8117\n",
      "Epoch 23/100\n",
      "20/20 [==============================] - 0s 2ms/step - loss: 0.4487 - accuracy: 0.7785 - val_loss: 0.4320 - val_accuracy: 0.8182\n",
      "Epoch 24/100\n",
      "20/20 [==============================] - 0s 2ms/step - loss: 0.4473 - accuracy: 0.7769 - val_loss: 0.4311 - val_accuracy: 0.8182\n",
      "Epoch 25/100\n",
      "20/20 [==============================] - 0s 2ms/step - loss: 0.4468 - accuracy: 0.7785 - val_loss: 0.4301 - val_accuracy: 0.8247\n",
      "Epoch 26/100\n",
      "20/20 [==============================] - 0s 2ms/step - loss: 0.4453 - accuracy: 0.7866 - val_loss: 0.4324 - val_accuracy: 0.8247\n",
      "Epoch 27/100\n",
      "20/20 [==============================] - 0s 2ms/step - loss: 0.4445 - accuracy: 0.7818 - val_loss: 0.4318 - val_accuracy: 0.8247\n",
      "Epoch 28/100\n",
      "20/20 [==============================] - 0s 2ms/step - loss: 0.4430 - accuracy: 0.7834 - val_loss: 0.4308 - val_accuracy: 0.8247\n",
      "Epoch 29/100\n",
      "20/20 [==============================] - 0s 2ms/step - loss: 0.4428 - accuracy: 0.7866 - val_loss: 0.4313 - val_accuracy: 0.8247\n",
      "Epoch 30/100\n",
      "20/20 [==============================] - 0s 2ms/step - loss: 0.4418 - accuracy: 0.7866 - val_loss: 0.4325 - val_accuracy: 0.8247\n",
      "Epoch 31/100\n",
      "20/20 [==============================] - 0s 2ms/step - loss: 0.4413 - accuracy: 0.7948 - val_loss: 0.4327 - val_accuracy: 0.8247\n",
      "Epoch 32/100\n",
      "20/20 [==============================] - 0s 2ms/step - loss: 0.4397 - accuracy: 0.7899 - val_loss: 0.4340 - val_accuracy: 0.8182\n",
      "Epoch 33/100\n",
      "20/20 [==============================] - 0s 2ms/step - loss: 0.4394 - accuracy: 0.7899 - val_loss: 0.4341 - val_accuracy: 0.8247\n",
      "Epoch 34/100\n",
      "20/20 [==============================] - 0s 2ms/step - loss: 0.4383 - accuracy: 0.7915 - val_loss: 0.4344 - val_accuracy: 0.8182\n",
      "Epoch 35/100\n",
      "20/20 [==============================] - 0s 2ms/step - loss: 0.4374 - accuracy: 0.7932 - val_loss: 0.4342 - val_accuracy: 0.8247\n",
      "Epoch 36/100\n",
      "20/20 [==============================] - 0s 2ms/step - loss: 0.4368 - accuracy: 0.7899 - val_loss: 0.4333 - val_accuracy: 0.8247\n",
      "Epoch 37/100\n",
      "20/20 [==============================] - 0s 2ms/step - loss: 0.4362 - accuracy: 0.7932 - val_loss: 0.4334 - val_accuracy: 0.8182\n",
      "Epoch 38/100\n",
      "20/20 [==============================] - 0s 2ms/step - loss: 0.4355 - accuracy: 0.7980 - val_loss: 0.4341 - val_accuracy: 0.8247\n",
      "Epoch 39/100\n",
      "20/20 [==============================] - 0s 2ms/step - loss: 0.4345 - accuracy: 0.7948 - val_loss: 0.4367 - val_accuracy: 0.8247\n",
      "Epoch 40/100\n",
      "20/20 [==============================] - 0s 2ms/step - loss: 0.4342 - accuracy: 0.7899 - val_loss: 0.4372 - val_accuracy: 0.8247\n",
      "Epoch 41/100\n",
      "20/20 [==============================] - 0s 2ms/step - loss: 0.4332 - accuracy: 0.7948 - val_loss: 0.4370 - val_accuracy: 0.8182\n",
      "Epoch 42/100\n",
      "20/20 [==============================] - 0s 2ms/step - loss: 0.4324 - accuracy: 0.7980 - val_loss: 0.4376 - val_accuracy: 0.8117\n",
      "Epoch 43/100\n",
      "20/20 [==============================] - 0s 2ms/step - loss: 0.4321 - accuracy: 0.7964 - val_loss: 0.4404 - val_accuracy: 0.8117\n",
      "Epoch 44/100\n",
      "20/20 [==============================] - 0s 2ms/step - loss: 0.4312 - accuracy: 0.7997 - val_loss: 0.4401 - val_accuracy: 0.8182\n",
      "Epoch 45/100\n",
      "20/20 [==============================] - 0s 2ms/step - loss: 0.4309 - accuracy: 0.7964 - val_loss: 0.4405 - val_accuracy: 0.8117\n",
      "Epoch 46/100\n",
      "20/20 [==============================] - 0s 2ms/step - loss: 0.4301 - accuracy: 0.7997 - val_loss: 0.4397 - val_accuracy: 0.8117\n",
      "Epoch 47/100\n",
      "20/20 [==============================] - 0s 2ms/step - loss: 0.4291 - accuracy: 0.7997 - val_loss: 0.4413 - val_accuracy: 0.8117\n",
      "Epoch 48/100\n",
      "20/20 [==============================] - 0s 2ms/step - loss: 0.4290 - accuracy: 0.7980 - val_loss: 0.4416 - val_accuracy: 0.8182\n",
      "Epoch 49/100\n",
      "20/20 [==============================] - 0s 2ms/step - loss: 0.4280 - accuracy: 0.7964 - val_loss: 0.4434 - val_accuracy: 0.8377\n",
      "Epoch 50/100\n",
      "20/20 [==============================] - 0s 2ms/step - loss: 0.4282 - accuracy: 0.8013 - val_loss: 0.4439 - val_accuracy: 0.8247\n",
      "Epoch 51/100\n",
      "20/20 [==============================] - 0s 2ms/step - loss: 0.4268 - accuracy: 0.7980 - val_loss: 0.4430 - val_accuracy: 0.8182\n",
      "Epoch 52/100\n",
      "20/20 [==============================] - 0s 2ms/step - loss: 0.4265 - accuracy: 0.8046 - val_loss: 0.4458 - val_accuracy: 0.8377\n",
      "Epoch 53/100\n",
      "20/20 [==============================] - 0s 2ms/step - loss: 0.4259 - accuracy: 0.8013 - val_loss: 0.4436 - val_accuracy: 0.8247\n",
      "Epoch 54/100\n",
      "20/20 [==============================] - 0s 2ms/step - loss: 0.4255 - accuracy: 0.7997 - val_loss: 0.4424 - val_accuracy: 0.8117\n",
      "Epoch 55/100\n",
      "20/20 [==============================] - 0s 2ms/step - loss: 0.4250 - accuracy: 0.8062 - val_loss: 0.4427 - val_accuracy: 0.8182\n",
      "Epoch 56/100\n",
      "20/20 [==============================] - 0s 2ms/step - loss: 0.4245 - accuracy: 0.7980 - val_loss: 0.4455 - val_accuracy: 0.8182\n",
      "Epoch 57/100\n",
      "20/20 [==============================] - 0s 2ms/step - loss: 0.4234 - accuracy: 0.8094 - val_loss: 0.4439 - val_accuracy: 0.8247\n",
      "Epoch 58/100\n",
      "20/20 [==============================] - 0s 2ms/step - loss: 0.4227 - accuracy: 0.8062 - val_loss: 0.4440 - val_accuracy: 0.8182\n",
      "Epoch 59/100\n",
      "20/20 [==============================] - 0s 2ms/step - loss: 0.4227 - accuracy: 0.8078 - val_loss: 0.4472 - val_accuracy: 0.8312\n",
      "Epoch 60/100\n",
      "20/20 [==============================] - 0s 2ms/step - loss: 0.4224 - accuracy: 0.8046 - val_loss: 0.4471 - val_accuracy: 0.8312\n",
      "Epoch 61/100\n",
      "20/20 [==============================] - 0s 2ms/step - loss: 0.4221 - accuracy: 0.8046 - val_loss: 0.4478 - val_accuracy: 0.8312\n",
      "Epoch 62/100\n",
      "20/20 [==============================] - 0s 2ms/step - loss: 0.4214 - accuracy: 0.8046 - val_loss: 0.4463 - val_accuracy: 0.8377\n",
      "Epoch 63/100\n",
      "20/20 [==============================] - 0s 2ms/step - loss: 0.4210 - accuracy: 0.8078 - val_loss: 0.4446 - val_accuracy: 0.8312\n",
      "Epoch 64/100\n",
      "20/20 [==============================] - 0s 2ms/step - loss: 0.4203 - accuracy: 0.8062 - val_loss: 0.4447 - val_accuracy: 0.8247\n"
     ]
    },
    {
     "name": "stdout",
     "output_type": "stream",
     "text": [
      "Epoch 65/100\n",
      "20/20 [==============================] - 0s 2ms/step - loss: 0.4210 - accuracy: 0.8046 - val_loss: 0.4465 - val_accuracy: 0.8312\n",
      "Epoch 66/100\n",
      "20/20 [==============================] - 0s 2ms/step - loss: 0.4191 - accuracy: 0.8029 - val_loss: 0.4475 - val_accuracy: 0.8377\n",
      "Epoch 67/100\n",
      "20/20 [==============================] - 0s 2ms/step - loss: 0.4193 - accuracy: 0.8078 - val_loss: 0.4456 - val_accuracy: 0.8312\n",
      "Epoch 68/100\n",
      "20/20 [==============================] - 0s 2ms/step - loss: 0.4180 - accuracy: 0.8046 - val_loss: 0.4483 - val_accuracy: 0.8377\n",
      "Epoch 69/100\n",
      "20/20 [==============================] - 0s 2ms/step - loss: 0.4176 - accuracy: 0.8062 - val_loss: 0.4474 - val_accuracy: 0.8312\n",
      "Epoch 70/100\n",
      "20/20 [==============================] - 0s 2ms/step - loss: 0.4173 - accuracy: 0.8046 - val_loss: 0.4479 - val_accuracy: 0.8312\n",
      "Epoch 71/100\n",
      "20/20 [==============================] - 0s 2ms/step - loss: 0.4166 - accuracy: 0.8029 - val_loss: 0.4478 - val_accuracy: 0.8312\n",
      "Epoch 72/100\n",
      "20/20 [==============================] - 0s 2ms/step - loss: 0.4166 - accuracy: 0.8111 - val_loss: 0.4503 - val_accuracy: 0.8312\n",
      "Epoch 73/100\n",
      "20/20 [==============================] - 0s 2ms/step - loss: 0.4161 - accuracy: 0.8094 - val_loss: 0.4512 - val_accuracy: 0.8247\n",
      "Epoch 74/100\n",
      "20/20 [==============================] - 0s 2ms/step - loss: 0.4158 - accuracy: 0.8062 - val_loss: 0.4485 - val_accuracy: 0.8377\n",
      "Epoch 75/100\n",
      "20/20 [==============================] - 0s 2ms/step - loss: 0.4157 - accuracy: 0.8046 - val_loss: 0.4478 - val_accuracy: 0.8377\n",
      "Epoch 76/100\n",
      "20/20 [==============================] - 0s 2ms/step - loss: 0.4145 - accuracy: 0.8094 - val_loss: 0.4480 - val_accuracy: 0.8312\n",
      "Epoch 77/100\n",
      "20/20 [==============================] - 0s 2ms/step - loss: 0.4140 - accuracy: 0.8111 - val_loss: 0.4497 - val_accuracy: 0.8312\n",
      "Epoch 78/100\n",
      "20/20 [==============================] - 0s 2ms/step - loss: 0.4140 - accuracy: 0.8046 - val_loss: 0.4495 - val_accuracy: 0.8312\n",
      "Epoch 79/100\n",
      "20/20 [==============================] - 0s 2ms/step - loss: 0.4137 - accuracy: 0.8013 - val_loss: 0.4503 - val_accuracy: 0.8377\n",
      "Epoch 80/100\n",
      "20/20 [==============================] - 0s 2ms/step - loss: 0.4132 - accuracy: 0.8111 - val_loss: 0.4526 - val_accuracy: 0.8312\n",
      "Epoch 81/100\n",
      "20/20 [==============================] - 0s 2ms/step - loss: 0.4126 - accuracy: 0.8094 - val_loss: 0.4489 - val_accuracy: 0.8377\n",
      "Epoch 82/100\n",
      "20/20 [==============================] - 0s 2ms/step - loss: 0.4123 - accuracy: 0.8046 - val_loss: 0.4497 - val_accuracy: 0.8377\n",
      "Epoch 83/100\n",
      "20/20 [==============================] - 0s 2ms/step - loss: 0.4124 - accuracy: 0.8078 - val_loss: 0.4498 - val_accuracy: 0.8377\n",
      "Epoch 84/100\n",
      "20/20 [==============================] - 0s 2ms/step - loss: 0.4118 - accuracy: 0.8062 - val_loss: 0.4521 - val_accuracy: 0.8247\n",
      "Epoch 85/100\n",
      "20/20 [==============================] - 0s 2ms/step - loss: 0.4114 - accuracy: 0.8111 - val_loss: 0.4495 - val_accuracy: 0.8377\n",
      "Epoch 86/100\n",
      "20/20 [==============================] - 0s 2ms/step - loss: 0.4107 - accuracy: 0.8143 - val_loss: 0.4503 - val_accuracy: 0.8442\n",
      "Epoch 87/100\n",
      "20/20 [==============================] - 0s 2ms/step - loss: 0.4101 - accuracy: 0.8078 - val_loss: 0.4551 - val_accuracy: 0.8312\n",
      "Epoch 88/100\n",
      "20/20 [==============================] - 0s 2ms/step - loss: 0.4096 - accuracy: 0.8078 - val_loss: 0.4530 - val_accuracy: 0.8312\n",
      "Epoch 89/100\n",
      "20/20 [==============================] - 0s 2ms/step - loss: 0.4093 - accuracy: 0.8127 - val_loss: 0.4526 - val_accuracy: 0.8377\n",
      "Epoch 90/100\n",
      "20/20 [==============================] - 0s 2ms/step - loss: 0.4100 - accuracy: 0.8046 - val_loss: 0.4537 - val_accuracy: 0.8312\n",
      "Epoch 91/100\n",
      "20/20 [==============================] - 0s 2ms/step - loss: 0.4091 - accuracy: 0.8062 - val_loss: 0.4538 - val_accuracy: 0.8247\n",
      "Epoch 92/100\n",
      "20/20 [==============================] - 0s 2ms/step - loss: 0.4084 - accuracy: 0.8062 - val_loss: 0.4566 - val_accuracy: 0.8312\n",
      "Epoch 93/100\n",
      "20/20 [==============================] - 0s 2ms/step - loss: 0.4091 - accuracy: 0.8046 - val_loss: 0.4558 - val_accuracy: 0.8247\n",
      "Epoch 94/100\n",
      "20/20 [==============================] - 0s 2ms/step - loss: 0.4078 - accuracy: 0.8111 - val_loss: 0.4555 - val_accuracy: 0.8312\n",
      "Epoch 95/100\n",
      "20/20 [==============================] - 0s 1ms/step - loss: 0.4076 - accuracy: 0.8143 - val_loss: 0.4540 - val_accuracy: 0.8312\n",
      "Epoch 96/100\n",
      "20/20 [==============================] - 0s 2ms/step - loss: 0.4070 - accuracy: 0.8160 - val_loss: 0.4580 - val_accuracy: 0.8312\n",
      "Epoch 97/100\n",
      "20/20 [==============================] - 0s 2ms/step - loss: 0.4068 - accuracy: 0.8143 - val_loss: 0.4605 - val_accuracy: 0.8247\n",
      "Epoch 98/100\n",
      "20/20 [==============================] - 0s 2ms/step - loss: 0.4064 - accuracy: 0.8192 - val_loss: 0.4614 - val_accuracy: 0.8247\n",
      "Epoch 99/100\n",
      "20/20 [==============================] - 0s 2ms/step - loss: 0.4062 - accuracy: 0.8143 - val_loss: 0.4589 - val_accuracy: 0.8247\n",
      "Epoch 100/100\n",
      "20/20 [==============================] - 0s 2ms/step - loss: 0.4060 - accuracy: 0.8094 - val_loss: 0.4583 - val_accuracy: 0.8247\n"
     ]
    },
    {
     "data": {
      "text/plain": [
       "<keras.callbacks.History at 0x28b346142b0>"
      ]
     },
     "execution_count": 27,
     "metadata": {},
     "output_type": "execute_result"
    }
   ],
   "source": [
    "model.fit(X_train,y_train,batch_size=32,epochs=100,initial_epoch=6,validation_data=(X_test,y_test))"
   ]
  },
  {
   "cell_type": "markdown",
   "id": "9c1ab9ed",
   "metadata": {},
   "source": [
    "# accuracy raised from 79 to 81"
   ]
  },
  {
   "cell_type": "code",
   "execution_count": 36,
   "id": "3775a171",
   "metadata": {
    "ExecuteTime": {
     "end_time": "2022-08-29T11:27:32.734066Z",
     "start_time": "2022-08-29T11:27:32.717009Z"
    }
   },
   "outputs": [],
   "source": [
    "def build_model(hp):\n",
    "    \n",
    "    model=Sequential()\n",
    "    model.add(Dense(72,activation='relu',input_dim=8))\n",
    "    \n",
    "    for i in range(hp.Int('num_layers',min_value=1,max_value=10)):\n",
    "        model.add(Dense(72,activation='relu'))\n",
    "    model.add(Dense(1,activation='sigmoid'))\n",
    "    model.compile(optimizer='rmsprop',loss='binary_crossentropy',metrics=['accuracy'])\n",
    "    \n",
    "    return model\n",
    "    "
   ]
  },
  {
   "cell_type": "code",
   "execution_count": 37,
   "id": "1b9d978a",
   "metadata": {
    "ExecuteTime": {
     "end_time": "2022-08-29T11:27:42.945666Z",
     "start_time": "2022-08-29T11:27:42.903958Z"
    }
   },
   "outputs": [],
   "source": [
    "tuner = kt.RandomSearch(build_model,\n",
    "                       objective='val_accuracy',\n",
    "                       max_trials=3,\n",
    "                       directory='keras_tuner_dir1',\n",
    "                       project_name='keras_tuner_demo3')"
   ]
  },
  {
   "cell_type": "code",
   "execution_count": 38,
   "id": "32faa8bc",
   "metadata": {
    "ExecuteTime": {
     "end_time": "2022-08-29T11:27:46.986979Z",
     "start_time": "2022-08-29T11:27:43.471152Z"
    }
   },
   "outputs": [
    {
     "name": "stdout",
     "output_type": "stream",
     "text": [
      "Trial 3 Complete [00h 00m 01s]\n",
      "val_accuracy: 0.8181818127632141\n",
      "\n",
      "Best val_accuracy So Far: 0.8181818127632141\n",
      "Total elapsed time: 00h 00m 03s\n",
      "INFO:tensorflow:Oracle triggered exit\n"
     ]
    }
   ],
   "source": [
    "tuner.search(X_train,y_train,epochs=5,validation_data=(X_test,y_test))"
   ]
  },
  {
   "cell_type": "code",
   "execution_count": 39,
   "id": "9d92d9bc",
   "metadata": {
    "ExecuteTime": {
     "end_time": "2022-08-29T11:27:53.326259Z",
     "start_time": "2022-08-29T11:27:53.314260Z"
    }
   },
   "outputs": [
    {
     "data": {
      "text/plain": [
       "{'num_layers': 6}"
      ]
     },
     "execution_count": 39,
     "metadata": {},
     "output_type": "execute_result"
    }
   ],
   "source": [
    "tuner1.get_best_hyperparameters()[0].values"
   ]
  },
  {
   "cell_type": "code",
   "execution_count": 40,
   "id": "bbc866e6",
   "metadata": {
    "ExecuteTime": {
     "end_time": "2022-08-29T11:27:58.948165Z",
     "start_time": "2022-08-29T11:27:55.542242Z"
    }
   },
   "outputs": [
    {
     "name": "stdout",
     "output_type": "stream",
     "text": [
      "Epoch 7/100\n",
      "20/20 [==============================] - 0s 3ms/step - loss: 0.4058 - accuracy: 0.8192 - val_loss: 0.4573 - val_accuracy: 0.8182\n",
      "Epoch 8/100\n",
      "20/20 [==============================] - 0s 2ms/step - loss: 0.4057 - accuracy: 0.8160 - val_loss: 0.4579 - val_accuracy: 0.8247\n",
      "Epoch 9/100\n",
      "20/20 [==============================] - 0s 2ms/step - loss: 0.4044 - accuracy: 0.8094 - val_loss: 0.4614 - val_accuracy: 0.8312\n",
      "Epoch 10/100\n",
      "20/20 [==============================] - 0s 2ms/step - loss: 0.4045 - accuracy: 0.8111 - val_loss: 0.4627 - val_accuracy: 0.8247\n",
      "Epoch 11/100\n",
      "20/20 [==============================] - 0s 2ms/step - loss: 0.4042 - accuracy: 0.8111 - val_loss: 0.4593 - val_accuracy: 0.8117\n",
      "Epoch 12/100\n",
      "20/20 [==============================] - 0s 2ms/step - loss: 0.4040 - accuracy: 0.8143 - val_loss: 0.4603 - val_accuracy: 0.8247\n",
      "Epoch 13/100\n",
      "20/20 [==============================] - 0s 2ms/step - loss: 0.4039 - accuracy: 0.8111 - val_loss: 0.4636 - val_accuracy: 0.8117\n",
      "Epoch 14/100\n",
      "20/20 [==============================] - 0s 2ms/step - loss: 0.4033 - accuracy: 0.8127 - val_loss: 0.4619 - val_accuracy: 0.8182\n",
      "Epoch 15/100\n",
      "20/20 [==============================] - 0s 2ms/step - loss: 0.4030 - accuracy: 0.8094 - val_loss: 0.4629 - val_accuracy: 0.8182\n",
      "Epoch 16/100\n",
      "20/20 [==============================] - 0s 2ms/step - loss: 0.4022 - accuracy: 0.8127 - val_loss: 0.4647 - val_accuracy: 0.8117\n",
      "Epoch 17/100\n",
      "20/20 [==============================] - 0s 2ms/step - loss: 0.4021 - accuracy: 0.8111 - val_loss: 0.4603 - val_accuracy: 0.8182\n",
      "Epoch 18/100\n",
      "20/20 [==============================] - 0s 2ms/step - loss: 0.4013 - accuracy: 0.8160 - val_loss: 0.4650 - val_accuracy: 0.8117\n",
      "Epoch 19/100\n",
      "20/20 [==============================] - 0s 2ms/step - loss: 0.4019 - accuracy: 0.8111 - val_loss: 0.4646 - val_accuracy: 0.8182\n",
      "Epoch 20/100\n",
      "20/20 [==============================] - 0s 2ms/step - loss: 0.4012 - accuracy: 0.8143 - val_loss: 0.4639 - val_accuracy: 0.8182\n",
      "Epoch 21/100\n",
      "20/20 [==============================] - 0s 2ms/step - loss: 0.4007 - accuracy: 0.8143 - val_loss: 0.4648 - val_accuracy: 0.8117\n",
      "Epoch 22/100\n",
      "20/20 [==============================] - 0s 2ms/step - loss: 0.4003 - accuracy: 0.8306 - val_loss: 0.4624 - val_accuracy: 0.8182\n",
      "Epoch 23/100\n",
      "20/20 [==============================] - 0s 2ms/step - loss: 0.4005 - accuracy: 0.8208 - val_loss: 0.4631 - val_accuracy: 0.8247\n",
      "Epoch 24/100\n",
      "20/20 [==============================] - 0s 2ms/step - loss: 0.3999 - accuracy: 0.8160 - val_loss: 0.4659 - val_accuracy: 0.8117\n",
      "Epoch 25/100\n",
      "20/20 [==============================] - 0s 2ms/step - loss: 0.3996 - accuracy: 0.8160 - val_loss: 0.4662 - val_accuracy: 0.8117\n",
      "Epoch 26/100\n",
      "20/20 [==============================] - 0s 2ms/step - loss: 0.3996 - accuracy: 0.8160 - val_loss: 0.4651 - val_accuracy: 0.8117\n",
      "Epoch 27/100\n",
      "20/20 [==============================] - 0s 2ms/step - loss: 0.3990 - accuracy: 0.8176 - val_loss: 0.4625 - val_accuracy: 0.8182\n",
      "Epoch 28/100\n",
      "20/20 [==============================] - 0s 2ms/step - loss: 0.3992 - accuracy: 0.8143 - val_loss: 0.4636 - val_accuracy: 0.8117\n",
      "Epoch 29/100\n",
      "20/20 [==============================] - 0s 2ms/step - loss: 0.3979 - accuracy: 0.8160 - val_loss: 0.4621 - val_accuracy: 0.8117\n",
      "Epoch 30/100\n",
      "20/20 [==============================] - 0s 2ms/step - loss: 0.3983 - accuracy: 0.8078 - val_loss: 0.4642 - val_accuracy: 0.8182\n",
      "Epoch 31/100\n",
      "20/20 [==============================] - 0s 2ms/step - loss: 0.3986 - accuracy: 0.8176 - val_loss: 0.4675 - val_accuracy: 0.8117\n",
      "Epoch 32/100\n",
      "20/20 [==============================] - 0s 2ms/step - loss: 0.3974 - accuracy: 0.8160 - val_loss: 0.4638 - val_accuracy: 0.8117\n",
      "Epoch 33/100\n",
      "20/20 [==============================] - 0s 2ms/step - loss: 0.3975 - accuracy: 0.8192 - val_loss: 0.4630 - val_accuracy: 0.8117\n",
      "Epoch 34/100\n",
      "20/20 [==============================] - 0s 2ms/step - loss: 0.3982 - accuracy: 0.8192 - val_loss: 0.4668 - val_accuracy: 0.8182\n",
      "Epoch 35/100\n",
      "20/20 [==============================] - 0s 2ms/step - loss: 0.3959 - accuracy: 0.8241 - val_loss: 0.4653 - val_accuracy: 0.8182\n",
      "Epoch 36/100\n",
      "20/20 [==============================] - 0s 2ms/step - loss: 0.3975 - accuracy: 0.8176 - val_loss: 0.4657 - val_accuracy: 0.8052\n",
      "Epoch 37/100\n",
      "20/20 [==============================] - 0s 2ms/step - loss: 0.3954 - accuracy: 0.8160 - val_loss: 0.4679 - val_accuracy: 0.8117\n",
      "Epoch 38/100\n",
      "20/20 [==============================] - 0s 2ms/step - loss: 0.3960 - accuracy: 0.8143 - val_loss: 0.4689 - val_accuracy: 0.8052\n",
      "Epoch 39/100\n",
      "20/20 [==============================] - 0s 2ms/step - loss: 0.3960 - accuracy: 0.8176 - val_loss: 0.4673 - val_accuracy: 0.8117\n",
      "Epoch 40/100\n",
      "20/20 [==============================] - 0s 2ms/step - loss: 0.3954 - accuracy: 0.8176 - val_loss: 0.4646 - val_accuracy: 0.8117\n",
      "Epoch 41/100\n",
      "20/20 [==============================] - 0s 2ms/step - loss: 0.3957 - accuracy: 0.8192 - val_loss: 0.4674 - val_accuracy: 0.8117\n",
      "Epoch 42/100\n",
      "20/20 [==============================] - 0s 2ms/step - loss: 0.3954 - accuracy: 0.8290 - val_loss: 0.4670 - val_accuracy: 0.8117\n",
      "Epoch 43/100\n",
      "20/20 [==============================] - 0s 2ms/step - loss: 0.3941 - accuracy: 0.8257 - val_loss: 0.4644 - val_accuracy: 0.8052\n",
      "Epoch 44/100\n",
      "20/20 [==============================] - 0s 2ms/step - loss: 0.3939 - accuracy: 0.8176 - val_loss: 0.4682 - val_accuracy: 0.8117\n",
      "Epoch 45/100\n",
      "20/20 [==============================] - 0s 2ms/step - loss: 0.3937 - accuracy: 0.8306 - val_loss: 0.4688 - val_accuracy: 0.8182\n",
      "Epoch 46/100\n",
      "20/20 [==============================] - 0s 2ms/step - loss: 0.3941 - accuracy: 0.8241 - val_loss: 0.4652 - val_accuracy: 0.8052\n",
      "Epoch 47/100\n",
      "20/20 [==============================] - 0s 2ms/step - loss: 0.3934 - accuracy: 0.8192 - val_loss: 0.4651 - val_accuracy: 0.8117\n",
      "Epoch 48/100\n",
      "20/20 [==============================] - 0s 2ms/step - loss: 0.3933 - accuracy: 0.8160 - val_loss: 0.4669 - val_accuracy: 0.8182\n",
      "Epoch 49/100\n",
      "20/20 [==============================] - 0s 2ms/step - loss: 0.3929 - accuracy: 0.8176 - val_loss: 0.4669 - val_accuracy: 0.8182\n",
      "Epoch 50/100\n",
      "20/20 [==============================] - 0s 2ms/step - loss: 0.3928 - accuracy: 0.8208 - val_loss: 0.4666 - val_accuracy: 0.8117\n",
      "Epoch 51/100\n",
      "20/20 [==============================] - 0s 2ms/step - loss: 0.3922 - accuracy: 0.8225 - val_loss: 0.4685 - val_accuracy: 0.8182\n",
      "Epoch 52/100\n",
      "20/20 [==============================] - 0s 2ms/step - loss: 0.3924 - accuracy: 0.8257 - val_loss: 0.4680 - val_accuracy: 0.8117\n",
      "Epoch 53/100\n",
      "20/20 [==============================] - 0s 2ms/step - loss: 0.3917 - accuracy: 0.8225 - val_loss: 0.4684 - val_accuracy: 0.8117\n",
      "Epoch 54/100\n",
      "20/20 [==============================] - 0s 2ms/step - loss: 0.3917 - accuracy: 0.8241 - val_loss: 0.4684 - val_accuracy: 0.8117\n",
      "Epoch 55/100\n",
      "20/20 [==============================] - 0s 2ms/step - loss: 0.3909 - accuracy: 0.8225 - val_loss: 0.4652 - val_accuracy: 0.8182\n",
      "Epoch 56/100\n",
      "20/20 [==============================] - 0s 2ms/step - loss: 0.3909 - accuracy: 0.8225 - val_loss: 0.4671 - val_accuracy: 0.8117\n",
      "Epoch 57/100\n",
      "20/20 [==============================] - 0s 2ms/step - loss: 0.3899 - accuracy: 0.8208 - val_loss: 0.4656 - val_accuracy: 0.8052\n",
      "Epoch 58/100\n",
      "20/20 [==============================] - 0s 2ms/step - loss: 0.3904 - accuracy: 0.8208 - val_loss: 0.4669 - val_accuracy: 0.8117\n",
      "Epoch 59/100\n",
      "20/20 [==============================] - 0s 2ms/step - loss: 0.3900 - accuracy: 0.8290 - val_loss: 0.4659 - val_accuracy: 0.8117\n",
      "Epoch 60/100\n",
      "20/20 [==============================] - 0s 2ms/step - loss: 0.3908 - accuracy: 0.8257 - val_loss: 0.4659 - val_accuracy: 0.8052\n",
      "Epoch 61/100\n",
      "20/20 [==============================] - 0s 2ms/step - loss: 0.3893 - accuracy: 0.8257 - val_loss: 0.4679 - val_accuracy: 0.8052\n",
      "Epoch 62/100\n",
      "20/20 [==============================] - 0s 2ms/step - loss: 0.3889 - accuracy: 0.8208 - val_loss: 0.4661 - val_accuracy: 0.8117\n",
      "Epoch 63/100\n",
      "20/20 [==============================] - 0s 2ms/step - loss: 0.3886 - accuracy: 0.8241 - val_loss: 0.4680 - val_accuracy: 0.8117\n",
      "Epoch 64/100\n",
      "20/20 [==============================] - 0s 2ms/step - loss: 0.3892 - accuracy: 0.8241 - val_loss: 0.4708 - val_accuracy: 0.8182\n"
     ]
    },
    {
     "name": "stdout",
     "output_type": "stream",
     "text": [
      "Epoch 65/100\n",
      "20/20 [==============================] - 0s 2ms/step - loss: 0.3886 - accuracy: 0.8225 - val_loss: 0.4722 - val_accuracy: 0.8182\n",
      "Epoch 66/100\n",
      "20/20 [==============================] - 0s 2ms/step - loss: 0.3875 - accuracy: 0.8241 - val_loss: 0.4762 - val_accuracy: 0.8182\n",
      "Epoch 67/100\n",
      "20/20 [==============================] - 0s 2ms/step - loss: 0.3880 - accuracy: 0.8225 - val_loss: 0.4717 - val_accuracy: 0.8182\n",
      "Epoch 68/100\n",
      "20/20 [==============================] - 0s 2ms/step - loss: 0.3886 - accuracy: 0.8339 - val_loss: 0.4716 - val_accuracy: 0.8182\n",
      "Epoch 69/100\n",
      "20/20 [==============================] - 0s 2ms/step - loss: 0.3871 - accuracy: 0.8225 - val_loss: 0.4701 - val_accuracy: 0.8117\n",
      "Epoch 70/100\n",
      "20/20 [==============================] - 0s 2ms/step - loss: 0.3862 - accuracy: 0.8257 - val_loss: 0.4687 - val_accuracy: 0.8117\n",
      "Epoch 71/100\n",
      "20/20 [==============================] - 0s 2ms/step - loss: 0.3869 - accuracy: 0.8257 - val_loss: 0.4680 - val_accuracy: 0.8182\n",
      "Epoch 72/100\n",
      "20/20 [==============================] - 0s 2ms/step - loss: 0.3865 - accuracy: 0.8306 - val_loss: 0.4673 - val_accuracy: 0.8182\n",
      "Epoch 73/100\n",
      "20/20 [==============================] - 0s 2ms/step - loss: 0.3861 - accuracy: 0.8225 - val_loss: 0.4681 - val_accuracy: 0.8182\n",
      "Epoch 74/100\n",
      "20/20 [==============================] - 0s 2ms/step - loss: 0.3859 - accuracy: 0.8355 - val_loss: 0.4727 - val_accuracy: 0.8182\n",
      "Epoch 75/100\n",
      "20/20 [==============================] - 0s 2ms/step - loss: 0.3854 - accuracy: 0.8241 - val_loss: 0.4719 - val_accuracy: 0.8182\n",
      "Epoch 76/100\n",
      "20/20 [==============================] - 0s 2ms/step - loss: 0.3856 - accuracy: 0.8274 - val_loss: 0.4711 - val_accuracy: 0.8182\n",
      "Epoch 77/100\n",
      "20/20 [==============================] - 0s 2ms/step - loss: 0.3840 - accuracy: 0.8225 - val_loss: 0.4754 - val_accuracy: 0.8182\n",
      "Epoch 78/100\n",
      "20/20 [==============================] - 0s 2ms/step - loss: 0.3852 - accuracy: 0.8225 - val_loss: 0.4765 - val_accuracy: 0.8182\n",
      "Epoch 79/100\n",
      "20/20 [==============================] - 0s 2ms/step - loss: 0.3840 - accuracy: 0.8274 - val_loss: 0.4778 - val_accuracy: 0.8182\n",
      "Epoch 80/100\n",
      "20/20 [==============================] - 0s 2ms/step - loss: 0.3846 - accuracy: 0.8306 - val_loss: 0.4763 - val_accuracy: 0.8182\n",
      "Epoch 81/100\n",
      "20/20 [==============================] - 0s 2ms/step - loss: 0.3844 - accuracy: 0.8306 - val_loss: 0.4743 - val_accuracy: 0.8117\n",
      "Epoch 82/100\n",
      "20/20 [==============================] - 0s 1ms/step - loss: 0.3830 - accuracy: 0.8208 - val_loss: 0.4780 - val_accuracy: 0.8182\n",
      "Epoch 83/100\n",
      "20/20 [==============================] - 0s 2ms/step - loss: 0.3834 - accuracy: 0.8257 - val_loss: 0.4791 - val_accuracy: 0.8182\n",
      "Epoch 84/100\n",
      "20/20 [==============================] - 0s 2ms/step - loss: 0.3832 - accuracy: 0.8290 - val_loss: 0.4771 - val_accuracy: 0.8182\n",
      "Epoch 85/100\n",
      "20/20 [==============================] - 0s 2ms/step - loss: 0.3828 - accuracy: 0.8241 - val_loss: 0.4766 - val_accuracy: 0.8117\n",
      "Epoch 86/100\n",
      "20/20 [==============================] - 0s 2ms/step - loss: 0.3825 - accuracy: 0.8241 - val_loss: 0.4747 - val_accuracy: 0.8117\n",
      "Epoch 87/100\n",
      "20/20 [==============================] - 0s 2ms/step - loss: 0.3827 - accuracy: 0.8241 - val_loss: 0.4758 - val_accuracy: 0.8117\n",
      "Epoch 88/100\n",
      "20/20 [==============================] - 0s 2ms/step - loss: 0.3825 - accuracy: 0.8322 - val_loss: 0.4747 - val_accuracy: 0.8117\n",
      "Epoch 89/100\n",
      "20/20 [==============================] - 0s 2ms/step - loss: 0.3815 - accuracy: 0.8257 - val_loss: 0.4748 - val_accuracy: 0.8117\n",
      "Epoch 90/100\n",
      "20/20 [==============================] - 0s 2ms/step - loss: 0.3814 - accuracy: 0.8306 - val_loss: 0.4778 - val_accuracy: 0.8117\n",
      "Epoch 91/100\n",
      "20/20 [==============================] - 0s 2ms/step - loss: 0.3813 - accuracy: 0.8306 - val_loss: 0.4764 - val_accuracy: 0.8117\n",
      "Epoch 92/100\n",
      "20/20 [==============================] - 0s 2ms/step - loss: 0.3804 - accuracy: 0.8322 - val_loss: 0.4732 - val_accuracy: 0.8117\n",
      "Epoch 93/100\n",
      "20/20 [==============================] - 0s 2ms/step - loss: 0.3806 - accuracy: 0.8241 - val_loss: 0.4727 - val_accuracy: 0.8117\n",
      "Epoch 94/100\n",
      "20/20 [==============================] - 0s 2ms/step - loss: 0.3807 - accuracy: 0.8290 - val_loss: 0.4757 - val_accuracy: 0.8182\n",
      "Epoch 95/100\n",
      "20/20 [==============================] - 0s 2ms/step - loss: 0.3804 - accuracy: 0.8290 - val_loss: 0.4735 - val_accuracy: 0.8182\n",
      "Epoch 96/100\n",
      "20/20 [==============================] - 0s 2ms/step - loss: 0.3802 - accuracy: 0.8274 - val_loss: 0.4746 - val_accuracy: 0.8117\n",
      "Epoch 97/100\n",
      "20/20 [==============================] - 0s 2ms/step - loss: 0.3800 - accuracy: 0.8274 - val_loss: 0.4728 - val_accuracy: 0.8117\n",
      "Epoch 98/100\n",
      "20/20 [==============================] - 0s 2ms/step - loss: 0.3793 - accuracy: 0.8257 - val_loss: 0.4753 - val_accuracy: 0.8117\n",
      "Epoch 99/100\n",
      "20/20 [==============================] - 0s 2ms/step - loss: 0.3792 - accuracy: 0.8306 - val_loss: 0.4742 - val_accuracy: 0.8117\n",
      "Epoch 100/100\n",
      "20/20 [==============================] - 0s 2ms/step - loss: 0.3793 - accuracy: 0.8241 - val_loss: 0.4750 - val_accuracy: 0.8182\n"
     ]
    },
    {
     "data": {
      "text/plain": [
       "<keras.callbacks.History at 0x28b32056be0>"
      ]
     },
     "execution_count": 40,
     "metadata": {},
     "output_type": "execute_result"
    }
   ],
   "source": [
    "model.fit(X_train,y_train,batch_size=32,epochs=100,initial_epoch=6,validation_data=(X_test,y_test))"
   ]
  },
  {
   "cell_type": "markdown",
   "id": "a487125e",
   "metadata": {},
   "source": [
    "# accuracy raised to 83 @ no of layers =6"
   ]
  },
  {
   "cell_type": "code",
   "execution_count": 49,
   "id": "b3ddb5e9",
   "metadata": {
    "ExecuteTime": {
     "end_time": "2022-08-29T11:49:36.390501Z",
     "start_time": "2022-08-29T11:49:36.375919Z"
    }
   },
   "outputs": [],
   "source": [
    "def build_model(hp):\n",
    "    model= Sequential()\n",
    "    \n",
    "    counter =0\n",
    "    \n",
    "    for i in range(hp.Int('num_layers',min_value=1,max_value=10)):\n",
    "        if counter ==0:\n",
    "            \n",
    "            model.add(Dense(hp.Int('units'+str(i),min_value=8,max_value=120,step=8),activation=hp.Choice('activation'+str(i), values=['relu','tanh','sigmoid'])))\n",
    "        else:\n",
    "                \n",
    "            model.add(Dense(hp.Int('units'+str(i),min_value=8,max_value=120,step=8),activation=hp.Choice('activation'+str(i), values=['relu','tanh','sigmoid'])))\n",
    "                \n",
    "        counter+=1\n",
    "        model.add(Dense(1,activation='sigmoid'))\n",
    "        \n",
    "        model.compile(optimizer=hp.Choice('optimizer',values=['adam','sgd','rmsprop','adadelta']),\n",
    "                           loss='binary_crossentropy',metrics=['accuracy'])\n",
    "        \n",
    "        return model"
   ]
  },
  {
   "cell_type": "code",
   "execution_count": 51,
   "id": "2396f1e5",
   "metadata": {
    "ExecuteTime": {
     "end_time": "2022-08-29T11:49:52.790535Z",
     "start_time": "2022-08-29T11:49:52.778193Z"
    }
   },
   "outputs": [],
   "source": [
    "tuner = kt.RandomSearch(build_model,\n",
    "                       objective='val_accuracy',\n",
    "                       max_trials=5,\n",
    "                       directory='keras_tuner_dir1',\n",
    "                       project_name='keras_tuner_demo4')"
   ]
  },
  {
   "cell_type": "code",
   "execution_count": 52,
   "id": "2bcbc0b2",
   "metadata": {
    "ExecuteTime": {
     "end_time": "2022-08-29T11:50:00.843343Z",
     "start_time": "2022-08-29T11:49:56.444152Z"
    }
   },
   "outputs": [
    {
     "name": "stdout",
     "output_type": "stream",
     "text": [
      "Trial 5 Complete [00h 00m 01s]\n",
      "val_accuracy: 0.7662337422370911\n",
      "\n",
      "Best val_accuracy So Far: 0.7727272510528564\n",
      "Total elapsed time: 00h 00m 04s\n",
      "INFO:tensorflow:Oracle triggered exit\n"
     ]
    }
   ],
   "source": [
    "tuner.search(X_train,y_train,epochs=5,validation_data=(X_test,y_test))"
   ]
  },
  {
   "cell_type": "code",
   "execution_count": 53,
   "id": "7d2ac8a1",
   "metadata": {
    "ExecuteTime": {
     "end_time": "2022-08-29T11:51:07.169886Z",
     "start_time": "2022-08-29T11:51:07.159141Z"
    }
   },
   "outputs": [
    {
     "data": {
      "text/plain": [
       "{'num_layers': 5, 'units0': 32, 'activation0': 'relu', 'optimizer': 'sgd'}"
      ]
     },
     "execution_count": 53,
     "metadata": {},
     "output_type": "execute_result"
    }
   ],
   "source": [
    "tuner.get_best_hyperparameters()[0].values"
   ]
  },
  {
   "cell_type": "code",
   "execution_count": 54,
   "id": "e5b23ed3",
   "metadata": {
    "ExecuteTime": {
     "end_time": "2022-08-29T11:52:26.306292Z",
     "start_time": "2022-08-29T11:52:26.035642Z"
    }
   },
   "outputs": [],
   "source": [
    "model=tuner.get_best_models(num_models=1)[0]"
   ]
  },
  {
   "cell_type": "code",
   "execution_count": 56,
   "id": "6b321575",
   "metadata": {
    "ExecuteTime": {
     "end_time": "2022-08-29T11:53:24.491833Z",
     "start_time": "2022-08-29T11:53:20.269398Z"
    }
   },
   "outputs": [
    {
     "name": "stdout",
     "output_type": "stream",
     "text": [
      "Epoch 7/100\n",
      "20/20 [==============================] - 0s 6ms/step - loss: 0.6059 - accuracy: 0.7036 - val_loss: 0.5854 - val_accuracy: 0.7662\n",
      "Epoch 8/100\n",
      "20/20 [==============================] - 0s 2ms/step - loss: 0.5915 - accuracy: 0.7166 - val_loss: 0.5717 - val_accuracy: 0.7662\n",
      "Epoch 9/100\n",
      "20/20 [==============================] - 0s 2ms/step - loss: 0.5798 - accuracy: 0.7150 - val_loss: 0.5584 - val_accuracy: 0.7857\n",
      "Epoch 10/100\n",
      "20/20 [==============================] - 0s 2ms/step - loss: 0.5689 - accuracy: 0.7345 - val_loss: 0.5470 - val_accuracy: 0.7857\n",
      "Epoch 11/100\n",
      "20/20 [==============================] - 0s 2ms/step - loss: 0.5594 - accuracy: 0.7362 - val_loss: 0.5382 - val_accuracy: 0.7792\n",
      "Epoch 12/100\n",
      "20/20 [==============================] - 0s 2ms/step - loss: 0.5513 - accuracy: 0.7492 - val_loss: 0.5294 - val_accuracy: 0.7727\n",
      "Epoch 13/100\n",
      "20/20 [==============================] - 0s 2ms/step - loss: 0.5438 - accuracy: 0.7573 - val_loss: 0.5218 - val_accuracy: 0.7857\n",
      "Epoch 14/100\n",
      "20/20 [==============================] - 0s 2ms/step - loss: 0.5374 - accuracy: 0.7557 - val_loss: 0.5147 - val_accuracy: 0.7857\n",
      "Epoch 15/100\n",
      "20/20 [==============================] - 0s 2ms/step - loss: 0.5313 - accuracy: 0.7590 - val_loss: 0.5081 - val_accuracy: 0.8052\n",
      "Epoch 16/100\n",
      "20/20 [==============================] - 0s 2ms/step - loss: 0.5257 - accuracy: 0.7557 - val_loss: 0.5026 - val_accuracy: 0.8052\n",
      "Epoch 17/100\n",
      "20/20 [==============================] - 0s 2ms/step - loss: 0.5209 - accuracy: 0.7557 - val_loss: 0.4971 - val_accuracy: 0.8117\n",
      "Epoch 18/100\n",
      "20/20 [==============================] - 0s 2ms/step - loss: 0.5162 - accuracy: 0.7573 - val_loss: 0.4928 - val_accuracy: 0.8182\n",
      "Epoch 19/100\n",
      "20/20 [==============================] - 0s 2ms/step - loss: 0.5121 - accuracy: 0.7590 - val_loss: 0.4884 - val_accuracy: 0.8247\n",
      "Epoch 20/100\n",
      "20/20 [==============================] - 0s 3ms/step - loss: 0.5083 - accuracy: 0.7638 - val_loss: 0.4843 - val_accuracy: 0.8247\n",
      "Epoch 21/100\n",
      "20/20 [==============================] - 0s 2ms/step - loss: 0.5050 - accuracy: 0.7638 - val_loss: 0.4805 - val_accuracy: 0.8247\n",
      "Epoch 22/100\n",
      "20/20 [==============================] - 0s 2ms/step - loss: 0.5014 - accuracy: 0.7638 - val_loss: 0.4773 - val_accuracy: 0.8312\n",
      "Epoch 23/100\n",
      "20/20 [==============================] - 0s 2ms/step - loss: 0.4985 - accuracy: 0.7671 - val_loss: 0.4741 - val_accuracy: 0.8312\n",
      "Epoch 24/100\n",
      "20/20 [==============================] - 0s 2ms/step - loss: 0.4957 - accuracy: 0.7671 - val_loss: 0.4711 - val_accuracy: 0.8312\n",
      "Epoch 25/100\n",
      "20/20 [==============================] - 0s 2ms/step - loss: 0.4930 - accuracy: 0.7671 - val_loss: 0.4681 - val_accuracy: 0.8312\n",
      "Epoch 26/100\n",
      "20/20 [==============================] - 0s 2ms/step - loss: 0.4907 - accuracy: 0.7638 - val_loss: 0.4654 - val_accuracy: 0.8247\n",
      "Epoch 27/100\n",
      "20/20 [==============================] - 0s 3ms/step - loss: 0.4885 - accuracy: 0.7655 - val_loss: 0.4627 - val_accuracy: 0.8247\n",
      "Epoch 28/100\n",
      "20/20 [==============================] - 0s 2ms/step - loss: 0.4864 - accuracy: 0.7655 - val_loss: 0.4606 - val_accuracy: 0.8247\n",
      "Epoch 29/100\n",
      "20/20 [==============================] - 0s 3ms/step - loss: 0.4845 - accuracy: 0.7638 - val_loss: 0.4590 - val_accuracy: 0.8247\n",
      "Epoch 30/100\n",
      "20/20 [==============================] - 0s 3ms/step - loss: 0.4828 - accuracy: 0.7638 - val_loss: 0.4573 - val_accuracy: 0.8247\n",
      "Epoch 31/100\n",
      "20/20 [==============================] - 0s 3ms/step - loss: 0.4813 - accuracy: 0.7671 - val_loss: 0.4557 - val_accuracy: 0.8182\n",
      "Epoch 32/100\n",
      "20/20 [==============================] - 0s 3ms/step - loss: 0.4799 - accuracy: 0.7704 - val_loss: 0.4544 - val_accuracy: 0.8182\n",
      "Epoch 33/100\n",
      "20/20 [==============================] - 0s 3ms/step - loss: 0.4785 - accuracy: 0.7671 - val_loss: 0.4528 - val_accuracy: 0.8182\n",
      "Epoch 34/100\n",
      "20/20 [==============================] - 0s 3ms/step - loss: 0.4772 - accuracy: 0.7704 - val_loss: 0.4513 - val_accuracy: 0.8182\n",
      "Epoch 35/100\n",
      "20/20 [==============================] - 0s 3ms/step - loss: 0.4760 - accuracy: 0.7704 - val_loss: 0.4497 - val_accuracy: 0.8182\n",
      "Epoch 36/100\n",
      "20/20 [==============================] - 0s 2ms/step - loss: 0.4748 - accuracy: 0.7720 - val_loss: 0.4485 - val_accuracy: 0.8182\n",
      "Epoch 37/100\n",
      "20/20 [==============================] - 0s 2ms/step - loss: 0.4737 - accuracy: 0.7720 - val_loss: 0.4473 - val_accuracy: 0.8182\n",
      "Epoch 38/100\n",
      "20/20 [==============================] - 0s 2ms/step - loss: 0.4729 - accuracy: 0.7671 - val_loss: 0.4462 - val_accuracy: 0.8182\n",
      "Epoch 39/100\n",
      "20/20 [==============================] - 0s 2ms/step - loss: 0.4719 - accuracy: 0.7687 - val_loss: 0.4456 - val_accuracy: 0.8182\n",
      "Epoch 40/100\n",
      "20/20 [==============================] - 0s 2ms/step - loss: 0.4711 - accuracy: 0.7720 - val_loss: 0.4446 - val_accuracy: 0.8182\n",
      "Epoch 41/100\n",
      "20/20 [==============================] - 0s 1ms/step - loss: 0.4703 - accuracy: 0.7720 - val_loss: 0.4436 - val_accuracy: 0.8182\n",
      "Epoch 42/100\n",
      "20/20 [==============================] - 0s 2ms/step - loss: 0.4695 - accuracy: 0.7720 - val_loss: 0.4432 - val_accuracy: 0.8182\n",
      "Epoch 43/100\n",
      "20/20 [==============================] - 0s 2ms/step - loss: 0.4688 - accuracy: 0.7736 - val_loss: 0.4422 - val_accuracy: 0.8182\n",
      "Epoch 44/100\n",
      "20/20 [==============================] - 0s 2ms/step - loss: 0.4680 - accuracy: 0.7720 - val_loss: 0.4414 - val_accuracy: 0.8182\n",
      "Epoch 45/100\n",
      "20/20 [==============================] - 0s 2ms/step - loss: 0.4673 - accuracy: 0.7704 - val_loss: 0.4406 - val_accuracy: 0.8182\n",
      "Epoch 46/100\n",
      "20/20 [==============================] - 0s 1ms/step - loss: 0.4668 - accuracy: 0.7687 - val_loss: 0.4397 - val_accuracy: 0.8182\n",
      "Epoch 47/100\n",
      "20/20 [==============================] - 0s 3ms/step - loss: 0.4660 - accuracy: 0.7704 - val_loss: 0.4388 - val_accuracy: 0.8182\n",
      "Epoch 48/100\n",
      "20/20 [==============================] - 0s 2ms/step - loss: 0.4655 - accuracy: 0.7720 - val_loss: 0.4383 - val_accuracy: 0.8182\n",
      "Epoch 49/100\n",
      "20/20 [==============================] - 0s 2ms/step - loss: 0.4650 - accuracy: 0.7704 - val_loss: 0.4377 - val_accuracy: 0.8182\n",
      "Epoch 50/100\n",
      "20/20 [==============================] - 0s 2ms/step - loss: 0.4644 - accuracy: 0.7736 - val_loss: 0.4374 - val_accuracy: 0.8182\n",
      "Epoch 51/100\n",
      "20/20 [==============================] - 0s 2ms/step - loss: 0.4639 - accuracy: 0.7736 - val_loss: 0.4368 - val_accuracy: 0.8182\n",
      "Epoch 52/100\n",
      "20/20 [==============================] - 0s 2ms/step - loss: 0.4635 - accuracy: 0.7736 - val_loss: 0.4366 - val_accuracy: 0.8182\n",
      "Epoch 53/100\n",
      "20/20 [==============================] - 0s 2ms/step - loss: 0.4630 - accuracy: 0.7736 - val_loss: 0.4360 - val_accuracy: 0.8182\n",
      "Epoch 54/100\n",
      "20/20 [==============================] - 0s 4ms/step - loss: 0.4625 - accuracy: 0.7736 - val_loss: 0.4360 - val_accuracy: 0.8117\n",
      "Epoch 55/100\n",
      "20/20 [==============================] - 0s 2ms/step - loss: 0.4623 - accuracy: 0.7752 - val_loss: 0.4356 - val_accuracy: 0.8117\n",
      "Epoch 56/100\n",
      "20/20 [==============================] - 0s 2ms/step - loss: 0.4618 - accuracy: 0.7752 - val_loss: 0.4347 - val_accuracy: 0.8117\n",
      "Epoch 57/100\n",
      "20/20 [==============================] - 0s 2ms/step - loss: 0.4616 - accuracy: 0.7736 - val_loss: 0.4347 - val_accuracy: 0.8117\n",
      "Epoch 58/100\n",
      "20/20 [==============================] - 0s 3ms/step - loss: 0.4611 - accuracy: 0.7736 - val_loss: 0.4344 - val_accuracy: 0.8117\n",
      "Epoch 59/100\n",
      "20/20 [==============================] - 0s 3ms/step - loss: 0.4607 - accuracy: 0.7736 - val_loss: 0.4347 - val_accuracy: 0.8117\n",
      "Epoch 60/100\n",
      "20/20 [==============================] - 0s 3ms/step - loss: 0.4602 - accuracy: 0.7736 - val_loss: 0.4343 - val_accuracy: 0.8117\n",
      "Epoch 61/100\n",
      "20/20 [==============================] - 0s 2ms/step - loss: 0.4600 - accuracy: 0.7752 - val_loss: 0.4339 - val_accuracy: 0.8117\n",
      "Epoch 62/100\n",
      "20/20 [==============================] - 0s 2ms/step - loss: 0.4597 - accuracy: 0.7736 - val_loss: 0.4337 - val_accuracy: 0.8117\n",
      "Epoch 63/100\n",
      "20/20 [==============================] - 0s 2ms/step - loss: 0.4595 - accuracy: 0.7736 - val_loss: 0.4336 - val_accuracy: 0.8117\n",
      "Epoch 64/100\n",
      "20/20 [==============================] - 0s 2ms/step - loss: 0.4591 - accuracy: 0.7736 - val_loss: 0.4335 - val_accuracy: 0.8117\n"
     ]
    },
    {
     "name": "stdout",
     "output_type": "stream",
     "text": [
      "Epoch 65/100\n",
      "20/20 [==============================] - 0s 2ms/step - loss: 0.4589 - accuracy: 0.7736 - val_loss: 0.4326 - val_accuracy: 0.8117\n",
      "Epoch 66/100\n",
      "20/20 [==============================] - 0s 2ms/step - loss: 0.4585 - accuracy: 0.7752 - val_loss: 0.4327 - val_accuracy: 0.8117\n",
      "Epoch 67/100\n",
      "20/20 [==============================] - 0s 2ms/step - loss: 0.4582 - accuracy: 0.7752 - val_loss: 0.4328 - val_accuracy: 0.8117\n",
      "Epoch 68/100\n",
      "20/20 [==============================] - 0s 2ms/step - loss: 0.4580 - accuracy: 0.7769 - val_loss: 0.4327 - val_accuracy: 0.8117\n",
      "Epoch 69/100\n",
      "20/20 [==============================] - 0s 2ms/step - loss: 0.4577 - accuracy: 0.7769 - val_loss: 0.4321 - val_accuracy: 0.8117\n",
      "Epoch 70/100\n",
      "20/20 [==============================] - 0s 2ms/step - loss: 0.4575 - accuracy: 0.7736 - val_loss: 0.4317 - val_accuracy: 0.8117\n",
      "Epoch 71/100\n",
      "20/20 [==============================] - 0s 2ms/step - loss: 0.4572 - accuracy: 0.7769 - val_loss: 0.4316 - val_accuracy: 0.8117\n",
      "Epoch 72/100\n",
      "20/20 [==============================] - 0s 2ms/step - loss: 0.4570 - accuracy: 0.7736 - val_loss: 0.4313 - val_accuracy: 0.8117\n",
      "Epoch 73/100\n",
      "20/20 [==============================] - 0s 2ms/step - loss: 0.4568 - accuracy: 0.7752 - val_loss: 0.4311 - val_accuracy: 0.8117\n",
      "Epoch 74/100\n",
      "20/20 [==============================] - 0s 2ms/step - loss: 0.4565 - accuracy: 0.7769 - val_loss: 0.4312 - val_accuracy: 0.8117\n",
      "Epoch 75/100\n",
      "20/20 [==============================] - 0s 2ms/step - loss: 0.4562 - accuracy: 0.7769 - val_loss: 0.4314 - val_accuracy: 0.8117\n",
      "Epoch 76/100\n",
      "20/20 [==============================] - 0s 2ms/step - loss: 0.4560 - accuracy: 0.7752 - val_loss: 0.4311 - val_accuracy: 0.8117\n",
      "Epoch 77/100\n",
      "20/20 [==============================] - 0s 2ms/step - loss: 0.4557 - accuracy: 0.7769 - val_loss: 0.4308 - val_accuracy: 0.8117\n",
      "Epoch 78/100\n",
      "20/20 [==============================] - 0s 2ms/step - loss: 0.4556 - accuracy: 0.7752 - val_loss: 0.4307 - val_accuracy: 0.8117\n",
      "Epoch 79/100\n",
      "20/20 [==============================] - 0s 2ms/step - loss: 0.4554 - accuracy: 0.7752 - val_loss: 0.4308 - val_accuracy: 0.8117\n",
      "Epoch 80/100\n",
      "20/20 [==============================] - 0s 2ms/step - loss: 0.4551 - accuracy: 0.7752 - val_loss: 0.4305 - val_accuracy: 0.8182\n",
      "Epoch 81/100\n",
      "20/20 [==============================] - 0s 2ms/step - loss: 0.4548 - accuracy: 0.7752 - val_loss: 0.4305 - val_accuracy: 0.8182\n",
      "Epoch 82/100\n",
      "20/20 [==============================] - 0s 2ms/step - loss: 0.4546 - accuracy: 0.7736 - val_loss: 0.4303 - val_accuracy: 0.8182\n",
      "Epoch 83/100\n",
      "20/20 [==============================] - 0s 2ms/step - loss: 0.4544 - accuracy: 0.7752 - val_loss: 0.4298 - val_accuracy: 0.8117\n",
      "Epoch 84/100\n",
      "20/20 [==============================] - 0s 2ms/step - loss: 0.4542 - accuracy: 0.7769 - val_loss: 0.4299 - val_accuracy: 0.8117\n",
      "Epoch 85/100\n",
      "20/20 [==============================] - 0s 2ms/step - loss: 0.4540 - accuracy: 0.7752 - val_loss: 0.4301 - val_accuracy: 0.8117\n",
      "Epoch 86/100\n",
      "20/20 [==============================] - 0s 2ms/step - loss: 0.4538 - accuracy: 0.7769 - val_loss: 0.4299 - val_accuracy: 0.8117\n",
      "Epoch 87/100\n",
      "20/20 [==============================] - 0s 2ms/step - loss: 0.4535 - accuracy: 0.7769 - val_loss: 0.4297 - val_accuracy: 0.8182\n",
      "Epoch 88/100\n",
      "20/20 [==============================] - 0s 2ms/step - loss: 0.4533 - accuracy: 0.7752 - val_loss: 0.4298 - val_accuracy: 0.8117\n",
      "Epoch 89/100\n",
      "20/20 [==============================] - 0s 2ms/step - loss: 0.4532 - accuracy: 0.7769 - val_loss: 0.4298 - val_accuracy: 0.8117\n",
      "Epoch 90/100\n",
      "20/20 [==============================] - 0s 2ms/step - loss: 0.4530 - accuracy: 0.7769 - val_loss: 0.4294 - val_accuracy: 0.8117\n",
      "Epoch 91/100\n",
      "20/20 [==============================] - 0s 2ms/step - loss: 0.4528 - accuracy: 0.7801 - val_loss: 0.4300 - val_accuracy: 0.8117\n",
      "Epoch 92/100\n",
      "20/20 [==============================] - 0s 2ms/step - loss: 0.4526 - accuracy: 0.7785 - val_loss: 0.4295 - val_accuracy: 0.8117\n",
      "Epoch 93/100\n",
      "20/20 [==============================] - 0s 2ms/step - loss: 0.4524 - accuracy: 0.7801 - val_loss: 0.4302 - val_accuracy: 0.8182\n",
      "Epoch 94/100\n",
      "20/20 [==============================] - 0s 2ms/step - loss: 0.4524 - accuracy: 0.7818 - val_loss: 0.4300 - val_accuracy: 0.8182\n",
      "Epoch 95/100\n",
      "20/20 [==============================] - 0s 2ms/step - loss: 0.4522 - accuracy: 0.7801 - val_loss: 0.4297 - val_accuracy: 0.8182\n",
      "Epoch 96/100\n",
      "20/20 [==============================] - 0s 2ms/step - loss: 0.4520 - accuracy: 0.7834 - val_loss: 0.4295 - val_accuracy: 0.8182\n",
      "Epoch 97/100\n",
      "20/20 [==============================] - 0s 2ms/step - loss: 0.4518 - accuracy: 0.7801 - val_loss: 0.4293 - val_accuracy: 0.8182\n",
      "Epoch 98/100\n",
      "20/20 [==============================] - 0s 2ms/step - loss: 0.4517 - accuracy: 0.7801 - val_loss: 0.4289 - val_accuracy: 0.8182\n",
      "Epoch 99/100\n",
      "20/20 [==============================] - 0s 2ms/step - loss: 0.4514 - accuracy: 0.7801 - val_loss: 0.4290 - val_accuracy: 0.8182\n",
      "Epoch 100/100\n",
      "20/20 [==============================] - 0s 2ms/step - loss: 0.4511 - accuracy: 0.7801 - val_loss: 0.4288 - val_accuracy: 0.8182\n"
     ]
    },
    {
     "data": {
      "text/plain": [
       "<keras.callbacks.History at 0x28b3cec6850>"
      ]
     },
     "execution_count": 56,
     "metadata": {},
     "output_type": "execute_result"
    }
   ],
   "source": [
    "model.fit(X_train,y_train,batch_size=32,epochs=100,initial_epoch=6,validation_data=(X_test,y_test))"
   ]
  },
  {
   "cell_type": "markdown",
   "id": "3fad7b29",
   "metadata": {},
   "source": [
    "# DROPOUTS"
   ]
  },
  {
   "cell_type": "code",
   "execution_count": 67,
   "id": "af3e5449",
   "metadata": {
    "ExecuteTime": {
     "end_time": "2022-08-29T12:15:33.516173Z",
     "start_time": "2022-08-29T12:15:33.508172Z"
    }
   },
   "outputs": [],
   "source": [
    "def build_model(hp):\n",
    "    model= Sequential()\n",
    "    \n",
    "    counter =0\n",
    "    \n",
    "    for i in range(hp.Int('num_layers',min_value=1,max_value=10)):\n",
    "        if counter ==0:\n",
    "            \n",
    "            model.add(Dense(hp.Int('units'+str(i),min_value=8,max_value=120,step=8),activation=hp.Choice('activation'+str(i), values=['relu','tanh','sigmoid'])))\n",
    "            model.add(Dropout(hp.Choice('dropout'+str(i),values=[0.1,0.2,0.3,0.4,0.5,0.6,0.7,0.8,0.9])))\n",
    "        else:\n",
    "                \n",
    "            model.add(Dense(hp.Int('units'+str(i),min_value=8,max_value=120,step=8),activation=hp.Choice('activation'+str(i), values=['relu','tanh','sigmoid'])))\n",
    "            model.add(Dropout(hp.Choice('dropout'+str(i),values=[0.1,0.2,0.3,0.4,0.5,0.6,0.7,0.8,0.9])))    \n",
    "        counter+=1\n",
    "        model.add(Dense(1,activation='sigmoid'))\n",
    "        \n",
    "        model.compile(optimizer=hp.Choice('optimizer',values=['adam','sgd','rmsprop','adadelta']),\n",
    "                           loss='binary_crossentropy',metrics=['accuracy'])\n",
    "        \n",
    "        return model"
   ]
  },
  {
   "cell_type": "code",
   "execution_count": 68,
   "id": "ea6e0a2a",
   "metadata": {
    "ExecuteTime": {
     "end_time": "2022-08-29T12:15:34.084839Z",
     "start_time": "2022-08-29T12:15:34.066795Z"
    }
   },
   "outputs": [],
   "source": [
    "tuner = kt.RandomSearch(build_model,\n",
    "                       objective='val_accuracy',\n",
    "                       max_trials=5,\n",
    "                       directory='keras_tuner_dir1',\n",
    "                       project_name='keras_tuner_demo6')"
   ]
  },
  {
   "cell_type": "code",
   "execution_count": 69,
   "id": "c2c90871",
   "metadata": {
    "ExecuteTime": {
     "end_time": "2022-08-29T12:15:39.352040Z",
     "start_time": "2022-08-29T12:15:34.554715Z"
    }
   },
   "outputs": [
    {
     "name": "stdout",
     "output_type": "stream",
     "text": [
      "Trial 5 Complete [00h 00m 01s]\n",
      "val_accuracy: 0.8246753215789795\n",
      "\n",
      "Best val_accuracy So Far: 0.8246753215789795\n",
      "Total elapsed time: 00h 00m 05s\n",
      "INFO:tensorflow:Oracle triggered exit\n"
     ]
    }
   ],
   "source": [
    "tuner.search(X_train,y_train,epochs=5,validation_data=(X_test,y_test))"
   ]
  },
  {
   "cell_type": "code",
   "execution_count": 70,
   "id": "a3f6a579",
   "metadata": {
    "ExecuteTime": {
     "end_time": "2022-08-29T12:15:42.770303Z",
     "start_time": "2022-08-29T12:15:42.751306Z"
    }
   },
   "outputs": [
    {
     "data": {
      "text/plain": [
       "{'num_layers': 7,\n",
       " 'units0': 80,\n",
       " 'activation0': 'relu',\n",
       " 'dropout0': 0.2,\n",
       " 'optimizer': 'rmsprop'}"
      ]
     },
     "execution_count": 70,
     "metadata": {},
     "output_type": "execute_result"
    }
   ],
   "source": [
    "tuner.get_best_hyperparameters()[0].values"
   ]
  },
  {
   "cell_type": "code",
   "execution_count": 71,
   "id": "d27f5af3",
   "metadata": {
    "ExecuteTime": {
     "end_time": "2022-08-29T12:15:43.620347Z",
     "start_time": "2022-08-29T12:15:43.335349Z"
    }
   },
   "outputs": [],
   "source": [
    "model=tuner.get_best_models(num_models=1)[0]"
   ]
  },
  {
   "cell_type": "code",
   "execution_count": 72,
   "id": "9e2c5dd0",
   "metadata": {
    "ExecuteTime": {
     "end_time": "2022-08-29T12:15:48.510006Z",
     "start_time": "2022-08-29T12:15:43.898348Z"
    }
   },
   "outputs": [
    {
     "name": "stdout",
     "output_type": "stream",
     "text": [
      "Epoch 7/100\n",
      "20/20 [==============================] - 1s 8ms/step - loss: 0.4986 - accuracy: 0.7590 - val_loss: 0.4396 - val_accuracy: 0.8182\n",
      "Epoch 8/100\n",
      "20/20 [==============================] - 0s 2ms/step - loss: 0.4872 - accuracy: 0.7573 - val_loss: 0.4308 - val_accuracy: 0.8182\n",
      "Epoch 9/100\n",
      "20/20 [==============================] - 0s 2ms/step - loss: 0.4719 - accuracy: 0.7752 - val_loss: 0.4279 - val_accuracy: 0.8247\n",
      "Epoch 10/100\n",
      "20/20 [==============================] - 0s 2ms/step - loss: 0.4706 - accuracy: 0.7899 - val_loss: 0.4229 - val_accuracy: 0.8377\n",
      "Epoch 11/100\n",
      "20/20 [==============================] - 0s 2ms/step - loss: 0.4721 - accuracy: 0.7687 - val_loss: 0.4201 - val_accuracy: 0.8247\n",
      "Epoch 12/100\n",
      "20/20 [==============================] - 0s 2ms/step - loss: 0.4681 - accuracy: 0.7720 - val_loss: 0.4190 - val_accuracy: 0.8247\n",
      "Epoch 13/100\n",
      "20/20 [==============================] - 0s 2ms/step - loss: 0.4624 - accuracy: 0.7720 - val_loss: 0.4200 - val_accuracy: 0.8182\n",
      "Epoch 14/100\n",
      "20/20 [==============================] - 0s 2ms/step - loss: 0.4659 - accuracy: 0.7704 - val_loss: 0.4179 - val_accuracy: 0.8247\n",
      "Epoch 15/100\n",
      "20/20 [==============================] - 0s 2ms/step - loss: 0.4635 - accuracy: 0.7834 - val_loss: 0.4187 - val_accuracy: 0.8117\n",
      "Epoch 16/100\n",
      "20/20 [==============================] - 0s 2ms/step - loss: 0.4646 - accuracy: 0.7671 - val_loss: 0.4217 - val_accuracy: 0.8117\n",
      "Epoch 17/100\n",
      "20/20 [==============================] - 0s 2ms/step - loss: 0.4534 - accuracy: 0.7818 - val_loss: 0.4218 - val_accuracy: 0.8117\n",
      "Epoch 18/100\n",
      "20/20 [==============================] - 0s 2ms/step - loss: 0.4595 - accuracy: 0.7769 - val_loss: 0.4209 - val_accuracy: 0.8117\n",
      "Epoch 19/100\n",
      "20/20 [==============================] - 0s 2ms/step - loss: 0.4600 - accuracy: 0.7752 - val_loss: 0.4183 - val_accuracy: 0.8052\n",
      "Epoch 20/100\n",
      "20/20 [==============================] - 0s 2ms/step - loss: 0.4530 - accuracy: 0.7557 - val_loss: 0.4175 - val_accuracy: 0.8117\n",
      "Epoch 21/100\n",
      "20/20 [==============================] - 0s 2ms/step - loss: 0.4482 - accuracy: 0.7850 - val_loss: 0.4172 - val_accuracy: 0.8247\n",
      "Epoch 22/100\n",
      "20/20 [==============================] - 0s 2ms/step - loss: 0.4501 - accuracy: 0.7899 - val_loss: 0.4185 - val_accuracy: 0.8052\n",
      "Epoch 23/100\n",
      "20/20 [==============================] - 0s 2ms/step - loss: 0.4456 - accuracy: 0.7736 - val_loss: 0.4202 - val_accuracy: 0.8052\n",
      "Epoch 24/100\n",
      "20/20 [==============================] - 0s 2ms/step - loss: 0.4532 - accuracy: 0.7736 - val_loss: 0.4219 - val_accuracy: 0.8052\n",
      "Epoch 25/100\n",
      "20/20 [==============================] - 0s 2ms/step - loss: 0.4476 - accuracy: 0.7834 - val_loss: 0.4231 - val_accuracy: 0.8117\n",
      "Epoch 26/100\n",
      "20/20 [==============================] - 0s 2ms/step - loss: 0.4607 - accuracy: 0.7752 - val_loss: 0.4217 - val_accuracy: 0.7987\n",
      "Epoch 27/100\n",
      "20/20 [==============================] - 0s 2ms/step - loss: 0.4525 - accuracy: 0.7801 - val_loss: 0.4214 - val_accuracy: 0.8052\n",
      "Epoch 28/100\n",
      "20/20 [==============================] - 0s 2ms/step - loss: 0.4498 - accuracy: 0.7818 - val_loss: 0.4214 - val_accuracy: 0.8052\n",
      "Epoch 29/100\n",
      "20/20 [==============================] - 0s 3ms/step - loss: 0.4468 - accuracy: 0.8029 - val_loss: 0.4232 - val_accuracy: 0.8052\n",
      "Epoch 30/100\n",
      "20/20 [==============================] - 0s 4ms/step - loss: 0.4510 - accuracy: 0.7818 - val_loss: 0.4245 - val_accuracy: 0.8117\n",
      "Epoch 31/100\n",
      "20/20 [==============================] - 0s 3ms/step - loss: 0.4512 - accuracy: 0.7818 - val_loss: 0.4253 - val_accuracy: 0.8052\n",
      "Epoch 32/100\n",
      "20/20 [==============================] - 0s 3ms/step - loss: 0.4475 - accuracy: 0.7899 - val_loss: 0.4235 - val_accuracy: 0.8052\n",
      "Epoch 33/100\n",
      "20/20 [==============================] - 0s 3ms/step - loss: 0.4489 - accuracy: 0.7834 - val_loss: 0.4242 - val_accuracy: 0.8052\n",
      "Epoch 34/100\n",
      "20/20 [==============================] - 0s 2ms/step - loss: 0.4428 - accuracy: 0.7769 - val_loss: 0.4255 - val_accuracy: 0.8052\n",
      "Epoch 35/100\n",
      "20/20 [==============================] - 0s 2ms/step - loss: 0.4461 - accuracy: 0.7801 - val_loss: 0.4251 - val_accuracy: 0.8052\n",
      "Epoch 36/100\n",
      "20/20 [==============================] - 0s 2ms/step - loss: 0.4405 - accuracy: 0.7818 - val_loss: 0.4253 - val_accuracy: 0.8052\n",
      "Epoch 37/100\n",
      "20/20 [==============================] - 0s 2ms/step - loss: 0.4552 - accuracy: 0.7736 - val_loss: 0.4275 - val_accuracy: 0.8182\n",
      "Epoch 38/100\n",
      "20/20 [==============================] - 0s 2ms/step - loss: 0.4408 - accuracy: 0.7899 - val_loss: 0.4263 - val_accuracy: 0.8117\n",
      "Epoch 39/100\n",
      "20/20 [==============================] - 0s 2ms/step - loss: 0.4439 - accuracy: 0.7866 - val_loss: 0.4282 - val_accuracy: 0.8182\n",
      "Epoch 40/100\n",
      "20/20 [==============================] - 0s 2ms/step - loss: 0.4445 - accuracy: 0.7785 - val_loss: 0.4292 - val_accuracy: 0.8182\n",
      "Epoch 41/100\n",
      "20/20 [==============================] - 0s 2ms/step - loss: 0.4514 - accuracy: 0.7834 - val_loss: 0.4278 - val_accuracy: 0.8117\n",
      "Epoch 42/100\n",
      "20/20 [==============================] - 0s 2ms/step - loss: 0.4434 - accuracy: 0.7915 - val_loss: 0.4294 - val_accuracy: 0.8182\n",
      "Epoch 43/100\n",
      "20/20 [==============================] - 0s 2ms/step - loss: 0.4411 - accuracy: 0.7948 - val_loss: 0.4284 - val_accuracy: 0.8117\n",
      "Epoch 44/100\n",
      "20/20 [==============================] - 0s 2ms/step - loss: 0.4316 - accuracy: 0.7997 - val_loss: 0.4294 - val_accuracy: 0.8052\n",
      "Epoch 45/100\n",
      "20/20 [==============================] - 0s 2ms/step - loss: 0.4334 - accuracy: 0.7980 - val_loss: 0.4315 - val_accuracy: 0.8117\n",
      "Epoch 46/100\n",
      "20/20 [==============================] - 0s 2ms/step - loss: 0.4449 - accuracy: 0.7899 - val_loss: 0.4305 - val_accuracy: 0.8117\n",
      "Epoch 47/100\n",
      "20/20 [==============================] - 0s 2ms/step - loss: 0.4336 - accuracy: 0.8046 - val_loss: 0.4291 - val_accuracy: 0.8117\n",
      "Epoch 48/100\n",
      "20/20 [==============================] - 0s 2ms/step - loss: 0.4343 - accuracy: 0.7899 - val_loss: 0.4297 - val_accuracy: 0.8247\n",
      "Epoch 49/100\n",
      "20/20 [==============================] - 0s 2ms/step - loss: 0.4373 - accuracy: 0.7964 - val_loss: 0.4324 - val_accuracy: 0.8247\n",
      "Epoch 50/100\n",
      "20/20 [==============================] - 0s 2ms/step - loss: 0.4427 - accuracy: 0.7964 - val_loss: 0.4339 - val_accuracy: 0.8182\n",
      "Epoch 51/100\n",
      "20/20 [==============================] - 0s 2ms/step - loss: 0.4361 - accuracy: 0.7948 - val_loss: 0.4308 - val_accuracy: 0.8182\n",
      "Epoch 52/100\n",
      "20/20 [==============================] - 0s 2ms/step - loss: 0.4319 - accuracy: 0.7932 - val_loss: 0.4317 - val_accuracy: 0.8182\n",
      "Epoch 53/100\n",
      "20/20 [==============================] - 0s 2ms/step - loss: 0.4404 - accuracy: 0.7834 - val_loss: 0.4336 - val_accuracy: 0.8182\n",
      "Epoch 54/100\n",
      "20/20 [==============================] - 0s 2ms/step - loss: 0.4289 - accuracy: 0.7980 - val_loss: 0.4340 - val_accuracy: 0.8247\n",
      "Epoch 55/100\n",
      "20/20 [==============================] - 0s 2ms/step - loss: 0.4419 - accuracy: 0.7883 - val_loss: 0.4337 - val_accuracy: 0.8182\n",
      "Epoch 56/100\n",
      "20/20 [==============================] - 0s 2ms/step - loss: 0.4306 - accuracy: 0.7948 - val_loss: 0.4371 - val_accuracy: 0.8182\n",
      "Epoch 57/100\n",
      "20/20 [==============================] - 0s 2ms/step - loss: 0.4301 - accuracy: 0.7899 - val_loss: 0.4349 - val_accuracy: 0.8247\n",
      "Epoch 58/100\n",
      "20/20 [==============================] - 0s 2ms/step - loss: 0.4344 - accuracy: 0.7850 - val_loss: 0.4338 - val_accuracy: 0.8182\n",
      "Epoch 59/100\n",
      "20/20 [==============================] - 0s 2ms/step - loss: 0.4350 - accuracy: 0.7997 - val_loss: 0.4353 - val_accuracy: 0.8182\n",
      "Epoch 60/100\n",
      "20/20 [==============================] - 0s 2ms/step - loss: 0.4340 - accuracy: 0.7850 - val_loss: 0.4351 - val_accuracy: 0.8182\n",
      "Epoch 61/100\n",
      "20/20 [==============================] - 0s 2ms/step - loss: 0.4283 - accuracy: 0.7997 - val_loss: 0.4342 - val_accuracy: 0.8247\n",
      "Epoch 62/100\n",
      "20/20 [==============================] - 0s 2ms/step - loss: 0.4327 - accuracy: 0.7948 - val_loss: 0.4320 - val_accuracy: 0.8247\n",
      "Epoch 63/100\n",
      "20/20 [==============================] - 0s 2ms/step - loss: 0.4368 - accuracy: 0.7932 - val_loss: 0.4321 - val_accuracy: 0.8377\n",
      "Epoch 64/100\n",
      "20/20 [==============================] - 0s 2ms/step - loss: 0.4383 - accuracy: 0.7915 - val_loss: 0.4319 - val_accuracy: 0.8377\n"
     ]
    },
    {
     "name": "stdout",
     "output_type": "stream",
     "text": [
      "Epoch 65/100\n",
      "20/20 [==============================] - 0s 2ms/step - loss: 0.4267 - accuracy: 0.7932 - val_loss: 0.4326 - val_accuracy: 0.8312\n",
      "Epoch 66/100\n",
      "20/20 [==============================] - 0s 2ms/step - loss: 0.4262 - accuracy: 0.8013 - val_loss: 0.4335 - val_accuracy: 0.8247\n",
      "Epoch 67/100\n",
      "20/20 [==============================] - 0s 2ms/step - loss: 0.4355 - accuracy: 0.7866 - val_loss: 0.4399 - val_accuracy: 0.8247\n",
      "Epoch 68/100\n",
      "20/20 [==============================] - 0s 2ms/step - loss: 0.4336 - accuracy: 0.7850 - val_loss: 0.4382 - val_accuracy: 0.8247\n",
      "Epoch 69/100\n",
      "20/20 [==============================] - 0s 2ms/step - loss: 0.4294 - accuracy: 0.7932 - val_loss: 0.4387 - val_accuracy: 0.8247\n",
      "Epoch 70/100\n",
      "20/20 [==============================] - 0s 2ms/step - loss: 0.4302 - accuracy: 0.7834 - val_loss: 0.4395 - val_accuracy: 0.8182\n",
      "Epoch 71/100\n",
      "20/20 [==============================] - 0s 2ms/step - loss: 0.4291 - accuracy: 0.8013 - val_loss: 0.4407 - val_accuracy: 0.8182\n",
      "Epoch 72/100\n",
      "20/20 [==============================] - 0s 2ms/step - loss: 0.4259 - accuracy: 0.7915 - val_loss: 0.4409 - val_accuracy: 0.8247\n",
      "Epoch 73/100\n",
      "20/20 [==============================] - 0s 2ms/step - loss: 0.4254 - accuracy: 0.8013 - val_loss: 0.4397 - val_accuracy: 0.8117\n",
      "Epoch 74/100\n",
      "20/20 [==============================] - 0s 2ms/step - loss: 0.4239 - accuracy: 0.7980 - val_loss: 0.4414 - val_accuracy: 0.8182\n",
      "Epoch 75/100\n",
      "20/20 [==============================] - 0s 2ms/step - loss: 0.4223 - accuracy: 0.8013 - val_loss: 0.4405 - val_accuracy: 0.8117\n",
      "Epoch 76/100\n",
      "20/20 [==============================] - 0s 2ms/step - loss: 0.4272 - accuracy: 0.7915 - val_loss: 0.4404 - val_accuracy: 0.8182\n",
      "Epoch 77/100\n",
      "20/20 [==============================] - 0s 2ms/step - loss: 0.4312 - accuracy: 0.8029 - val_loss: 0.4409 - val_accuracy: 0.8182\n",
      "Epoch 78/100\n",
      "20/20 [==============================] - 0s 2ms/step - loss: 0.4272 - accuracy: 0.7964 - val_loss: 0.4404 - val_accuracy: 0.8117\n",
      "Epoch 79/100\n",
      "20/20 [==============================] - 0s 2ms/step - loss: 0.4243 - accuracy: 0.7980 - val_loss: 0.4414 - val_accuracy: 0.8182\n",
      "Epoch 80/100\n",
      "20/20 [==============================] - 0s 2ms/step - loss: 0.4141 - accuracy: 0.8029 - val_loss: 0.4399 - val_accuracy: 0.8182\n",
      "Epoch 81/100\n",
      "20/20 [==============================] - 0s 2ms/step - loss: 0.4244 - accuracy: 0.7899 - val_loss: 0.4395 - val_accuracy: 0.8312\n",
      "Epoch 82/100\n",
      "20/20 [==============================] - 0s 2ms/step - loss: 0.4245 - accuracy: 0.7915 - val_loss: 0.4421 - val_accuracy: 0.8312\n",
      "Epoch 83/100\n",
      "20/20 [==============================] - 0s 2ms/step - loss: 0.4239 - accuracy: 0.8111 - val_loss: 0.4448 - val_accuracy: 0.8182\n",
      "Epoch 84/100\n",
      "20/20 [==============================] - 0s 3ms/step - loss: 0.4172 - accuracy: 0.8094 - val_loss: 0.4440 - val_accuracy: 0.8247\n",
      "Epoch 85/100\n",
      "20/20 [==============================] - 0s 2ms/step - loss: 0.4310 - accuracy: 0.7948 - val_loss: 0.4438 - val_accuracy: 0.8247\n",
      "Epoch 86/100\n",
      "20/20 [==============================] - 0s 2ms/step - loss: 0.4219 - accuracy: 0.8225 - val_loss: 0.4461 - val_accuracy: 0.8117\n",
      "Epoch 87/100\n",
      "20/20 [==============================] - 0s 2ms/step - loss: 0.4266 - accuracy: 0.7883 - val_loss: 0.4455 - val_accuracy: 0.8117\n",
      "Epoch 88/100\n",
      "20/20 [==============================] - 0s 2ms/step - loss: 0.4220 - accuracy: 0.7964 - val_loss: 0.4433 - val_accuracy: 0.8182\n",
      "Epoch 89/100\n",
      "20/20 [==============================] - 0s 2ms/step - loss: 0.4212 - accuracy: 0.7964 - val_loss: 0.4425 - val_accuracy: 0.8247\n",
      "Epoch 90/100\n",
      "20/20 [==============================] - 0s 2ms/step - loss: 0.4261 - accuracy: 0.8078 - val_loss: 0.4431 - val_accuracy: 0.8117\n",
      "Epoch 91/100\n",
      "20/20 [==============================] - 0s 2ms/step - loss: 0.4294 - accuracy: 0.7964 - val_loss: 0.4435 - val_accuracy: 0.8182\n",
      "Epoch 92/100\n",
      "20/20 [==============================] - 0s 2ms/step - loss: 0.4255 - accuracy: 0.7964 - val_loss: 0.4419 - val_accuracy: 0.8182\n",
      "Epoch 93/100\n",
      "20/20 [==============================] - 0s 2ms/step - loss: 0.4266 - accuracy: 0.8013 - val_loss: 0.4423 - val_accuracy: 0.8247\n",
      "Epoch 94/100\n",
      "20/20 [==============================] - 0s 2ms/step - loss: 0.4204 - accuracy: 0.8013 - val_loss: 0.4417 - val_accuracy: 0.8247\n",
      "Epoch 95/100\n",
      "20/20 [==============================] - 0s 2ms/step - loss: 0.4141 - accuracy: 0.7948 - val_loss: 0.4423 - val_accuracy: 0.8312\n",
      "Epoch 96/100\n",
      "20/20 [==============================] - 0s 2ms/step - loss: 0.4222 - accuracy: 0.7948 - val_loss: 0.4413 - val_accuracy: 0.8247\n",
      "Epoch 97/100\n",
      "20/20 [==============================] - 0s 2ms/step - loss: 0.4284 - accuracy: 0.7932 - val_loss: 0.4431 - val_accuracy: 0.8247\n",
      "Epoch 98/100\n",
      "20/20 [==============================] - 0s 2ms/step - loss: 0.4168 - accuracy: 0.8029 - val_loss: 0.4437 - val_accuracy: 0.8247\n",
      "Epoch 99/100\n",
      "20/20 [==============================] - 0s 2ms/step - loss: 0.4291 - accuracy: 0.7980 - val_loss: 0.4434 - val_accuracy: 0.8182\n",
      "Epoch 100/100\n",
      "20/20 [==============================] - 0s 3ms/step - loss: 0.4200 - accuracy: 0.7964 - val_loss: 0.4434 - val_accuracy: 0.8247\n"
     ]
    },
    {
     "data": {
      "text/plain": [
       "<keras.callbacks.History at 0x28b3c69e040>"
      ]
     },
     "execution_count": 72,
     "metadata": {},
     "output_type": "execute_result"
    }
   ],
   "source": [
    "model.fit(X_train,y_train,batch_size=32,epochs=100,initial_epoch=6,validation_data=(X_test,y_test))"
   ]
  },
  {
   "cell_type": "code",
   "execution_count": null,
   "id": "23dec86e",
   "metadata": {},
   "outputs": [],
   "source": []
  }
 ],
 "metadata": {
  "kernelspec": {
   "display_name": "Python 3 (ipykernel)",
   "language": "python",
   "name": "python3"
  },
  "language_info": {
   "codemirror_mode": {
    "name": "ipython",
    "version": 3
   },
   "file_extension": ".py",
   "mimetype": "text/x-python",
   "name": "python",
   "nbconvert_exporter": "python",
   "pygments_lexer": "ipython3",
   "version": "3.9.7"
  }
 },
 "nbformat": 4,
 "nbformat_minor": 5
}
